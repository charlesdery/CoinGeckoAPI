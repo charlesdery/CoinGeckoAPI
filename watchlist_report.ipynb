{
  "nbformat": 4,
  "nbformat_minor": 0,
  "metadata": {
    "colab": {
      "name": "watchlist_report.ipynb",
      "provenance": [],
      "collapsed_sections": [],
      "authorship_tag": "ABX9TyMdTttm8xujXeosHwb+JKgJ",
      "include_colab_link": true
    },
    "kernelspec": {
      "name": "python3",
      "display_name": "Python 3"
    },
    "language_info": {
      "name": "python"
    },
    "widgets": {
      "application/vnd.jupyter.widget-state+json": {
        "99469cf6fdbb4aeaba8554c0556beb94": {
          "model_module": "@jupyter-widgets/controls",
          "model_name": "HBoxModel",
          "model_module_version": "1.5.0",
          "state": {
            "_dom_classes": [],
            "_model_module": "@jupyter-widgets/controls",
            "_model_module_version": "1.5.0",
            "_model_name": "HBoxModel",
            "_view_count": null,
            "_view_module": "@jupyter-widgets/controls",
            "_view_module_version": "1.5.0",
            "_view_name": "HBoxView",
            "box_style": "",
            "children": [
              "IPY_MODEL_e519679ecd9c4693a6ccf6ad173195d0",
              "IPY_MODEL_972ae0a7fe7d45ac9b215034f6137f94",
              "IPY_MODEL_665d72d7841a4a03af5d586cb1e4360d"
            ],
            "layout": "IPY_MODEL_aa6c13de9b0d4c22a3f00b52d50e0843"
          }
        },
        "e519679ecd9c4693a6ccf6ad173195d0": {
          "model_module": "@jupyter-widgets/controls",
          "model_name": "HTMLModel",
          "model_module_version": "1.5.0",
          "state": {
            "_dom_classes": [],
            "_model_module": "@jupyter-widgets/controls",
            "_model_module_version": "1.5.0",
            "_model_name": "HTMLModel",
            "_view_count": null,
            "_view_module": "@jupyter-widgets/controls",
            "_view_module_version": "1.5.0",
            "_view_name": "HTMLView",
            "description": "",
            "description_tooltip": null,
            "layout": "IPY_MODEL_9ce383a482ef473ea8c8aae321a1365d",
            "placeholder": "​",
            "style": "IPY_MODEL_d82587b217d44eb992d2521ff3a54f3b",
            "value": "100%"
          }
        },
        "972ae0a7fe7d45ac9b215034f6137f94": {
          "model_module": "@jupyter-widgets/controls",
          "model_name": "FloatProgressModel",
          "model_module_version": "1.5.0",
          "state": {
            "_dom_classes": [],
            "_model_module": "@jupyter-widgets/controls",
            "_model_module_version": "1.5.0",
            "_model_name": "FloatProgressModel",
            "_view_count": null,
            "_view_module": "@jupyter-widgets/controls",
            "_view_module_version": "1.5.0",
            "_view_name": "ProgressView",
            "bar_style": "success",
            "description": "",
            "description_tooltip": null,
            "layout": "IPY_MODEL_a90951d13a6d4fd4b247ed4573137dc7",
            "max": 134,
            "min": 0,
            "orientation": "horizontal",
            "style": "IPY_MODEL_c13fe787413b4af7b52c50f6b5e146b4",
            "value": 134
          }
        },
        "665d72d7841a4a03af5d586cb1e4360d": {
          "model_module": "@jupyter-widgets/controls",
          "model_name": "HTMLModel",
          "model_module_version": "1.5.0",
          "state": {
            "_dom_classes": [],
            "_model_module": "@jupyter-widgets/controls",
            "_model_module_version": "1.5.0",
            "_model_name": "HTMLModel",
            "_view_count": null,
            "_view_module": "@jupyter-widgets/controls",
            "_view_module_version": "1.5.0",
            "_view_name": "HTMLView",
            "description": "",
            "description_tooltip": null,
            "layout": "IPY_MODEL_36e78ace3dbe45dfb98ca41250fcabb3",
            "placeholder": "​",
            "style": "IPY_MODEL_8baa2357f6544ff9b6d2d43b1d99f255",
            "value": " 134/134 [03:43&lt;00:00,  2.07s/it]"
          }
        },
        "aa6c13de9b0d4c22a3f00b52d50e0843": {
          "model_module": "@jupyter-widgets/base",
          "model_name": "LayoutModel",
          "model_module_version": "1.2.0",
          "state": {
            "_model_module": "@jupyter-widgets/base",
            "_model_module_version": "1.2.0",
            "_model_name": "LayoutModel",
            "_view_count": null,
            "_view_module": "@jupyter-widgets/base",
            "_view_module_version": "1.2.0",
            "_view_name": "LayoutView",
            "align_content": null,
            "align_items": null,
            "align_self": null,
            "border": null,
            "bottom": null,
            "display": null,
            "flex": null,
            "flex_flow": null,
            "grid_area": null,
            "grid_auto_columns": null,
            "grid_auto_flow": null,
            "grid_auto_rows": null,
            "grid_column": null,
            "grid_gap": null,
            "grid_row": null,
            "grid_template_areas": null,
            "grid_template_columns": null,
            "grid_template_rows": null,
            "height": null,
            "justify_content": null,
            "justify_items": null,
            "left": null,
            "margin": null,
            "max_height": null,
            "max_width": null,
            "min_height": null,
            "min_width": null,
            "object_fit": null,
            "object_position": null,
            "order": null,
            "overflow": null,
            "overflow_x": null,
            "overflow_y": null,
            "padding": null,
            "right": null,
            "top": null,
            "visibility": null,
            "width": null
          }
        },
        "9ce383a482ef473ea8c8aae321a1365d": {
          "model_module": "@jupyter-widgets/base",
          "model_name": "LayoutModel",
          "model_module_version": "1.2.0",
          "state": {
            "_model_module": "@jupyter-widgets/base",
            "_model_module_version": "1.2.0",
            "_model_name": "LayoutModel",
            "_view_count": null,
            "_view_module": "@jupyter-widgets/base",
            "_view_module_version": "1.2.0",
            "_view_name": "LayoutView",
            "align_content": null,
            "align_items": null,
            "align_self": null,
            "border": null,
            "bottom": null,
            "display": null,
            "flex": null,
            "flex_flow": null,
            "grid_area": null,
            "grid_auto_columns": null,
            "grid_auto_flow": null,
            "grid_auto_rows": null,
            "grid_column": null,
            "grid_gap": null,
            "grid_row": null,
            "grid_template_areas": null,
            "grid_template_columns": null,
            "grid_template_rows": null,
            "height": null,
            "justify_content": null,
            "justify_items": null,
            "left": null,
            "margin": null,
            "max_height": null,
            "max_width": null,
            "min_height": null,
            "min_width": null,
            "object_fit": null,
            "object_position": null,
            "order": null,
            "overflow": null,
            "overflow_x": null,
            "overflow_y": null,
            "padding": null,
            "right": null,
            "top": null,
            "visibility": null,
            "width": null
          }
        },
        "d82587b217d44eb992d2521ff3a54f3b": {
          "model_module": "@jupyter-widgets/controls",
          "model_name": "DescriptionStyleModel",
          "model_module_version": "1.5.0",
          "state": {
            "_model_module": "@jupyter-widgets/controls",
            "_model_module_version": "1.5.0",
            "_model_name": "DescriptionStyleModel",
            "_view_count": null,
            "_view_module": "@jupyter-widgets/base",
            "_view_module_version": "1.2.0",
            "_view_name": "StyleView",
            "description_width": ""
          }
        },
        "a90951d13a6d4fd4b247ed4573137dc7": {
          "model_module": "@jupyter-widgets/base",
          "model_name": "LayoutModel",
          "model_module_version": "1.2.0",
          "state": {
            "_model_module": "@jupyter-widgets/base",
            "_model_module_version": "1.2.0",
            "_model_name": "LayoutModel",
            "_view_count": null,
            "_view_module": "@jupyter-widgets/base",
            "_view_module_version": "1.2.0",
            "_view_name": "LayoutView",
            "align_content": null,
            "align_items": null,
            "align_self": null,
            "border": null,
            "bottom": null,
            "display": null,
            "flex": null,
            "flex_flow": null,
            "grid_area": null,
            "grid_auto_columns": null,
            "grid_auto_flow": null,
            "grid_auto_rows": null,
            "grid_column": null,
            "grid_gap": null,
            "grid_row": null,
            "grid_template_areas": null,
            "grid_template_columns": null,
            "grid_template_rows": null,
            "height": null,
            "justify_content": null,
            "justify_items": null,
            "left": null,
            "margin": null,
            "max_height": null,
            "max_width": null,
            "min_height": null,
            "min_width": null,
            "object_fit": null,
            "object_position": null,
            "order": null,
            "overflow": null,
            "overflow_x": null,
            "overflow_y": null,
            "padding": null,
            "right": null,
            "top": null,
            "visibility": null,
            "width": null
          }
        },
        "c13fe787413b4af7b52c50f6b5e146b4": {
          "model_module": "@jupyter-widgets/controls",
          "model_name": "ProgressStyleModel",
          "model_module_version": "1.5.0",
          "state": {
            "_model_module": "@jupyter-widgets/controls",
            "_model_module_version": "1.5.0",
            "_model_name": "ProgressStyleModel",
            "_view_count": null,
            "_view_module": "@jupyter-widgets/base",
            "_view_module_version": "1.2.0",
            "_view_name": "StyleView",
            "bar_color": null,
            "description_width": ""
          }
        },
        "36e78ace3dbe45dfb98ca41250fcabb3": {
          "model_module": "@jupyter-widgets/base",
          "model_name": "LayoutModel",
          "model_module_version": "1.2.0",
          "state": {
            "_model_module": "@jupyter-widgets/base",
            "_model_module_version": "1.2.0",
            "_model_name": "LayoutModel",
            "_view_count": null,
            "_view_module": "@jupyter-widgets/base",
            "_view_module_version": "1.2.0",
            "_view_name": "LayoutView",
            "align_content": null,
            "align_items": null,
            "align_self": null,
            "border": null,
            "bottom": null,
            "display": null,
            "flex": null,
            "flex_flow": null,
            "grid_area": null,
            "grid_auto_columns": null,
            "grid_auto_flow": null,
            "grid_auto_rows": null,
            "grid_column": null,
            "grid_gap": null,
            "grid_row": null,
            "grid_template_areas": null,
            "grid_template_columns": null,
            "grid_template_rows": null,
            "height": null,
            "justify_content": null,
            "justify_items": null,
            "left": null,
            "margin": null,
            "max_height": null,
            "max_width": null,
            "min_height": null,
            "min_width": null,
            "object_fit": null,
            "object_position": null,
            "order": null,
            "overflow": null,
            "overflow_x": null,
            "overflow_y": null,
            "padding": null,
            "right": null,
            "top": null,
            "visibility": null,
            "width": null
          }
        },
        "8baa2357f6544ff9b6d2d43b1d99f255": {
          "model_module": "@jupyter-widgets/controls",
          "model_name": "DescriptionStyleModel",
          "model_module_version": "1.5.0",
          "state": {
            "_model_module": "@jupyter-widgets/controls",
            "_model_module_version": "1.5.0",
            "_model_name": "DescriptionStyleModel",
            "_view_count": null,
            "_view_module": "@jupyter-widgets/base",
            "_view_module_version": "1.2.0",
            "_view_name": "StyleView",
            "description_width": ""
          }
        }
      }
    }
  },
  "cells": [
    {
      "cell_type": "markdown",
      "metadata": {
        "id": "view-in-github",
        "colab_type": "text"
      },
      "source": [
        "<a href=\"https://colab.research.google.com/github/custom-hyper/CoinGeckoAPI/blob/main/watchlist_report.ipynb\" target=\"_parent\"><img src=\"https://colab.research.google.com/assets/colab-badge.svg\" alt=\"Open In Colab\"/></a>"
      ]
    },
    {
      "cell_type": "markdown",
      "source": [
        ""
      ],
      "metadata": {
        "id": "UzdbdQAquXzi"
      }
    },
    {
      "cell_type": "markdown",
      "metadata": {
        "id": "3_rFSz85Oj3u"
      },
      "source": [
        "#Project Setup"
      ]
    },
    {
      "cell_type": "markdown",
      "source": [
        ""
      ],
      "metadata": {
        "id": "tbB5g3qzEzGh"
      }
    },
    {
      "cell_type": "code",
      "metadata": {
        "id": "5m4_0fgAPIA4",
        "colab": {
          "base_uri": "https://localhost:8080/"
        },
        "outputId": "312be8f8-c485-4b94-97af-db3393f2e7b5"
      },
      "source": [
        "#@title Install Libraries { display-mode: \"code\" }\n",
        "!pip install plotly\n",
        "!pip install pytrends\n",
        "!pip install pycoingecko\n",
        "!pip install pandas\n",
        "!pip install tweepy\n",
        "!pip install requests\n",
        "!pip install pycoingecko\n"
      ],
      "execution_count": 1,
      "outputs": [
        {
          "output_type": "stream",
          "name": "stdout",
          "text": [
            "Requirement already satisfied: plotly in /usr/local/lib/python3.7/dist-packages (5.5.0)\n",
            "Requirement already satisfied: tenacity>=6.2.0 in /usr/local/lib/python3.7/dist-packages (from plotly) (8.0.1)\n",
            "Requirement already satisfied: six in /usr/local/lib/python3.7/dist-packages (from plotly) (1.15.0)\n",
            "Collecting pytrends\n",
            "  Downloading pytrends-4.8.0.tar.gz (19 kB)\n",
            "Requirement already satisfied: requests>=2.0 in /usr/local/lib/python3.7/dist-packages (from pytrends) (2.23.0)\n",
            "Requirement already satisfied: pandas>=0.25 in /usr/local/lib/python3.7/dist-packages (from pytrends) (1.3.5)\n",
            "Requirement already satisfied: lxml in /usr/local/lib/python3.7/dist-packages (from pytrends) (4.2.6)\n",
            "Requirement already satisfied: numpy>=1.17.3 in /usr/local/lib/python3.7/dist-packages (from pandas>=0.25->pytrends) (1.21.5)\n",
            "Requirement already satisfied: python-dateutil>=2.7.3 in /usr/local/lib/python3.7/dist-packages (from pandas>=0.25->pytrends) (2.8.2)\n",
            "Requirement already satisfied: pytz>=2017.3 in /usr/local/lib/python3.7/dist-packages (from pandas>=0.25->pytrends) (2018.9)\n",
            "Requirement already satisfied: six>=1.5 in /usr/local/lib/python3.7/dist-packages (from python-dateutil>=2.7.3->pandas>=0.25->pytrends) (1.15.0)\n",
            "Requirement already satisfied: idna<3,>=2.5 in /usr/local/lib/python3.7/dist-packages (from requests>=2.0->pytrends) (2.10)\n",
            "Requirement already satisfied: urllib3!=1.25.0,!=1.25.1,<1.26,>=1.21.1 in /usr/local/lib/python3.7/dist-packages (from requests>=2.0->pytrends) (1.24.3)\n",
            "Requirement already satisfied: certifi>=2017.4.17 in /usr/local/lib/python3.7/dist-packages (from requests>=2.0->pytrends) (2021.10.8)\n",
            "Requirement already satisfied: chardet<4,>=3.0.2 in /usr/local/lib/python3.7/dist-packages (from requests>=2.0->pytrends) (3.0.4)\n",
            "Building wheels for collected packages: pytrends\n",
            "  Building wheel for pytrends (setup.py) ... \u001b[?25l\u001b[?25hdone\n",
            "  Created wheel for pytrends: filename=pytrends-4.8.0-py3-none-any.whl size=16126 sha256=a12cc68a83904c7328cb2a35b2b8cb2ce4ff14e206067b153d85975e837f28cd\n",
            "  Stored in directory: /root/.cache/pip/wheels/07/6f/5c/8174f98dec1bfbc7d5da4092854afcbcff4b26c3d9b66b5183\n",
            "Successfully built pytrends\n",
            "Installing collected packages: pytrends\n",
            "Successfully installed pytrends-4.8.0\n",
            "Collecting pycoingecko\n",
            "  Downloading pycoingecko-2.2.0-py3-none-any.whl (8.3 kB)\n",
            "Requirement already satisfied: requests in /usr/local/lib/python3.7/dist-packages (from pycoingecko) (2.23.0)\n",
            "Requirement already satisfied: idna<3,>=2.5 in /usr/local/lib/python3.7/dist-packages (from requests->pycoingecko) (2.10)\n",
            "Requirement already satisfied: chardet<4,>=3.0.2 in /usr/local/lib/python3.7/dist-packages (from requests->pycoingecko) (3.0.4)\n",
            "Requirement already satisfied: certifi>=2017.4.17 in /usr/local/lib/python3.7/dist-packages (from requests->pycoingecko) (2021.10.8)\n",
            "Requirement already satisfied: urllib3!=1.25.0,!=1.25.1,<1.26,>=1.21.1 in /usr/local/lib/python3.7/dist-packages (from requests->pycoingecko) (1.24.3)\n",
            "Installing collected packages: pycoingecko\n",
            "Successfully installed pycoingecko-2.2.0\n",
            "Requirement already satisfied: pandas in /usr/local/lib/python3.7/dist-packages (1.3.5)\n",
            "Requirement already satisfied: pytz>=2017.3 in /usr/local/lib/python3.7/dist-packages (from pandas) (2018.9)\n",
            "Requirement already satisfied: numpy>=1.17.3 in /usr/local/lib/python3.7/dist-packages (from pandas) (1.21.5)\n",
            "Requirement already satisfied: python-dateutil>=2.7.3 in /usr/local/lib/python3.7/dist-packages (from pandas) (2.8.2)\n",
            "Requirement already satisfied: six>=1.5 in /usr/local/lib/python3.7/dist-packages (from python-dateutil>=2.7.3->pandas) (1.15.0)\n",
            "Requirement already satisfied: tweepy in /usr/local/lib/python3.7/dist-packages (3.10.0)\n",
            "Requirement already satisfied: requests[socks]>=2.11.1 in /usr/local/lib/python3.7/dist-packages (from tweepy) (2.23.0)\n",
            "Requirement already satisfied: requests-oauthlib>=0.7.0 in /usr/local/lib/python3.7/dist-packages (from tweepy) (1.3.1)\n",
            "Requirement already satisfied: six>=1.10.0 in /usr/local/lib/python3.7/dist-packages (from tweepy) (1.15.0)\n",
            "Requirement already satisfied: oauthlib>=3.0.0 in /usr/local/lib/python3.7/dist-packages (from requests-oauthlib>=0.7.0->tweepy) (3.2.0)\n",
            "Requirement already satisfied: chardet<4,>=3.0.2 in /usr/local/lib/python3.7/dist-packages (from requests[socks]>=2.11.1->tweepy) (3.0.4)\n",
            "Requirement already satisfied: idna<3,>=2.5 in /usr/local/lib/python3.7/dist-packages (from requests[socks]>=2.11.1->tweepy) (2.10)\n",
            "Requirement already satisfied: certifi>=2017.4.17 in /usr/local/lib/python3.7/dist-packages (from requests[socks]>=2.11.1->tweepy) (2021.10.8)\n",
            "Requirement already satisfied: urllib3!=1.25.0,!=1.25.1,<1.26,>=1.21.1 in /usr/local/lib/python3.7/dist-packages (from requests[socks]>=2.11.1->tweepy) (1.24.3)\n",
            "Requirement already satisfied: PySocks!=1.5.7,>=1.5.6 in /usr/local/lib/python3.7/dist-packages (from requests[socks]>=2.11.1->tweepy) (1.7.1)\n",
            "Requirement already satisfied: requests in /usr/local/lib/python3.7/dist-packages (2.23.0)\n",
            "Requirement already satisfied: chardet<4,>=3.0.2 in /usr/local/lib/python3.7/dist-packages (from requests) (3.0.4)\n",
            "Requirement already satisfied: idna<3,>=2.5 in /usr/local/lib/python3.7/dist-packages (from requests) (2.10)\n",
            "Requirement already satisfied: urllib3!=1.25.0,!=1.25.1,<1.26,>=1.21.1 in /usr/local/lib/python3.7/dist-packages (from requests) (1.24.3)\n",
            "Requirement already satisfied: certifi>=2017.4.17 in /usr/local/lib/python3.7/dist-packages (from requests) (2021.10.8)\n",
            "Requirement already satisfied: pycoingecko in /usr/local/lib/python3.7/dist-packages (2.2.0)\n",
            "Requirement already satisfied: requests in /usr/local/lib/python3.7/dist-packages (from pycoingecko) (2.23.0)\n",
            "Requirement already satisfied: urllib3!=1.25.0,!=1.25.1,<1.26,>=1.21.1 in /usr/local/lib/python3.7/dist-packages (from requests->pycoingecko) (1.24.3)\n",
            "Requirement already satisfied: chardet<4,>=3.0.2 in /usr/local/lib/python3.7/dist-packages (from requests->pycoingecko) (3.0.4)\n",
            "Requirement already satisfied: idna<3,>=2.5 in /usr/local/lib/python3.7/dist-packages (from requests->pycoingecko) (2.10)\n",
            "Requirement already satisfied: certifi>=2017.4.17 in /usr/local/lib/python3.7/dist-packages (from requests->pycoingecko) (2021.10.8)\n"
          ]
        }
      ]
    },
    {
      "cell_type": "markdown",
      "metadata": {
        "id": "sDymunfdxzyI"
      },
      "source": [
        "# CoinGecko API Statistics Report"
      ]
    },
    {
      "cell_type": "code",
      "source": [
        "#@title Available Currencies { display-mode: \"code\" }\n",
        "import requests\n",
        "import datetime\n",
        "import time\n",
        "import json\n",
        "from google.colab import data_table\n",
        "import plotly.graph_objects as go\n",
        "import pandas as pd\n",
        "import matplotlib.pyplot as plt\n",
        "from pandas.io.json import json_normalize\n",
        "from pycoingecko import CoinGeckoAPI\n",
        "\n",
        "#General Information table\n",
        "\n",
        "def currency_stats(url):\n",
        "    \"\"\"\n",
        "    Generates a list of the currencies on CoinGecko\n",
        "    Args: url of the CoinGecko website\n",
        "\n",
        "    \"\"\"\n",
        "    frames = []\n",
        "    response = requests.get(url)\n",
        "    data = response.json()\n",
        "\n",
        "    df = pd.DataFrame (data)\n",
        "\n",
        "    print('Stats: ')\n",
        "    print(df.info(verbose=True))\n",
        "    print(df.isnull().sum())\n",
        "    print(data)\n",
        "\n",
        "    print(df.describe())\n",
        "\n",
        "def main():\n",
        "\n",
        "    url = \"https://api.coingecko.com/api/v3/simple/supported_vs_currencies\"\n",
        "    currency_stats(url)\n",
        "\n",
        "if __name__ == \"__main__\":\n",
        "    main()\n",
        "\n"
      ],
      "metadata": {
        "id": "aG_Ot5aN_OMT",
        "colab": {
          "base_uri": "https://localhost:8080/"
        },
        "outputId": "8b95a2b2-a4fa-4ba4-906a-a6b2ab48237e"
      },
      "execution_count": 3,
      "outputs": [
        {
          "output_type": "stream",
          "name": "stdout",
          "text": [
            "Stats: \n",
            "<class 'pandas.core.frame.DataFrame'>\n",
            "RangeIndex: 61 entries, 0 to 60\n",
            "Data columns (total 1 columns):\n",
            " #   Column  Non-Null Count  Dtype \n",
            "---  ------  --------------  ----- \n",
            " 0   0       61 non-null     object\n",
            "dtypes: object(1)\n",
            "memory usage: 616.0+ bytes\n",
            "None\n",
            "0    0\n",
            "dtype: int64\n",
            "['btc', 'eth', 'ltc', 'bch', 'bnb', 'eos', 'xrp', 'xlm', 'link', 'dot', 'yfi', 'usd', 'aed', 'ars', 'aud', 'bdt', 'bhd', 'bmd', 'brl', 'cad', 'chf', 'clp', 'cny', 'czk', 'dkk', 'eur', 'gbp', 'hkd', 'huf', 'idr', 'ils', 'inr', 'jpy', 'krw', 'kwd', 'lkr', 'mmk', 'mxn', 'myr', 'ngn', 'nok', 'nzd', 'php', 'pkr', 'pln', 'rub', 'sar', 'sek', 'sgd', 'thb', 'try', 'twd', 'uah', 'vef', 'vnd', 'zar', 'xdr', 'xag', 'xau', 'bits', 'sats']\n",
            "          0\n",
            "count    61\n",
            "unique   61\n",
            "top     btc\n",
            "freq      1\n"
          ]
        }
      ]
    },
    {
      "cell_type": "code",
      "source": [
        "#@title Available Coins { display-mode: \"code\" }\n",
        "import requests\n",
        "import datetime\n",
        "import time\n",
        "import json\n",
        "from google.colab import data_table\n",
        "import plotly.graph_objects as go\n",
        "import pandas as pd\n",
        "import matplotlib.pyplot as plt\n",
        "from pandas.io.json import json_normalize\n",
        "\n",
        "#General Information table\n",
        "\n",
        "def coins_stats(url):\n",
        "    \"\"\"\n",
        "    Generates a list of the coins on CoinGecko\n",
        "    Args: url of the CoinGecko website\n",
        "\n",
        "    \"\"\"\n",
        "    frames = []\n",
        "    response = requests.get(url)\n",
        "    data = response.json()\n",
        "\n",
        "    \n",
        "    df = pd.DataFrame (data)\n",
        "\n",
        "    print('Stats: ')\n",
        "    print(df.info(verbose=True))\n",
        "    print(df.isnull().sum())\n",
        "    print(df.describe())\n",
        "   \n",
        "\n",
        "\n",
        "\n",
        "def main():\n",
        "  url = \"https://api.coingecko.com/api/v3/coins/list\"\n",
        "\n",
        "  coins_stats(url)\n",
        "\n",
        "\n",
        "if __name__ == \"__main__\":\n",
        "    main()"
      ],
      "metadata": {
        "id": "CpfyE_IK70Aj",
        "colab": {
          "base_uri": "https://localhost:8080/"
        },
        "outputId": "61f7d2aa-eded-4a54-ff9c-e24118ff667c"
      },
      "execution_count": 4,
      "outputs": [
        {
          "output_type": "stream",
          "name": "stdout",
          "text": [
            "Stats: \n",
            "<class 'pandas.core.frame.DataFrame'>\n",
            "RangeIndex: 13422 entries, 0 to 13421\n",
            "Data columns (total 3 columns):\n",
            " #   Column  Non-Null Count  Dtype \n",
            "---  ------  --------------  ----- \n",
            " 0   id      13422 non-null  object\n",
            " 1   symbol  13422 non-null  object\n",
            " 2   name    13422 non-null  object\n",
            "dtypes: object(3)\n",
            "memory usage: 314.7+ KB\n",
            "None\n",
            "id        0\n",
            "symbol    0\n",
            "name      0\n",
            "dtype: int64\n",
            "            id symbol    name\n",
            "count    13422  13422   13422\n",
            "unique   13422  11171   13422\n",
            "top     01coin   moon  01coin\n",
            "freq         1     10       1\n"
          ]
        }
      ]
    },
    {
      "cell_type": "markdown",
      "source": [
        "# CoinGecko API Extraction"
      ],
      "metadata": {
        "id": "XVcNrRwDAIvd"
      }
    },
    {
      "cell_type": "code",
      "source": [
        "#@title  Download Coins Data Reports { display-mode: \"code\" }\n",
        "import requests\n",
        "import datetime\n",
        "import time\n",
        "import json\n",
        "from google.colab import data_table\n",
        "import plotly.graph_objects as go\n",
        "import pandas as pd\n",
        "import matplotlib.pyplot as plt\n",
        "from pandas.io.json import json_normalize\n",
        "import logging\n",
        "import sys\n",
        "from tqdm.notebook import tqdm\n",
        "\n",
        "currency = 'usd'\n",
        "pages = range(1, 135)  #can find the number of pages by dividing the total number of coins by 100\n",
        "\n",
        "frames=[]\n",
        "\n",
        "for page_num in tqdm(pages):\n",
        "\n",
        "    url = \"https://api.coingecko.com/api/v3/coins/markets?vs_currency={}&order=market_cap_desc&per_page=100&page={}&sparkline=false&price_change_percentage=1h%2C%2024h%2C%207d%2C14d%2C30d%2C200d%2C1y\".format(currency, page_num)\n",
        "    \n",
        "    #Obtain JSON formatted data\n",
        "    response = requests.get(url)\n",
        "    data = response.json()\n",
        "\n",
        "    #Convert data to list of dataframes\n",
        "    full_table = pd.json_normalize(data)       \n",
        "    results = [full_table]\n",
        "    frames.append(full_table)\n",
        "\n",
        "    #Slow down requests\n",
        "\n",
        "\n",
        "    #Status report\n",
        "    logging.info('Page '+ str(page_num)+ ' – Rows ' + str(len(full_table)) + ' – source: '+ str(url) )\n",
        "\n",
        "    \n",
        " \n",
        "single = pd.concat(frames) #Careful, this line must be outside of the for loop\n",
        "\n",
        "\n",
        "\n",
        "single.to_excel('HelloCoins_List_{}.xlsx'.format(currency))\n"
      ],
      "metadata": {
        "colab": {
          "base_uri": "https://localhost:8080/",
          "height": 49,
          "referenced_widgets": [
            "99469cf6fdbb4aeaba8554c0556beb94",
            "e519679ecd9c4693a6ccf6ad173195d0",
            "972ae0a7fe7d45ac9b215034f6137f94",
            "665d72d7841a4a03af5d586cb1e4360d",
            "aa6c13de9b0d4c22a3f00b52d50e0843",
            "9ce383a482ef473ea8c8aae321a1365d",
            "d82587b217d44eb992d2521ff3a54f3b",
            "a90951d13a6d4fd4b247ed4573137dc7",
            "c13fe787413b4af7b52c50f6b5e146b4",
            "36e78ace3dbe45dfb98ca41250fcabb3",
            "8baa2357f6544ff9b6d2d43b1d99f255"
          ]
        },
        "id": "omzIJ-K6lijc",
        "outputId": "f1b538a0-8616-4d3e-e520-67e61eef8454"
      },
      "execution_count": 23,
      "outputs": [
        {
          "output_type": "display_data",
          "data": {
            "text/plain": [
              "  0%|          | 0/134 [00:00<?, ?it/s]"
            ],
            "application/vnd.jupyter.widget-view+json": {
              "version_major": 2,
              "version_minor": 0,
              "model_id": "99469cf6fdbb4aeaba8554c0556beb94"
            }
          },
          "metadata": {}
        }
      ]
    },
    {
      "cell_type": "code",
      "source": [
        "#General Information table\n",
        "i = 'helium'\n",
        "response = requests.get(\"https://api.coingecko.com/api/v3/coins/{}\".format(i))\n",
        "output = response.text\n",
        "json_parsed = json.loads(output)\n",
        "\n",
        "\n",
        "print('')  \n",
        "print('MARKET DATA')  \n",
        "print('')  \n",
        "\n",
        "\n",
        "#Indicators\n",
        "\n",
        "# Description\n",
        "id = json_parsed['id']\n",
        "symbol = json_parsed['symbol']\n",
        "name = json_parsed['name']\n",
        "asset_platform_id = json_parsed['asset_platform_id']\n",
        "platforms = json_parsed['platforms']\n",
        "localization = json_parsed['localization']\n",
        "public_notice = json_parsed['public_notice']\n",
        "\n",
        "categories = json_parsed['links']['categories']\n",
        "categories_1 = json_parsed['links']['categories'][0]\n",
        "categories_2 = json_parsed['links']['categories'][1]\n",
        "categories_3 = json_parsed['links']['categories'][2]\n",
        "\n",
        "description = json_parsed['description']['en']\n",
        "short_desc = json_parsed['ico_data']['short_desc']\n",
        "\n",
        "# forum\n",
        "official_forum_url = json_parsed['links']['official_forum_url']\n",
        "official_forum_url_1 = json_parsed['links']['official_forum_url'][0]\n",
        "official_forum_url_2 = json_parsed['links']['official_forum_url'][1]\n",
        "official_forum_url_3 = json_parsed['links']['official_forum_url'][2]\n",
        "\n",
        "# Link\n",
        "links = json_parsed['links']\n",
        "\n",
        "# Medium\n",
        "links_announcement_url_medium = json_parsed['links']['announcement_url'][0]\n",
        "\n",
        "# forum\n",
        "links_announcement_url_forum = json_parsed['links']['announcement_url'][1]\n",
        "\n",
        "# Homepage\n",
        "links_homepage_1 = json_parsed['links']['homepage'][0]\n",
        "links_homepage_2 = json_parsed['links']['homepage'][1]\n",
        "links_homepage_3 = json_parsed['links']['homepage'][2]\n",
        "\n",
        "# Twitter\n",
        "links_twitter_screen_name = json_parsed['links']['twitter_screen_name']\n",
        "account_twitter = '@{}'.format(json_parsed['links']['twitter_screen_name'])\n",
        "links_twitter = 'https://twitter.com/{}'.format(json_parsed['links']['twitter_screen_name'])\n",
        "\n",
        "market_cap = json_parsed['market_data']['market_cap']['usd']\n",
        "fdv_to_tvl_rati = json_parsed['market_data']['fdv_to_tvl_ratio']\n",
        "mcap_to_tvl_ratio = json_parsed['market_data']['mcap_to_tvl_ratio']\n",
        "fully_diluted_valuation = json_parsed['fully_diluted_valuation']\n",
        "dilution_ratio = fully_diluted_valuation / market_cap\n",
        "\n",
        "\n",
        "total_volume = json_parsed['market_data']['total_volume']['usd']\n",
        "total_supply_rotation = total_volume / circulating_supply\n",
        "\n",
        "# Tokenomics\n",
        "\n",
        "total_value_locked = json_parsed['market_data']['total_value_locked']\n",
        "total_supply = json_parsed['total_supply']\n",
        "max_supply = json_parsed['max_supply']\n",
        "circulating_supply = json_parsed['circulating_supply']\n",
        "\n",
        "supply_expansion = max_supply / circulating_supply\n",
        "\n",
        "# volume\n",
        "total_volume = json_parsed['market_data']['total_volume']['usd']\n",
        "float_rotation = / circulating_supply\n",
        "\n",
        "price_change_percentage_7d = json_parsed['market_data']['price_change_percentage_7d']\n",
        "price_change_percentage_14d = json_parsed['market_data']['price_change_percentage_14d']\n",
        "price_change_percentage_30d = json_parsed['market_data']['price_change_percentage_30d']\n",
        "price_change_percentage_60d = json_parsed['market_data']['price_change_percentage_60d']\n",
        "price_change_percentage_200d = json_parsed['market_data']['price_change_percentage_200d']\n",
        "price_change_percentage_1y = json_parsed['market_data']['price_change_percentage_1y']\n",
        "\n",
        "# Community\n",
        "community_data = json_parsed['community_data']\n",
        "community_data_reddit_subscribers = json_parsed['community_data']['reddit_subscribers']\n",
        "community_data_telegram_channel_user_count = json_parsed['community_data']['telegram_channel_user_count']\n",
        "community_data_twitter_followers = json_parsed['community_data']['twitter_followers']\n",
        "\n",
        "market_cap_twitter_followers_ratio = market_cap / community_data_twitter_followers\n",
        "market_cap_reddit_subscribers_ratio = market_cap / community_data_reddit_subscribers\n",
        "market_cap_telegram_channel_user_count_ratio = market_cap / community_data_telegram_channel_user_count\n",
        "\n",
        "# CoinGecko Score\n",
        "CoinGecko_market_cap_rank = json_parsed['market_cap_rank']\n",
        "CoinGecko_coingecko_rank = json_parsed['coingecko_rank']\n",
        "CoinGecko_coingecko_score = json_parsed['coingecko_score']\n",
        "CoinGecko_developer_score = json_parsed['developer_score']\n",
        "CoinGecko_community_score = json_parsed['community_score']\n",
        "CoinGecko_liquidity_score = json_parsed['liquidity_score']\n",
        "\n",
        "market_cap_CoinGecko_coingecko_score_ratio = \n",
        "market_cap__ratio\n",
        "market_cap__ratio\n",
        "market_cap__ratio\n",
        "market_cap__ratio\n",
        "\n",
        "\n",
        "\n",
        "developer_data = json_parsed['developer_data']\n",
        "sentiment_votes_down_percentage =  json_parsed['sentiment_votes_down_percentage']\n",
        "sentiment_votes_percentageup_ =  json_parsed['sentiment_votes_percentageup_']\n",
        "\n",
        "df_community_data = pd.DataFrame(data=community_data, index=[0])\n"
      ],
      "metadata": {
        "colab": {
          "base_uri": "https://localhost:8080/"
        },
        "id": "zDbHILx-MnfE",
        "outputId": "39c1d6ae-a340-4a1a-8bb3-dcc42e8b683f"
      },
      "execution_count": 87,
      "outputs": [
        {
          "output_type": "execute_result",
          "data": {
            "text/plain": [
              "15595.258420779484"
            ]
          },
          "metadata": {},
          "execution_count": 87
        }
      ]
    },
    {
      "cell_type": "code",
      "source": [
        "#General Information table\n",
        "i = 'helium'\n",
        "response = requests.get(\"https://api.coingecko.com/api/v3/coins/{}\".format(i))\n",
        "output = response.text\n",
        "json_parsed = json.loads(output)\n",
        "\n",
        "\n",
        "print('')  \n",
        "print('MARKET DATA')  \n",
        "print('')  \n",
        "\n",
        "\n",
        "#Indicators\n",
        "\n",
        "# Description\n",
        "id = json_parsed['id']\n",
        "symbol = json_parsed['symbol']\n",
        "name = json_parsed['name']\n",
        "asset_platform_id = json_parsed['asset_platform_id']\n",
        "platforms = json_parsed['platforms']\n",
        "localization = json_parsed['localization']\n",
        "public_notice = json_parsed['public_notice']\n",
        "\n",
        "categories = json_parsed['links']['categories']\n",
        "categories_1 = json_parsed['links']['categories'][0]\n",
        "categories_2 = json_parsed['links']['categories'][1]\n",
        "categories_3 = json_parsed['links']['categories'][2]\n",
        "\n",
        "description = json_parsed['description']['en']\n",
        "short_desc = json_parsed['ico_data']['short_desc']\n",
        "\n",
        "# forum\n",
        "official_forum_url = json_parsed['links']['official_forum_url']\n",
        "official_forum_url_1 = json_parsed['links']['official_forum_url'][0]\n",
        "official_forum_url_2 = json_parsed['links']['official_forum_url'][1]\n",
        "official_forum_url_3 = json_parsed['links']['official_forum_url'][2]\n",
        "\n",
        "# Link\n",
        "links = json_parsed['links']\n",
        "\n",
        "# Medium\n",
        "links_announcement_url_medium = json_parsed['links']['announcement_url'][0]\n",
        "\n",
        "# forum\n",
        "links_announcement_url_forum = json_parsed['links']['announcement_url'][1]\n",
        "\n",
        "# Homepage\n",
        "links_homepage_1 = json_parsed['links']['homepage'][0]\n",
        "links_homepage_2 = json_parsed['links']['homepage'][1]\n",
        "links_homepage_3 = json_parsed['links']['homepage'][2]\n",
        "\n",
        "# Twitter\n",
        "links_twitter_screen_name = json_parsed['links']['twitter_screen_name']\n",
        "account_twitter = '@{}'.format(json_parsed['links']['twitter_screen_name'])\n",
        "links_twitter = 'https://twitter.com/{}'.format(json_parsed['links']['twitter_screen_name'])\n",
        "\n",
        "market_cap = json_parsed['market_data']['market_cap']['usd']\n",
        "fdv_to_tvl_rati = json_parsed['market_data']['fdv_to_tvl_ratio']\n",
        "mcap_to_tvl_ratio = json_parsed['market_data']['mcap_to_tvl_ratio']\n",
        "fully_diluted_valuation = json_parsed['fully_diluted_valuation']\n",
        "dilution_ratio = fully_diluted_valuation / market_cap\n",
        "\n",
        "\n",
        "total_volume = json_parsed['market_data']['total_volume']['usd']\n",
        "total_supply_rotation = total_volume / circulating_supply\n",
        "\n",
        "# Tokenomics\n",
        "\n",
        "total_value_locked = json_parsed['market_data']['total_value_locked']\n",
        "total_supply = json_parsed['total_supply']\n",
        "max_supply = json_parsed['max_supply']\n",
        "circulating_supply = json_parsed['circulating_supply']\n",
        "\n",
        "supply_expansion = max_supply / circulating_supply\n",
        "\n",
        "# volume\n",
        "total_volume = json_parsed['market_data']['total_volume']['usd']\n",
        "float_rotation = / circulating_supply\n",
        "\n",
        "price_change_percentage_7d = json_parsed['market_data']['price_change_percentage_7d']\n",
        "price_change_percentage_14d = json_parsed['market_data']['price_change_percentage_14d']\n",
        "price_change_percentage_30d = json_parsed['market_data']['price_change_percentage_30d']\n",
        "price_change_percentage_60d = json_parsed['market_data']['price_change_percentage_60d']\n",
        "price_change_percentage_200d = json_parsed['market_data']['price_change_percentage_200d']\n",
        "price_change_percentage_1y = json_parsed['market_data']['price_change_percentage_1y']\n",
        "\n",
        "# Community\n",
        "community_data = json_parsed['community_data']\n",
        "community_data_reddit_subscribers = json_parsed['community_data']['reddit_subscribers']\n",
        "community_data_telegram_channel_user_count = json_parsed['community_data']['telegram_channel_user_count']\n",
        "community_data_twitter_followers = json_parsed['community_data']['twitter_followers']\n",
        "\n",
        "market_cap_twitter_followers_ratio = market_cap / community_data_twitter_followers\n",
        "market_cap_reddit_subscribers_ratio = market_cap / community_data_reddit_subscribers\n",
        "market_cap_telegram_channel_user_count_ratio = market_cap / community_data_telegram_channel_user_count\n",
        "\n",
        "# CoinGecko Score\n",
        "CoinGecko_market_cap_rank = json_parsed['market_cap_rank']\n",
        "CoinGecko_coingecko_rank = json_parsed['coingecko_rank']\n",
        "CoinGecko_coingecko_score = json_parsed['coingecko_score']\n",
        "CoinGecko_developer_score = json_parsed['developer_score']\n",
        "CoinGecko_community_score = json_parsed['community_score']\n",
        "CoinGecko_liquidity_score = json_parsed['liquidity_score']\n",
        "\n",
        "market_cap_CoinGecko_coingecko_score_ratio = \n",
        "market_cap__ratio\n",
        "market_cap__ratio\n",
        "market_cap__ratio\n",
        "market_cap__ratio\n",
        "\n",
        "\n",
        "\n",
        "developer_data = json_parsed['developer_data']\n",
        "sentiment_votes_down_percentage =  json_parsed['sentiment_votes_down_percentage']\n",
        "sentiment_votes_percentageup_ =  json_parsed['sentiment_votes_percentageup_']\n",
        "\n",
        "df_community_data = pd.DataFrame(data=community_data, index=[0])\n"
      ],
      "metadata": {
        "colab": {
          "base_uri": "https://localhost:8080/"
        },
        "outputId": "39c1d6ae-a340-4a1a-8bb3-dcc42e8b683f",
        "id": "AeRvWL2qB0d1"
      },
      "execution_count": null,
      "outputs": [
        {
          "output_type": "execute_result",
          "data": {
            "text/plain": [
              "15595.258420779484"
            ]
          },
          "metadata": {},
          "execution_count": 87
        }
      ]
    },
    {
      "cell_type": "code",
      "source": [
        "#Indicators\n",
        "df = {}\n",
        "\n",
        "df['asset_platform_id'] = asset_platform_id\n",
        "df['id'] = asset_platform_id\n",
        "df['link_CoinGecko'] = 'https://www.coingecko.com/en/coins/{}'.format(i)"
      ],
      "metadata": {
        "colab": {
          "base_uri": "https://localhost:8080/"
        },
        "id": "TFrCK_v9yq1w",
        "outputId": "eb64ffa1-7c1b-4e4f-c6f7-a1952aaf4026"
      },
      "execution_count": 29,
      "outputs": [
        {
          "output_type": "execute_result",
          "data": {
            "text/plain": [
              "{'asset_platform_id': 'helium',\n",
              " 'link_CoinGecko': 'https://www.coingecko.com/en/coins/helium'}"
            ]
          },
          "metadata": {},
          "execution_count": 29
        }
      ]
    },
    {
      "cell_type": "code",
      "source": [
        "  links = json_parsed['links']\n",
        "  \n",
        "  pd.set_option('display.width', 10)\n",
        "\n",
        "  print('')\n",
        "  print('WEB Links')\n",
        "  print(links['homepage'][0])\n",
        "  print(links['homepage'][1])\n",
        "  print(links['homepage'][2])"
      ],
      "metadata": {
        "colab": {
          "base_uri": "https://localhost:8080/"
        },
        "id": "6sFo92TQOwJP",
        "outputId": "ff96ef1e-5997-452b-9855-72c50846ea00"
      },
      "execution_count": null,
      "outputs": [
        {
          "output_type": "stream",
          "name": "stdout",
          "text": [
            "\n",
            "WEB Links\n",
            "https://solana.com/\n",
            "\n",
            "\n"
          ]
        }
      ]
    },
    {
      "cell_type": "code",
      "source": [
        "\n",
        " \n",
        "output = response.text\n",
        "json_parsed_Updates = json.loads(output) \n",
        "print('')\n",
        "print('Recent updates: ')\n",
        "print(json_parsed_Updates)\n"
      ],
      "metadata": {
        "colab": {
          "base_uri": "https://localhost:8080/"
        },
        "id": "lwWni8k3Pmxa",
        "outputId": "005d2131-9056-4e60-9363-b44395405964"
      },
      "execution_count": null,
      "outputs": [
        {
          "output_type": "stream",
          "name": "stdout",
          "text": [
            "\n",
            "Recent updates: \n",
            "{'error': 'Incorrect path. Please check https://www.coingecko.com/api/'}\n"
          ]
        }
      ]
    },
    {
      "cell_type": "code",
      "source": [
        "df_community_data\n"
      ],
      "metadata": {
        "colab": {
          "base_uri": "https://localhost:8080/",
          "height": 81
        },
        "id": "QROQCR-UNs83",
        "outputId": "858fb8e4-c2f2-4b3c-c074-ef2d305a2e4a"
      },
      "execution_count": null,
      "outputs": [
        {
          "output_type": "execute_result",
          "data": {
            "text/plain": [
              "  facebook_likes  \\\n",
              "0           None   \n",
              "\n",
              "   twitter_followers  \\\n",
              "0            1557831   \n",
              "\n",
              "   reddit_average_posts_48h  \\\n",
              "0                       4.9   \n",
              "\n",
              "   reddit_average_comments_48h  \\\n",
              "0                        112.3   \n",
              "\n",
              "   reddit_subscribers  \\\n",
              "0              135580   \n",
              "\n",
              "   reddit_accounts_active_48h  \\\n",
              "0                         112   \n",
              "\n",
              "   telegram_channel_user_count  \n",
              "0                        89107  "
            ],
            "text/html": [
              "\n",
              "  <div id=\"df-9f1682e6-7696-465f-8aac-38c6c027518d\">\n",
              "    <div class=\"colab-df-container\">\n",
              "      <div>\n",
              "<style scoped>\n",
              "    .dataframe tbody tr th:only-of-type {\n",
              "        vertical-align: middle;\n",
              "    }\n",
              "\n",
              "    .dataframe tbody tr th {\n",
              "        vertical-align: top;\n",
              "    }\n",
              "\n",
              "    .dataframe thead th {\n",
              "        text-align: right;\n",
              "    }\n",
              "</style>\n",
              "<table border=\"1\" class=\"dataframe\">\n",
              "  <thead>\n",
              "    <tr style=\"text-align: right;\">\n",
              "      <th></th>\n",
              "      <th>facebook_likes</th>\n",
              "      <th>twitter_followers</th>\n",
              "      <th>reddit_average_posts_48h</th>\n",
              "      <th>reddit_average_comments_48h</th>\n",
              "      <th>reddit_subscribers</th>\n",
              "      <th>reddit_accounts_active_48h</th>\n",
              "      <th>telegram_channel_user_count</th>\n",
              "    </tr>\n",
              "  </thead>\n",
              "  <tbody>\n",
              "    <tr>\n",
              "      <th>0</th>\n",
              "      <td>None</td>\n",
              "      <td>1557831</td>\n",
              "      <td>4.9</td>\n",
              "      <td>112.3</td>\n",
              "      <td>135580</td>\n",
              "      <td>112</td>\n",
              "      <td>89107</td>\n",
              "    </tr>\n",
              "  </tbody>\n",
              "</table>\n",
              "</div>\n",
              "      <button class=\"colab-df-convert\" onclick=\"convertToInteractive('df-9f1682e6-7696-465f-8aac-38c6c027518d')\"\n",
              "              title=\"Convert this dataframe to an interactive table.\"\n",
              "              style=\"display:none;\">\n",
              "        \n",
              "  <svg xmlns=\"http://www.w3.org/2000/svg\" height=\"24px\"viewBox=\"0 0 24 24\"\n",
              "       width=\"24px\">\n",
              "    <path d=\"M0 0h24v24H0V0z\" fill=\"none\"/>\n",
              "    <path d=\"M18.56 5.44l.94 2.06.94-2.06 2.06-.94-2.06-.94-.94-2.06-.94 2.06-2.06.94zm-11 1L8.5 8.5l.94-2.06 2.06-.94-2.06-.94L8.5 2.5l-.94 2.06-2.06.94zm10 10l.94 2.06.94-2.06 2.06-.94-2.06-.94-.94-2.06-.94 2.06-2.06.94z\"/><path d=\"M17.41 7.96l-1.37-1.37c-.4-.4-.92-.59-1.43-.59-.52 0-1.04.2-1.43.59L10.3 9.45l-7.72 7.72c-.78.78-.78 2.05 0 2.83L4 21.41c.39.39.9.59 1.41.59.51 0 1.02-.2 1.41-.59l7.78-7.78 2.81-2.81c.8-.78.8-2.07 0-2.86zM5.41 20L4 18.59l7.72-7.72 1.47 1.35L5.41 20z\"/>\n",
              "  </svg>\n",
              "      </button>\n",
              "      \n",
              "  <style>\n",
              "    .colab-df-container {\n",
              "      display:flex;\n",
              "      flex-wrap:wrap;\n",
              "      gap: 12px;\n",
              "    }\n",
              "\n",
              "    .colab-df-convert {\n",
              "      background-color: #E8F0FE;\n",
              "      border: none;\n",
              "      border-radius: 50%;\n",
              "      cursor: pointer;\n",
              "      display: none;\n",
              "      fill: #1967D2;\n",
              "      height: 32px;\n",
              "      padding: 0 0 0 0;\n",
              "      width: 32px;\n",
              "    }\n",
              "\n",
              "    .colab-df-convert:hover {\n",
              "      background-color: #E2EBFA;\n",
              "      box-shadow: 0px 1px 2px rgba(60, 64, 67, 0.3), 0px 1px 3px 1px rgba(60, 64, 67, 0.15);\n",
              "      fill: #174EA6;\n",
              "    }\n",
              "\n",
              "    [theme=dark] .colab-df-convert {\n",
              "      background-color: #3B4455;\n",
              "      fill: #D2E3FC;\n",
              "    }\n",
              "\n",
              "    [theme=dark] .colab-df-convert:hover {\n",
              "      background-color: #434B5C;\n",
              "      box-shadow: 0px 1px 3px 1px rgba(0, 0, 0, 0.15);\n",
              "      filter: drop-shadow(0px 1px 2px rgba(0, 0, 0, 0.3));\n",
              "      fill: #FFFFFF;\n",
              "    }\n",
              "  </style>\n",
              "\n",
              "      <script>\n",
              "        const buttonEl =\n",
              "          document.querySelector('#df-9f1682e6-7696-465f-8aac-38c6c027518d button.colab-df-convert');\n",
              "        buttonEl.style.display =\n",
              "          google.colab.kernel.accessAllowed ? 'block' : 'none';\n",
              "\n",
              "        async function convertToInteractive(key) {\n",
              "          const element = document.querySelector('#df-9f1682e6-7696-465f-8aac-38c6c027518d');\n",
              "          const dataTable =\n",
              "            await google.colab.kernel.invokeFunction('convertToInteractive',\n",
              "                                                     [key], {});\n",
              "          if (!dataTable) return;\n",
              "\n",
              "          const docLinkHtml = 'Like what you see? Visit the ' +\n",
              "            '<a target=\"_blank\" href=https://colab.research.google.com/notebooks/data_table.ipynb>data table notebook</a>'\n",
              "            + ' to learn more about interactive tables.';\n",
              "          element.innerHTML = '';\n",
              "          dataTable['output_type'] = 'display_data';\n",
              "          await google.colab.output.renderOutput(dataTable, element);\n",
              "          const docLink = document.createElement('div');\n",
              "          docLink.innerHTML = docLinkHtml;\n",
              "          element.appendChild(docLink);\n",
              "        }\n",
              "      </script>\n",
              "    </div>\n",
              "  </div>\n",
              "  "
            ]
          },
          "metadata": {},
          "execution_count": 107
        }
      ]
    },
    {
      "cell_type": "code",
      "source": [
        "df_developer_data"
      ],
      "metadata": {
        "colab": {
          "base_uri": "https://localhost:8080/",
          "height": 165
        },
        "id": "g1ev1MPwOAXY",
        "outputId": "9f8c91f0-5277-4a16-8f0a-3860b304f78d"
      },
      "execution_count": null,
      "outputs": [
        {
          "output_type": "error",
          "ename": "NameError",
          "evalue": "ignored",
          "traceback": [
            "\u001b[0;31m---------------------------------------------------------------------------\u001b[0m",
            "\u001b[0;31mNameError\u001b[0m                                 Traceback (most recent call last)",
            "\u001b[0;32m<ipython-input-101-76595f33e46f>\u001b[0m in \u001b[0;36m<module>\u001b[0;34m()\u001b[0m\n\u001b[0;32m----> 1\u001b[0;31m \u001b[0mdf_developer_data\u001b[0m\u001b[0;34m\u001b[0m\u001b[0;34m\u001b[0m\u001b[0m\n\u001b[0m",
            "\u001b[0;31mNameError\u001b[0m: name 'df_developer_data' is not defined"
          ]
        }
      ]
    },
    {
      "cell_type": "code",
      "source": [
        "\n",
        "#Charlescustom\n",
        "print('')  \n",
        "try:\n",
        "  dollar_volume_rotation  = total_volume / market_cap\n",
        "  # supply_expansion_multiple = total_supply/circulating_supply\n",
        "  # circulating_versus_max = circulating_supply/total_supply\n",
        "  ##market_cap_dilution_ratio =  fully_diluted_valuation / market_cap\n",
        "  \n",
        "  dict_custom = {}\n",
        "  dict_custom ['dollar_volume_rotation'] = dollar_volume_rotation\n",
        "#   dict_custom ['supply_expansion_multiple'] = supply_expansion_multiple\n",
        "#   dict_custom ['circulating_versus_max'] = circulating_versus_max\n",
        "  # dict_custom ['market_cap_dilution_ratio'] = market_cap_dilution_ratio - 1\n",
        "except ZeroDivisionError:\n",
        "  print('null')\n",
        "  \n",
        "print(dict_custom )\n",
        "\n",
        "print('          ') "
      ],
      "metadata": {
        "id": "U9WV-S5qNWwW",
        "colab": {
          "base_uri": "https://localhost:8080/"
        },
        "outputId": "299d0775-90c6-470d-99a9-29112c6904ba"
      },
      "execution_count": null,
      "outputs": [
        {
          "output_type": "stream",
          "name": "stdout",
          "text": [
            "\n",
            "{'dollar_volume_rotation': 0.030745609931035842}\n",
            "          \n"
          ]
        }
      ]
    },
    {
      "cell_type": "code",
      "source": [
        "from pycoingecko import CoinGeckoAPI\n",
        "cg = CoinGeckoAPI()\n",
        "\n",
        "a = cg.get_coin_ohlc_by_id(id=i, vs_currency='usd', days = 'max')\n",
        "\n",
        "df = pd.DataFrame(data=a, columns = ['Date','Open','High', 'Low', 'Close'])\n",
        "\n",
        "fig2 = go.Figure(data=[go.Candlestick(x=df['Date'],open=df['Open'], high=df['High'],low=df['Low'], close=df['Close'])])\n",
        "                      \n",
        "fig2.show()"
      ],
      "metadata": {
        "colab": {
          "base_uri": "https://localhost:8080/"
        },
        "id": "6J5fuRFuQImF",
        "outputId": "bf367a1c-0d06-42c0-dd03-d08325f4c05a"
      },
      "execution_count": null,
      "outputs": [
        {
          "output_type": "display_data",
          "data": {
            "text/html": [
              "<html>\n",
              "<head><meta charset=\"utf-8\" /></head>\n",
              "<body>\n",
              "    <div>            <script src=\"https://cdnjs.cloudflare.com/ajax/libs/mathjax/2.7.5/MathJax.js?config=TeX-AMS-MML_SVG\"></script><script type=\"text/javascript\">if (window.MathJax) {MathJax.Hub.Config({SVG: {font: \"STIX-Web\"}});}</script>                <script type=\"text/javascript\">window.PlotlyConfig = {MathJaxConfig: 'local'};</script>\n",
              "        <script src=\"https://cdn.plot.ly/plotly-2.8.3.min.js\"></script>                <div id=\"fcd99994-0b32-4341-a796-edb96bea0dad\" class=\"plotly-graph-div\" style=\"height:525px; width:100%;\"></div>            <script type=\"text/javascript\">                                    window.PLOTLYENV=window.PLOTLYENV || {};                                    if (document.getElementById(\"fcd99994-0b32-4341-a796-edb96bea0dad\")) {                    Plotly.newPlot(                        \"fcd99994-0b32-4341-a796-edb96bea0dad\",                        [{\"close\":[0.957606,0.666673,0.676972,0.684887,0.639863,0.741189,0.712438,0.6194,0.541778,0.574281,0.647734,0.614983,0.57314,0.585813,0.565814,0.625417,0.650362,0.586183,0.619998,0.727173,0.740721,0.853127,0.774611,0.708409,0.913637,1.15,0.967318,1.04,1.6,1.69,1.75,2.2,3.14,3.42,3.33,3.02,3.55,4.44,4.18,3.09,3.45,3.26,3.08,2.94,3.14,2.95,2.63,2.17,2.41,2.32,2.21,1.95,1.68,1.44,1.48,1.93,2.25,1.92,2.12,2.15,1.9,1.91,2.12,1.85,1.58,1.59,1.7,1.49,1.33,1.54,1.8,1.92,3.47,3.28,3.78,3.34,4.03,4.23,5.26,6.12,9.02,8.73,9.01,14.42,13.67,14.01,13.07,14.23,14.57,14.27,14.87,14.75,19.18,19.74,24.99,26.83,26.45,32.43,39.04,44.5,42.58,46.93,43.44,42.96,42.87,56.2,31.61,35.65,28.56,34.19,42.26,41.21,39.64,36.62,26.73,29.37,33.92,33.96,34.29,31.94,31.24,26.89,27.76,28.1,32.25,33.28,39.54,40.66,44.06,74.0,73.13,76.11,109.65,128.67,164.56,178.32,157.38,170.11,148.33,135.8,135.28,169.21,154.09,147.7,150.09,157.38,197.83,199.75,193.34,220.65,259.24,233.07,239.51,195.08,216.4,192.15,204.35,232.57,193.89,169.46,161.06,182.97,178.57,198.2,172.51,176.32,150.72,135.98,146.31,141.63,94.52,92.25,93.4,101.83,115.28,106.42,96.44,90.11,86.57,90.11,100.79,84.64,83.03,81.17,89.91,90.5,98.65],\"high\":[0.957606,0.875994,0.692333,0.684887,0.64709,0.741189,0.716954,0.68661,0.60894,0.574281,0.647734,0.621936,0.60822,0.5884,0.578976,0.656961,0.667681,0.60881,0.619998,0.727173,0.740721,0.853127,0.859296,0.781187,0.913637,1.18,1.29,1.04,1.6,1.78,1.75,2.2,3.14,3.74,3.39,3.21,3.55,4.44,4.79,3.54,3.63,3.45,3.08,3.01,3.19,3.17,2.9,2.65,2.54,2.58,2.27,2.06,1.96,1.72,1.6,1.93,2.25,2.02,2.26,2.38,2.27,1.91,2.12,2.1,1.83,1.59,1.78,1.67,1.45,1.68,1.84,2.42,3.47,3.59,3.82,3.73,4.03,4.23,5.26,6.71,9.02,9.23,9.01,14.42,17.47,15.03,14.13,14.87,15.98,14.28,14.87,14.75,19.18,19.74,24.99,27.78,28.52,32.43,39.04,47.66,45.04,49.66,46.09,45.69,44.72,56.2,44.53,35.65,33.66,34.19,42.26,42.08,39.64,39.7,35.28,31.44,33.92,35.83,34.47,36.66,32.12,28.32,27.76,28.59,32.25,36.25,39.54,40.66,44.69,74.0,78.45,76.11,109.65,128.67,164.56,189.34,177.94,170.11,153.33,150.39,136.26,169.21,172.86,158.91,152.0,162.98,197.83,211.19,199.78,220.65,259.24,250.36,241.33,238.76,232.44,222.1,204.35,232.57,212.13,194.3,173.74,182.97,180.13,198.2,196.04,178.89,170.57,142.38,151.92,147.94,135.59,99.69,96.18,110.13,115.28,117.67,96.46,104.85,91.61,92.74,100.79,95.56,88.19,81.61,89.91,92.4,102.18],\"low\":[0.957606,0.666673,0.637621,0.53479,0.621703,0.568315,0.69309,0.6194,0.541778,0.513923,0.556434,0.579586,0.546574,0.57217,0.565814,0.586205,0.619375,0.571998,0.570331,0.644598,0.706734,0.713355,0.774611,0.692188,0.753477,0.921534,0.868918,0.873059,0.996204,1.66,1.53,1.76,2.07,3.26,3.1,2.9,3.26,3.43,4.18,2.6,2.47,3.22,2.55,2.77,2.84,2.95,2.63,2.17,2.29,2.32,2.14,1.88,1.68,1.43,1.48,1.39,2.03,1.9,2.04,2.07,1.9,1.86,1.97,1.85,1.58,1.45,1.68,1.49,1.21,1.31,1.52,1.92,2.37,3.11,3.26,3.0,3.5,3.7,4.26,5.72,6.66,8.71,8.23,10.04,13.67,13.03,12.63,13.64,14.57,13.69,14.18,12.96,16.57,19.06,22.6,26.67,26.45,25.01,31.69,37.07,42.58,43.0,42.7,42.96,41.11,43.46,31.61,24.77,27.56,30.99,37.6,38.19,36.09,36.62,26.6,29.24,31.67,33.56,33.12,31.94,29.16,26.26,23.86,28.1,27.87,33.28,34.34,37.67,41.19,53.68,73.05,71.21,87.97,108.71,139.59,173.31,157.38,147.58,122.69,135.8,130.6,141.18,154.09,147.7,144.86,157.38,156.39,198.31,183.54,202.39,237.89,233.07,229.4,195.08,215.83,192.15,192.14,208.71,193.89,169.46,155.08,175.79,174.37,190.44,171.27,170.2,150.72,135.98,140.26,140.05,94.52,91.92,89.6,99.89,100.88,106.42,93.37,90.11,83.14,85.27,85.57,84.64,82.07,79.0,82.94,88.6,94.92],\"open\":[0.957606,0.784711,0.637621,0.609436,0.621703,0.568315,0.69309,0.68661,0.60894,0.513923,0.556434,0.621936,0.60822,0.5884,0.575677,0.586205,0.619375,0.571998,0.570331,0.686092,0.706734,0.713355,0.859296,0.76747,0.753477,0.921534,1.29,0.922438,1.06,1.78,1.54,1.8,2.07,3.26,3.17,2.9,3.33,3.43,4.79,3.51,2.91,3.45,2.93,3.01,2.84,3.17,2.9,2.55,2.29,2.42,2.27,2.06,1.96,1.72,1.54,1.41,2.03,2.0,2.04,2.07,2.27,1.86,1.97,2.1,1.83,1.45,1.75,1.67,1.21,1.31,1.52,2.15,2.37,3.11,3.26,3.64,3.5,3.7,4.26,5.72,6.66,9.2,8.85,11.44,15.16,13.31,14.13,13.92,15.98,14.16,14.18,14.19,16.57,19.49,22.6,26.67,27.82,27.83,31.73,37.07,43.22,43.0,46.09,43.07,44.72,43.46,35.76,24.77,33.66,32.66,39.71,38.19,36.09,39.7,35.26,30.88,31.67,35.83,34.47,36.66,32.12,28.32,24.82,28.38,27.95,36.25,34.34,39.38,41.8,53.68,73.05,75.97,87.97,108.71,146.36,173.31,177.94,158.6,153.33,150.39,136.26,141.18,172.86,154.26,144.86,162.98,156.39,198.31,183.54,202.39,242.05,250.36,234.86,238.76,215.83,222.1,192.14,208.71,212.13,190.37,171.84,178.26,179.94,190.51,196.04,170.2,170.57,136.61,140.26,147.7,135.59,99.69,89.6,99.89,100.88,117.67,96.46,104.85,91.61,85.27,85.57,95.56,82.07,80.69,82.94,92.4,94.92],\"x\":[1586563200000,1586908800000,1587254400000,1587600000000,1587945600000,1588204800000,1588464000000,1588809600000,1589155200000,1589500800000,1589846400000,1590192000000,1590537600000,1590883200000,1591142400000,1591488000000,1591833600000,1592179200000,1592524800000,1592870400000,1593216000000,1593475200000,1593734400000,1594080000000,1594425600000,1594771200000,1595116800000,1595462400000,1595808000000,1596153600000,1596412800000,1596758400000,1597104000000,1597449600000,1597795200000,1598140800000,1598486400000,1598832000000,1599091200000,1599436800000,1599782400000,1600128000000,1600473600000,1600819200000,1601164800000,1601424000000,1601683200000,1602028800000,1602374400000,1602720000000,1603065600000,1603411200000,1603756800000,1604102400000,1604361600000,1604707200000,1605052800000,1605398400000,1605744000000,1606089600000,1606435200000,1606694400000,1606953600000,1607299200000,1607644800000,1607990400000,1608336000000,1608681600000,1609027200000,1609372800000,1609632000000,1609977600000,1610323200000,1610668800000,1611014400000,1611360000000,1611705600000,1612051200000,1612310400000,1612656000000,1613001600000,1613347200000,1613692800000,1614038400000,1614384000000,1614470400000,1615075200000,1615420800000,1615766400000,1616112000000,1616457600000,1616803200000,1617148800000,1617408000000,1617753600000,1618099200000,1618444800000,1618790400000,1619136000000,1619481600000,1619740800000,1620000000000,1620345600000,1620691200000,1621036800000,1621382400000,1621728000000,1622073600000,1622419200000,1622678400000,1623024000000,1623369600000,1623715200000,1624060800000,1624406400000,1624752000000,1625011200000,1625270400000,1625616000000,1625961600000,1626307200000,1626652800000,1626998400000,1627344000000,1627689600000,1627948800000,1628294400000,1628640000000,1628985600000,1629331200000,1629676800000,1630022400000,1630368000000,1630627200000,1630972800000,1631318400000,1631664000000,1632009600000,1632355200000,1632700800000,1632960000000,1633219200000,1633564800000,1633910400000,1634256000000,1634601600000,1634947200000,1635292800000,1635638400000,1635897600000,1636243200000,1636588800000,1636934400000,1637280000000,1637625600000,1637971200000,1638230400000,1638489600000,1638835200000,1639180800000,1639526400000,1639872000000,1640217600000,1640563200000,1640908800000,1641168000000,1641513600000,1641859200000,1642204800000,1642550400000,1642896000000,1643241600000,1643587200000,1643846400000,1644192000000,1644537600000,1644883200000,1645228800000,1645574400000,1645920000000,1646006400000,1646611200000,1646956800000,1647302400000,1647648000000,1647993600000,1648339200000],\"type\":\"candlestick\"}],                        {\"template\":{\"data\":{\"bar\":[{\"error_x\":{\"color\":\"#2a3f5f\"},\"error_y\":{\"color\":\"#2a3f5f\"},\"marker\":{\"line\":{\"color\":\"#E5ECF6\",\"width\":0.5},\"pattern\":{\"fillmode\":\"overlay\",\"size\":10,\"solidity\":0.2}},\"type\":\"bar\"}],\"barpolar\":[{\"marker\":{\"line\":{\"color\":\"#E5ECF6\",\"width\":0.5},\"pattern\":{\"fillmode\":\"overlay\",\"size\":10,\"solidity\":0.2}},\"type\":\"barpolar\"}],\"carpet\":[{\"aaxis\":{\"endlinecolor\":\"#2a3f5f\",\"gridcolor\":\"white\",\"linecolor\":\"white\",\"minorgridcolor\":\"white\",\"startlinecolor\":\"#2a3f5f\"},\"baxis\":{\"endlinecolor\":\"#2a3f5f\",\"gridcolor\":\"white\",\"linecolor\":\"white\",\"minorgridcolor\":\"white\",\"startlinecolor\":\"#2a3f5f\"},\"type\":\"carpet\"}],\"choropleth\":[{\"colorbar\":{\"outlinewidth\":0,\"ticks\":\"\"},\"type\":\"choropleth\"}],\"contour\":[{\"colorbar\":{\"outlinewidth\":0,\"ticks\":\"\"},\"colorscale\":[[0.0,\"#0d0887\"],[0.1111111111111111,\"#46039f\"],[0.2222222222222222,\"#7201a8\"],[0.3333333333333333,\"#9c179e\"],[0.4444444444444444,\"#bd3786\"],[0.5555555555555556,\"#d8576b\"],[0.6666666666666666,\"#ed7953\"],[0.7777777777777778,\"#fb9f3a\"],[0.8888888888888888,\"#fdca26\"],[1.0,\"#f0f921\"]],\"type\":\"contour\"}],\"contourcarpet\":[{\"colorbar\":{\"outlinewidth\":0,\"ticks\":\"\"},\"type\":\"contourcarpet\"}],\"heatmap\":[{\"colorbar\":{\"outlinewidth\":0,\"ticks\":\"\"},\"colorscale\":[[0.0,\"#0d0887\"],[0.1111111111111111,\"#46039f\"],[0.2222222222222222,\"#7201a8\"],[0.3333333333333333,\"#9c179e\"],[0.4444444444444444,\"#bd3786\"],[0.5555555555555556,\"#d8576b\"],[0.6666666666666666,\"#ed7953\"],[0.7777777777777778,\"#fb9f3a\"],[0.8888888888888888,\"#fdca26\"],[1.0,\"#f0f921\"]],\"type\":\"heatmap\"}],\"heatmapgl\":[{\"colorbar\":{\"outlinewidth\":0,\"ticks\":\"\"},\"colorscale\":[[0.0,\"#0d0887\"],[0.1111111111111111,\"#46039f\"],[0.2222222222222222,\"#7201a8\"],[0.3333333333333333,\"#9c179e\"],[0.4444444444444444,\"#bd3786\"],[0.5555555555555556,\"#d8576b\"],[0.6666666666666666,\"#ed7953\"],[0.7777777777777778,\"#fb9f3a\"],[0.8888888888888888,\"#fdca26\"],[1.0,\"#f0f921\"]],\"type\":\"heatmapgl\"}],\"histogram\":[{\"marker\":{\"pattern\":{\"fillmode\":\"overlay\",\"size\":10,\"solidity\":0.2}},\"type\":\"histogram\"}],\"histogram2d\":[{\"colorbar\":{\"outlinewidth\":0,\"ticks\":\"\"},\"colorscale\":[[0.0,\"#0d0887\"],[0.1111111111111111,\"#46039f\"],[0.2222222222222222,\"#7201a8\"],[0.3333333333333333,\"#9c179e\"],[0.4444444444444444,\"#bd3786\"],[0.5555555555555556,\"#d8576b\"],[0.6666666666666666,\"#ed7953\"],[0.7777777777777778,\"#fb9f3a\"],[0.8888888888888888,\"#fdca26\"],[1.0,\"#f0f921\"]],\"type\":\"histogram2d\"}],\"histogram2dcontour\":[{\"colorbar\":{\"outlinewidth\":0,\"ticks\":\"\"},\"colorscale\":[[0.0,\"#0d0887\"],[0.1111111111111111,\"#46039f\"],[0.2222222222222222,\"#7201a8\"],[0.3333333333333333,\"#9c179e\"],[0.4444444444444444,\"#bd3786\"],[0.5555555555555556,\"#d8576b\"],[0.6666666666666666,\"#ed7953\"],[0.7777777777777778,\"#fb9f3a\"],[0.8888888888888888,\"#fdca26\"],[1.0,\"#f0f921\"]],\"type\":\"histogram2dcontour\"}],\"mesh3d\":[{\"colorbar\":{\"outlinewidth\":0,\"ticks\":\"\"},\"type\":\"mesh3d\"}],\"parcoords\":[{\"line\":{\"colorbar\":{\"outlinewidth\":0,\"ticks\":\"\"}},\"type\":\"parcoords\"}],\"pie\":[{\"automargin\":true,\"type\":\"pie\"}],\"scatter\":[{\"marker\":{\"colorbar\":{\"outlinewidth\":0,\"ticks\":\"\"}},\"type\":\"scatter\"}],\"scatter3d\":[{\"line\":{\"colorbar\":{\"outlinewidth\":0,\"ticks\":\"\"}},\"marker\":{\"colorbar\":{\"outlinewidth\":0,\"ticks\":\"\"}},\"type\":\"scatter3d\"}],\"scattercarpet\":[{\"marker\":{\"colorbar\":{\"outlinewidth\":0,\"ticks\":\"\"}},\"type\":\"scattercarpet\"}],\"scattergeo\":[{\"marker\":{\"colorbar\":{\"outlinewidth\":0,\"ticks\":\"\"}},\"type\":\"scattergeo\"}],\"scattergl\":[{\"marker\":{\"colorbar\":{\"outlinewidth\":0,\"ticks\":\"\"}},\"type\":\"scattergl\"}],\"scattermapbox\":[{\"marker\":{\"colorbar\":{\"outlinewidth\":0,\"ticks\":\"\"}},\"type\":\"scattermapbox\"}],\"scatterpolar\":[{\"marker\":{\"colorbar\":{\"outlinewidth\":0,\"ticks\":\"\"}},\"type\":\"scatterpolar\"}],\"scatterpolargl\":[{\"marker\":{\"colorbar\":{\"outlinewidth\":0,\"ticks\":\"\"}},\"type\":\"scatterpolargl\"}],\"scatterternary\":[{\"marker\":{\"colorbar\":{\"outlinewidth\":0,\"ticks\":\"\"}},\"type\":\"scatterternary\"}],\"surface\":[{\"colorbar\":{\"outlinewidth\":0,\"ticks\":\"\"},\"colorscale\":[[0.0,\"#0d0887\"],[0.1111111111111111,\"#46039f\"],[0.2222222222222222,\"#7201a8\"],[0.3333333333333333,\"#9c179e\"],[0.4444444444444444,\"#bd3786\"],[0.5555555555555556,\"#d8576b\"],[0.6666666666666666,\"#ed7953\"],[0.7777777777777778,\"#fb9f3a\"],[0.8888888888888888,\"#fdca26\"],[1.0,\"#f0f921\"]],\"type\":\"surface\"}],\"table\":[{\"cells\":{\"fill\":{\"color\":\"#EBF0F8\"},\"line\":{\"color\":\"white\"}},\"header\":{\"fill\":{\"color\":\"#C8D4E3\"},\"line\":{\"color\":\"white\"}},\"type\":\"table\"}]},\"layout\":{\"annotationdefaults\":{\"arrowcolor\":\"#2a3f5f\",\"arrowhead\":0,\"arrowwidth\":1},\"autotypenumbers\":\"strict\",\"coloraxis\":{\"colorbar\":{\"outlinewidth\":0,\"ticks\":\"\"}},\"colorscale\":{\"diverging\":[[0,\"#8e0152\"],[0.1,\"#c51b7d\"],[0.2,\"#de77ae\"],[0.3,\"#f1b6da\"],[0.4,\"#fde0ef\"],[0.5,\"#f7f7f7\"],[0.6,\"#e6f5d0\"],[0.7,\"#b8e186\"],[0.8,\"#7fbc41\"],[0.9,\"#4d9221\"],[1,\"#276419\"]],\"sequential\":[[0.0,\"#0d0887\"],[0.1111111111111111,\"#46039f\"],[0.2222222222222222,\"#7201a8\"],[0.3333333333333333,\"#9c179e\"],[0.4444444444444444,\"#bd3786\"],[0.5555555555555556,\"#d8576b\"],[0.6666666666666666,\"#ed7953\"],[0.7777777777777778,\"#fb9f3a\"],[0.8888888888888888,\"#fdca26\"],[1.0,\"#f0f921\"]],\"sequentialminus\":[[0.0,\"#0d0887\"],[0.1111111111111111,\"#46039f\"],[0.2222222222222222,\"#7201a8\"],[0.3333333333333333,\"#9c179e\"],[0.4444444444444444,\"#bd3786\"],[0.5555555555555556,\"#d8576b\"],[0.6666666666666666,\"#ed7953\"],[0.7777777777777778,\"#fb9f3a\"],[0.8888888888888888,\"#fdca26\"],[1.0,\"#f0f921\"]]},\"colorway\":[\"#636efa\",\"#EF553B\",\"#00cc96\",\"#ab63fa\",\"#FFA15A\",\"#19d3f3\",\"#FF6692\",\"#B6E880\",\"#FF97FF\",\"#FECB52\"],\"font\":{\"color\":\"#2a3f5f\"},\"geo\":{\"bgcolor\":\"white\",\"lakecolor\":\"white\",\"landcolor\":\"#E5ECF6\",\"showlakes\":true,\"showland\":true,\"subunitcolor\":\"white\"},\"hoverlabel\":{\"align\":\"left\"},\"hovermode\":\"closest\",\"mapbox\":{\"style\":\"light\"},\"paper_bgcolor\":\"white\",\"plot_bgcolor\":\"#E5ECF6\",\"polar\":{\"angularaxis\":{\"gridcolor\":\"white\",\"linecolor\":\"white\",\"ticks\":\"\"},\"bgcolor\":\"#E5ECF6\",\"radialaxis\":{\"gridcolor\":\"white\",\"linecolor\":\"white\",\"ticks\":\"\"}},\"scene\":{\"xaxis\":{\"backgroundcolor\":\"#E5ECF6\",\"gridcolor\":\"white\",\"gridwidth\":2,\"linecolor\":\"white\",\"showbackground\":true,\"ticks\":\"\",\"zerolinecolor\":\"white\"},\"yaxis\":{\"backgroundcolor\":\"#E5ECF6\",\"gridcolor\":\"white\",\"gridwidth\":2,\"linecolor\":\"white\",\"showbackground\":true,\"ticks\":\"\",\"zerolinecolor\":\"white\"},\"zaxis\":{\"backgroundcolor\":\"#E5ECF6\",\"gridcolor\":\"white\",\"gridwidth\":2,\"linecolor\":\"white\",\"showbackground\":true,\"ticks\":\"\",\"zerolinecolor\":\"white\"}},\"shapedefaults\":{\"line\":{\"color\":\"#2a3f5f\"}},\"ternary\":{\"aaxis\":{\"gridcolor\":\"white\",\"linecolor\":\"white\",\"ticks\":\"\"},\"baxis\":{\"gridcolor\":\"white\",\"linecolor\":\"white\",\"ticks\":\"\"},\"bgcolor\":\"#E5ECF6\",\"caxis\":{\"gridcolor\":\"white\",\"linecolor\":\"white\",\"ticks\":\"\"}},\"title\":{\"x\":0.05},\"xaxis\":{\"automargin\":true,\"gridcolor\":\"white\",\"linecolor\":\"white\",\"ticks\":\"\",\"title\":{\"standoff\":15},\"zerolinecolor\":\"white\",\"zerolinewidth\":2},\"yaxis\":{\"automargin\":true,\"gridcolor\":\"white\",\"linecolor\":\"white\",\"ticks\":\"\",\"title\":{\"standoff\":15},\"zerolinecolor\":\"white\",\"zerolinewidth\":2}}}},                        {\"responsive\": true}                    ).then(function(){\n",
              "                            \n",
              "var gd = document.getElementById('fcd99994-0b32-4341-a796-edb96bea0dad');\n",
              "var x = new MutationObserver(function (mutations, observer) {{\n",
              "        var display = window.getComputedStyle(gd).display;\n",
              "        if (!display || display === 'none') {{\n",
              "            console.log([gd, 'removed!']);\n",
              "            Plotly.purge(gd);\n",
              "            observer.disconnect();\n",
              "        }}\n",
              "}});\n",
              "\n",
              "// Listen for the removal of the full notebook cells\n",
              "var notebookContainer = gd.closest('#notebook-container');\n",
              "if (notebookContainer) {{\n",
              "    x.observe(notebookContainer, {childList: true});\n",
              "}}\n",
              "\n",
              "// Listen for the clearing of the current output cell\n",
              "var outputEl = gd.closest('.output');\n",
              "if (outputEl) {{\n",
              "    x.observe(outputEl, {childList: true});\n",
              "}}\n",
              "\n",
              "                        })                };                            </script>        </div>\n",
              "</body>\n",
              "</html>"
            ]
          },
          "metadata": {}
        }
      ]
    },
    {
      "cell_type": "markdown",
      "source": [
        " #    Data Wrangling"
      ],
      "metadata": {
        "id": "T3crwZswAEnZ"
      }
    },
    {
      "cell_type": "code",
      "source": [
        "PS:"
      ],
      "metadata": {
        "id": "aoM0SY94R1qI"
      },
      "execution_count": null,
      "outputs": []
    }
  ]
}