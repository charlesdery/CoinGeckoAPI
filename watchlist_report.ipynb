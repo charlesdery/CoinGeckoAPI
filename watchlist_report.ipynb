{
  "nbformat": 4,
  "nbformat_minor": 0,
  "metadata": {
    "colab": {
      "name": "watchlist_report.ipynb",
      "provenance": [],
      "collapsed_sections": [],
      "authorship_tag": "ABX9TyPH6F813lDDpVe74eyqhfPd",
      "include_colab_link": true
    },
    "kernelspec": {
      "name": "python3",
      "display_name": "Python 3"
    },
    "language_info": {
      "name": "python"
    },
    "widgets": {
      "application/vnd.jupyter.widget-state+json": {
        "203add2a28c2488bb37cf7d6d4593e4a": {
          "model_module": "@jupyter-widgets/controls",
          "model_name": "HBoxModel",
          "model_module_version": "1.5.0",
          "state": {
            "_dom_classes": [],
            "_model_module": "@jupyter-widgets/controls",
            "_model_module_version": "1.5.0",
            "_model_name": "HBoxModel",
            "_view_count": null,
            "_view_module": "@jupyter-widgets/controls",
            "_view_module_version": "1.5.0",
            "_view_name": "HBoxView",
            "box_style": "",
            "children": [
              "IPY_MODEL_7a43c5c1f77a4051a3e013932d975406",
              "IPY_MODEL_6ca4d6b528ed4a0492f6cc01723cba6b",
              "IPY_MODEL_deb199c0232c42bf8fb2a54d52d831ce"
            ],
            "layout": "IPY_MODEL_7292c01b191c4fb3bf6423c81aedaacd"
          }
        },
        "7a43c5c1f77a4051a3e013932d975406": {
          "model_module": "@jupyter-widgets/controls",
          "model_name": "HTMLModel",
          "model_module_version": "1.5.0",
          "state": {
            "_dom_classes": [],
            "_model_module": "@jupyter-widgets/controls",
            "_model_module_version": "1.5.0",
            "_model_name": "HTMLModel",
            "_view_count": null,
            "_view_module": "@jupyter-widgets/controls",
            "_view_module_version": "1.5.0",
            "_view_name": "HTMLView",
            "description": "",
            "description_tooltip": null,
            "layout": "IPY_MODEL_28a7ed30f9a34ce384617c1c8c5d167e",
            "placeholder": "​",
            "style": "IPY_MODEL_3d321a0ad718484c9c038817157da1f7",
            "value": " 33%"
          }
        },
        "6ca4d6b528ed4a0492f6cc01723cba6b": {
          "model_module": "@jupyter-widgets/controls",
          "model_name": "FloatProgressModel",
          "model_module_version": "1.5.0",
          "state": {
            "_dom_classes": [],
            "_model_module": "@jupyter-widgets/controls",
            "_model_module_version": "1.5.0",
            "_model_name": "FloatProgressModel",
            "_view_count": null,
            "_view_module": "@jupyter-widgets/controls",
            "_view_module_version": "1.5.0",
            "_view_name": "ProgressView",
            "bar_style": "",
            "description": "",
            "description_tooltip": null,
            "layout": "IPY_MODEL_a30eca48ab184cafb28c3d2f3c0c1555",
            "max": 134,
            "min": 0,
            "orientation": "horizontal",
            "style": "IPY_MODEL_8e99f1c01f714826b2c600af6f7b0702",
            "value": 44
          }
        },
        "deb199c0232c42bf8fb2a54d52d831ce": {
          "model_module": "@jupyter-widgets/controls",
          "model_name": "HTMLModel",
          "model_module_version": "1.5.0",
          "state": {
            "_dom_classes": [],
            "_model_module": "@jupyter-widgets/controls",
            "_model_module_version": "1.5.0",
            "_model_name": "HTMLModel",
            "_view_count": null,
            "_view_module": "@jupyter-widgets/controls",
            "_view_module_version": "1.5.0",
            "_view_name": "HTMLView",
            "description": "",
            "description_tooltip": null,
            "layout": "IPY_MODEL_7730e0098360471b9931ca650768f917",
            "placeholder": "​",
            "style": "IPY_MODEL_185534c484434dc08d700ebab963c57d",
            "value": " 44/134 [00:28&lt;02:13,  1.48s/it]"
          }
        },
        "7292c01b191c4fb3bf6423c81aedaacd": {
          "model_module": "@jupyter-widgets/base",
          "model_name": "LayoutModel",
          "model_module_version": "1.2.0",
          "state": {
            "_model_module": "@jupyter-widgets/base",
            "_model_module_version": "1.2.0",
            "_model_name": "LayoutModel",
            "_view_count": null,
            "_view_module": "@jupyter-widgets/base",
            "_view_module_version": "1.2.0",
            "_view_name": "LayoutView",
            "align_content": null,
            "align_items": null,
            "align_self": null,
            "border": null,
            "bottom": null,
            "display": null,
            "flex": null,
            "flex_flow": null,
            "grid_area": null,
            "grid_auto_columns": null,
            "grid_auto_flow": null,
            "grid_auto_rows": null,
            "grid_column": null,
            "grid_gap": null,
            "grid_row": null,
            "grid_template_areas": null,
            "grid_template_columns": null,
            "grid_template_rows": null,
            "height": null,
            "justify_content": null,
            "justify_items": null,
            "left": null,
            "margin": null,
            "max_height": null,
            "max_width": null,
            "min_height": null,
            "min_width": null,
            "object_fit": null,
            "object_position": null,
            "order": null,
            "overflow": null,
            "overflow_x": null,
            "overflow_y": null,
            "padding": null,
            "right": null,
            "top": null,
            "visibility": null,
            "width": null
          }
        },
        "28a7ed30f9a34ce384617c1c8c5d167e": {
          "model_module": "@jupyter-widgets/base",
          "model_name": "LayoutModel",
          "model_module_version": "1.2.0",
          "state": {
            "_model_module": "@jupyter-widgets/base",
            "_model_module_version": "1.2.0",
            "_model_name": "LayoutModel",
            "_view_count": null,
            "_view_module": "@jupyter-widgets/base",
            "_view_module_version": "1.2.0",
            "_view_name": "LayoutView",
            "align_content": null,
            "align_items": null,
            "align_self": null,
            "border": null,
            "bottom": null,
            "display": null,
            "flex": null,
            "flex_flow": null,
            "grid_area": null,
            "grid_auto_columns": null,
            "grid_auto_flow": null,
            "grid_auto_rows": null,
            "grid_column": null,
            "grid_gap": null,
            "grid_row": null,
            "grid_template_areas": null,
            "grid_template_columns": null,
            "grid_template_rows": null,
            "height": null,
            "justify_content": null,
            "justify_items": null,
            "left": null,
            "margin": null,
            "max_height": null,
            "max_width": null,
            "min_height": null,
            "min_width": null,
            "object_fit": null,
            "object_position": null,
            "order": null,
            "overflow": null,
            "overflow_x": null,
            "overflow_y": null,
            "padding": null,
            "right": null,
            "top": null,
            "visibility": null,
            "width": null
          }
        },
        "3d321a0ad718484c9c038817157da1f7": {
          "model_module": "@jupyter-widgets/controls",
          "model_name": "DescriptionStyleModel",
          "model_module_version": "1.5.0",
          "state": {
            "_model_module": "@jupyter-widgets/controls",
            "_model_module_version": "1.5.0",
            "_model_name": "DescriptionStyleModel",
            "_view_count": null,
            "_view_module": "@jupyter-widgets/base",
            "_view_module_version": "1.2.0",
            "_view_name": "StyleView",
            "description_width": ""
          }
        },
        "a30eca48ab184cafb28c3d2f3c0c1555": {
          "model_module": "@jupyter-widgets/base",
          "model_name": "LayoutModel",
          "model_module_version": "1.2.0",
          "state": {
            "_model_module": "@jupyter-widgets/base",
            "_model_module_version": "1.2.0",
            "_model_name": "LayoutModel",
            "_view_count": null,
            "_view_module": "@jupyter-widgets/base",
            "_view_module_version": "1.2.0",
            "_view_name": "LayoutView",
            "align_content": null,
            "align_items": null,
            "align_self": null,
            "border": null,
            "bottom": null,
            "display": null,
            "flex": null,
            "flex_flow": null,
            "grid_area": null,
            "grid_auto_columns": null,
            "grid_auto_flow": null,
            "grid_auto_rows": null,
            "grid_column": null,
            "grid_gap": null,
            "grid_row": null,
            "grid_template_areas": null,
            "grid_template_columns": null,
            "grid_template_rows": null,
            "height": null,
            "justify_content": null,
            "justify_items": null,
            "left": null,
            "margin": null,
            "max_height": null,
            "max_width": null,
            "min_height": null,
            "min_width": null,
            "object_fit": null,
            "object_position": null,
            "order": null,
            "overflow": null,
            "overflow_x": null,
            "overflow_y": null,
            "padding": null,
            "right": null,
            "top": null,
            "visibility": null,
            "width": null
          }
        },
        "8e99f1c01f714826b2c600af6f7b0702": {
          "model_module": "@jupyter-widgets/controls",
          "model_name": "ProgressStyleModel",
          "model_module_version": "1.5.0",
          "state": {
            "_model_module": "@jupyter-widgets/controls",
            "_model_module_version": "1.5.0",
            "_model_name": "ProgressStyleModel",
            "_view_count": null,
            "_view_module": "@jupyter-widgets/base",
            "_view_module_version": "1.2.0",
            "_view_name": "StyleView",
            "bar_color": null,
            "description_width": ""
          }
        },
        "7730e0098360471b9931ca650768f917": {
          "model_module": "@jupyter-widgets/base",
          "model_name": "LayoutModel",
          "model_module_version": "1.2.0",
          "state": {
            "_model_module": "@jupyter-widgets/base",
            "_model_module_version": "1.2.0",
            "_model_name": "LayoutModel",
            "_view_count": null,
            "_view_module": "@jupyter-widgets/base",
            "_view_module_version": "1.2.0",
            "_view_name": "LayoutView",
            "align_content": null,
            "align_items": null,
            "align_self": null,
            "border": null,
            "bottom": null,
            "display": null,
            "flex": null,
            "flex_flow": null,
            "grid_area": null,
            "grid_auto_columns": null,
            "grid_auto_flow": null,
            "grid_auto_rows": null,
            "grid_column": null,
            "grid_gap": null,
            "grid_row": null,
            "grid_template_areas": null,
            "grid_template_columns": null,
            "grid_template_rows": null,
            "height": null,
            "justify_content": null,
            "justify_items": null,
            "left": null,
            "margin": null,
            "max_height": null,
            "max_width": null,
            "min_height": null,
            "min_width": null,
            "object_fit": null,
            "object_position": null,
            "order": null,
            "overflow": null,
            "overflow_x": null,
            "overflow_y": null,
            "padding": null,
            "right": null,
            "top": null,
            "visibility": null,
            "width": null
          }
        },
        "185534c484434dc08d700ebab963c57d": {
          "model_module": "@jupyter-widgets/controls",
          "model_name": "DescriptionStyleModel",
          "model_module_version": "1.5.0",
          "state": {
            "_model_module": "@jupyter-widgets/controls",
            "_model_module_version": "1.5.0",
            "_model_name": "DescriptionStyleModel",
            "_view_count": null,
            "_view_module": "@jupyter-widgets/base",
            "_view_module_version": "1.2.0",
            "_view_name": "StyleView",
            "description_width": ""
          }
        }
      }
    }
  },
  "cells": [
    {
      "cell_type": "markdown",
      "metadata": {
        "id": "view-in-github",
        "colab_type": "text"
      },
      "source": [
        "<a href=\"https://colab.research.google.com/github/custom-hyper/CoinGeckoAPI/blob/main/watchlist_report.ipynb\" target=\"_parent\"><img src=\"https://colab.research.google.com/assets/colab-badge.svg\" alt=\"Open In Colab\"/></a>"
      ]
    },
    {
      "cell_type": "markdown",
      "source": [
        "\n",
        "\n",
        "*   Spikes\n",
        "*   % Rankings\n",
        "*   Medium website for newsfeed scraper\n",
        "*   Twitter account for newsfeed scrape\n",
        "*   Forum website for newsfeed scraper\n",
        "*   Homepage website for HTML download/entity recognition/NLP\n",
        "*   Loop for a list of exchanges\n",
        "*   Proprietary score\n",
        "*   Price action tool\n"
      ],
      "metadata": {
        "id": "UzdbdQAquXzi"
      }
    },
    {
      "cell_type": "markdown",
      "metadata": {
        "id": "3_rFSz85Oj3u"
      },
      "source": [
        "#Project Setup"
      ]
    },
    {
      "cell_type": "markdown",
      "source": [
        ""
      ],
      "metadata": {
        "id": "tbB5g3qzEzGh"
      }
    },
    {
      "cell_type": "code",
      "metadata": {
        "id": "5m4_0fgAPIA4",
        "colab": {
          "base_uri": "https://localhost:8080/"
        },
        "outputId": "da78593a-77c0-4bab-901b-d59f5cce6395"
      },
      "source": [
        "#@title Install Libraries { display-mode: \"code\" }\n",
        "!pip install plotly\n",
        "!pip install pytrends\n",
        "!pip install pycoingecko\n",
        "!pip install pandas\n",
        "!pip install tweepy\n",
        "!pip install requests\n",
        "!pip install pycoingecko\n"
      ],
      "execution_count": 1,
      "outputs": [
        {
          "output_type": "stream",
          "name": "stdout",
          "text": [
            "Requirement already satisfied: plotly in /usr/local/lib/python3.7/dist-packages (5.5.0)\n",
            "Requirement already satisfied: tenacity>=6.2.0 in /usr/local/lib/python3.7/dist-packages (from plotly) (8.0.1)\n",
            "Requirement already satisfied: six in /usr/local/lib/python3.7/dist-packages (from plotly) (1.15.0)\n",
            "Collecting pytrends\n",
            "  Downloading pytrends-4.8.0.tar.gz (19 kB)\n",
            "Requirement already satisfied: requests>=2.0 in /usr/local/lib/python3.7/dist-packages (from pytrends) (2.23.0)\n",
            "Requirement already satisfied: pandas>=0.25 in /usr/local/lib/python3.7/dist-packages (from pytrends) (1.3.5)\n",
            "Requirement already satisfied: lxml in /usr/local/lib/python3.7/dist-packages (from pytrends) (4.2.6)\n",
            "Requirement already satisfied: python-dateutil>=2.7.3 in /usr/local/lib/python3.7/dist-packages (from pandas>=0.25->pytrends) (2.8.2)\n",
            "Requirement already satisfied: pytz>=2017.3 in /usr/local/lib/python3.7/dist-packages (from pandas>=0.25->pytrends) (2018.9)\n",
            "Requirement already satisfied: numpy>=1.17.3 in /usr/local/lib/python3.7/dist-packages (from pandas>=0.25->pytrends) (1.21.5)\n",
            "Requirement already satisfied: six>=1.5 in /usr/local/lib/python3.7/dist-packages (from python-dateutil>=2.7.3->pandas>=0.25->pytrends) (1.15.0)\n",
            "Requirement already satisfied: idna<3,>=2.5 in /usr/local/lib/python3.7/dist-packages (from requests>=2.0->pytrends) (2.10)\n",
            "Requirement already satisfied: certifi>=2017.4.17 in /usr/local/lib/python3.7/dist-packages (from requests>=2.0->pytrends) (2021.10.8)\n",
            "Requirement already satisfied: chardet<4,>=3.0.2 in /usr/local/lib/python3.7/dist-packages (from requests>=2.0->pytrends) (3.0.4)\n",
            "Requirement already satisfied: urllib3!=1.25.0,!=1.25.1,<1.26,>=1.21.1 in /usr/local/lib/python3.7/dist-packages (from requests>=2.0->pytrends) (1.24.3)\n",
            "Building wheels for collected packages: pytrends\n",
            "  Building wheel for pytrends (setup.py) ... \u001b[?25l\u001b[?25hdone\n",
            "  Created wheel for pytrends: filename=pytrends-4.8.0-py3-none-any.whl size=16126 sha256=305b1376f2dadbcbc8d48d7d6f5f9614d2c317c3663f73493596609ddd7d03da\n",
            "  Stored in directory: /root/.cache/pip/wheels/07/6f/5c/8174f98dec1bfbc7d5da4092854afcbcff4b26c3d9b66b5183\n",
            "Successfully built pytrends\n",
            "Installing collected packages: pytrends\n",
            "Successfully installed pytrends-4.8.0\n",
            "Collecting pycoingecko\n",
            "  Downloading pycoingecko-2.2.0-py3-none-any.whl (8.3 kB)\n",
            "Requirement already satisfied: requests in /usr/local/lib/python3.7/dist-packages (from pycoingecko) (2.23.0)\n",
            "Requirement already satisfied: urllib3!=1.25.0,!=1.25.1,<1.26,>=1.21.1 in /usr/local/lib/python3.7/dist-packages (from requests->pycoingecko) (1.24.3)\n",
            "Requirement already satisfied: certifi>=2017.4.17 in /usr/local/lib/python3.7/dist-packages (from requests->pycoingecko) (2021.10.8)\n",
            "Requirement already satisfied: idna<3,>=2.5 in /usr/local/lib/python3.7/dist-packages (from requests->pycoingecko) (2.10)\n",
            "Requirement already satisfied: chardet<4,>=3.0.2 in /usr/local/lib/python3.7/dist-packages (from requests->pycoingecko) (3.0.4)\n",
            "Installing collected packages: pycoingecko\n",
            "Successfully installed pycoingecko-2.2.0\n",
            "Requirement already satisfied: pandas in /usr/local/lib/python3.7/dist-packages (1.3.5)\n",
            "Requirement already satisfied: pytz>=2017.3 in /usr/local/lib/python3.7/dist-packages (from pandas) (2018.9)\n",
            "Requirement already satisfied: numpy>=1.17.3 in /usr/local/lib/python3.7/dist-packages (from pandas) (1.21.5)\n",
            "Requirement already satisfied: python-dateutil>=2.7.3 in /usr/local/lib/python3.7/dist-packages (from pandas) (2.8.2)\n",
            "Requirement already satisfied: six>=1.5 in /usr/local/lib/python3.7/dist-packages (from python-dateutil>=2.7.3->pandas) (1.15.0)\n",
            "Requirement already satisfied: tweepy in /usr/local/lib/python3.7/dist-packages (3.10.0)\n",
            "Requirement already satisfied: requests[socks]>=2.11.1 in /usr/local/lib/python3.7/dist-packages (from tweepy) (2.23.0)\n",
            "Requirement already satisfied: requests-oauthlib>=0.7.0 in /usr/local/lib/python3.7/dist-packages (from tweepy) (1.3.1)\n",
            "Requirement already satisfied: six>=1.10.0 in /usr/local/lib/python3.7/dist-packages (from tweepy) (1.15.0)\n",
            "Requirement already satisfied: oauthlib>=3.0.0 in /usr/local/lib/python3.7/dist-packages (from requests-oauthlib>=0.7.0->tweepy) (3.2.0)\n",
            "Requirement already satisfied: urllib3!=1.25.0,!=1.25.1,<1.26,>=1.21.1 in /usr/local/lib/python3.7/dist-packages (from requests[socks]>=2.11.1->tweepy) (1.24.3)\n",
            "Requirement already satisfied: idna<3,>=2.5 in /usr/local/lib/python3.7/dist-packages (from requests[socks]>=2.11.1->tweepy) (2.10)\n",
            "Requirement already satisfied: certifi>=2017.4.17 in /usr/local/lib/python3.7/dist-packages (from requests[socks]>=2.11.1->tweepy) (2021.10.8)\n",
            "Requirement already satisfied: chardet<4,>=3.0.2 in /usr/local/lib/python3.7/dist-packages (from requests[socks]>=2.11.1->tweepy) (3.0.4)\n",
            "Requirement already satisfied: PySocks!=1.5.7,>=1.5.6 in /usr/local/lib/python3.7/dist-packages (from requests[socks]>=2.11.1->tweepy) (1.7.1)\n",
            "Requirement already satisfied: requests in /usr/local/lib/python3.7/dist-packages (2.23.0)\n",
            "Requirement already satisfied: certifi>=2017.4.17 in /usr/local/lib/python3.7/dist-packages (from requests) (2021.10.8)\n",
            "Requirement already satisfied: urllib3!=1.25.0,!=1.25.1,<1.26,>=1.21.1 in /usr/local/lib/python3.7/dist-packages (from requests) (1.24.3)\n",
            "Requirement already satisfied: chardet<4,>=3.0.2 in /usr/local/lib/python3.7/dist-packages (from requests) (3.0.4)\n",
            "Requirement already satisfied: idna<3,>=2.5 in /usr/local/lib/python3.7/dist-packages (from requests) (2.10)\n",
            "Requirement already satisfied: pycoingecko in /usr/local/lib/python3.7/dist-packages (2.2.0)\n",
            "Requirement already satisfied: requests in /usr/local/lib/python3.7/dist-packages (from pycoingecko) (2.23.0)\n",
            "Requirement already satisfied: certifi>=2017.4.17 in /usr/local/lib/python3.7/dist-packages (from requests->pycoingecko) (2021.10.8)\n",
            "Requirement already satisfied: idna<3,>=2.5 in /usr/local/lib/python3.7/dist-packages (from requests->pycoingecko) (2.10)\n",
            "Requirement already satisfied: urllib3!=1.25.0,!=1.25.1,<1.26,>=1.21.1 in /usr/local/lib/python3.7/dist-packages (from requests->pycoingecko) (1.24.3)\n",
            "Requirement already satisfied: chardet<4,>=3.0.2 in /usr/local/lib/python3.7/dist-packages (from requests->pycoingecko) (3.0.4)\n"
          ]
        }
      ]
    },
    {
      "cell_type": "markdown",
      "metadata": {
        "id": "sDymunfdxzyI"
      },
      "source": [
        "# CoinGecko API Statistics Report"
      ]
    },
    {
      "cell_type": "code",
      "source": [
        "#@title Available Currencies { display-mode: \"code\" }\n",
        "import requests\n",
        "import datetime\n",
        "import time\n",
        "import json\n",
        "from google.colab import data_table\n",
        "import plotly.graph_objects as go\n",
        "import pandas as pd\n",
        "import matplotlib.pyplot as plt\n",
        "from pandas.io.json import json_normalize\n",
        "from pycoingecko import CoinGeckoAPI\n",
        "\n",
        "#General Information table\n",
        "\n",
        "def currency_stats(url):\n",
        "    \"\"\"\n",
        "    Generates a list of the currencies on CoinGecko\n",
        "    Args: url of the CoinGecko website\n",
        "\n",
        "    \"\"\"\n",
        "    frames = []\n",
        "    response = requests.get(url)\n",
        "    data = response.json()\n",
        "\n",
        "    df = pd.DataFrame (data)\n",
        "\n",
        "    print('Stats: ')\n",
        "    print(df.info(verbose=True))\n",
        "    print(df.isnull().sum())\n",
        "    print(data)\n",
        "\n",
        "    print(df.describe())\n",
        "\n",
        "def main():\n",
        "\n",
        "    url = \"https://api.coingecko.com/api/v3/simple/supported_vs_currencies\"\n",
        "    currency_stats(url)\n",
        "\n",
        "if __name__ == \"__main__\":\n",
        "    main()\n",
        "\n"
      ],
      "metadata": {
        "id": "aG_Ot5aN_OMT",
        "colab": {
          "base_uri": "https://localhost:8080/"
        },
        "outputId": "0c9fbfd4-579d-4f58-b8d7-f6c2d6363878"
      },
      "execution_count": 2,
      "outputs": [
        {
          "output_type": "stream",
          "name": "stdout",
          "text": [
            "Stats: \n",
            "<class 'pandas.core.frame.DataFrame'>\n",
            "RangeIndex: 61 entries, 0 to 60\n",
            "Data columns (total 1 columns):\n",
            " #   Column  Non-Null Count  Dtype \n",
            "---  ------  --------------  ----- \n",
            " 0   0       61 non-null     object\n",
            "dtypes: object(1)\n",
            "memory usage: 616.0+ bytes\n",
            "None\n",
            "0    0\n",
            "dtype: int64\n",
            "['btc', 'eth', 'ltc', 'bch', 'bnb', 'eos', 'xrp', 'xlm', 'link', 'dot', 'yfi', 'usd', 'aed', 'ars', 'aud', 'bdt', 'bhd', 'bmd', 'brl', 'cad', 'chf', 'clp', 'cny', 'czk', 'dkk', 'eur', 'gbp', 'hkd', 'huf', 'idr', 'ils', 'inr', 'jpy', 'krw', 'kwd', 'lkr', 'mmk', 'mxn', 'myr', 'ngn', 'nok', 'nzd', 'php', 'pkr', 'pln', 'rub', 'sar', 'sek', 'sgd', 'thb', 'try', 'twd', 'uah', 'vef', 'vnd', 'zar', 'xdr', 'xag', 'xau', 'bits', 'sats']\n",
            "          0\n",
            "count    61\n",
            "unique   61\n",
            "top     btc\n",
            "freq      1\n"
          ]
        }
      ]
    },
    {
      "cell_type": "code",
      "source": [
        "#@title Available Coins { display-mode: \"code\" }\n",
        "import requests\n",
        "import datetime\n",
        "import time\n",
        "import json\n",
        "from google.colab import data_table\n",
        "import plotly.graph_objects as go\n",
        "import pandas as pd\n",
        "import matplotlib.pyplot as plt\n",
        "from pandas.io.json import json_normalize\n",
        "\n",
        "#General Information table\n",
        "\n",
        "def coins_stats(url):\n",
        "    \"\"\"\n",
        "    Generates a list of the coins on CoinGecko\n",
        "    Args: url of the CoinGecko website\n",
        "\n",
        "    \"\"\"\n",
        "    frames = []\n",
        "    response = requests.get(url)\n",
        "    data = response.json()\n",
        "\n",
        "    \n",
        "    token_list = pd.DataFrame (data)\n",
        "\n",
        "    print('Stats: ')\n",
        "    print(token_list.info(verbose=True))\n",
        "    print(token_list.isnull().sum())\n",
        "    print(token_list.describe())\n",
        "   \n",
        "    return token_list \n",
        "\n",
        "\n",
        "def main():\n",
        "  url = \"https://api.coingecko.com/api/v3/coins/list\"\n",
        "\n",
        "  print(coins_stats(url))\n",
        "  \n",
        "\n",
        "if __name__ == \"__main__\":\n",
        "    main()"
      ],
      "metadata": {
        "id": "CpfyE_IK70Aj",
        "colab": {
          "base_uri": "https://localhost:8080/"
        },
        "outputId": "a76a25e0-453a-49fd-de98-e9d35914b35e"
      },
      "execution_count": 3,
      "outputs": [
        {
          "output_type": "stream",
          "name": "stdout",
          "text": [
            "Stats: \n",
            "<class 'pandas.core.frame.DataFrame'>\n",
            "RangeIndex: 13453 entries, 0 to 13452\n",
            "Data columns (total 3 columns):\n",
            " #   Column  Non-Null Count  Dtype \n",
            "---  ------  --------------  ----- \n",
            " 0   id      13453 non-null  object\n",
            " 1   symbol  13453 non-null  object\n",
            " 2   name    13453 non-null  object\n",
            "dtypes: object(3)\n",
            "memory usage: 315.4+ KB\n",
            "None\n",
            "id        0\n",
            "symbol    0\n",
            "name      0\n",
            "dtype: int64\n",
            "            id symbol    name\n",
            "count    13453  13453   13453\n",
            "unique   13453  11191   13453\n",
            "top     01coin   moon  01coin\n",
            "freq         1     10       1\n",
            "                                   id    symbol  \\\n",
            "0                              01coin       zoc   \n",
            "1            0-5x-long-algorand-token  algohalf   \n",
            "2       0-5x-long-altcoin-index-token   althalf   \n",
            "3      0-5x-long-ascendex-token-token   asdhalf   \n",
            "4        0-5x-long-bitcoin-cash-token   bchhalf   \n",
            "...                               ...       ...   \n",
            "13448                            zyro      zyro   \n",
            "13449                           zyrri       zyr   \n",
            "13450                   zytara-dollar      zusd   \n",
            "13451                             zyx       zyx   \n",
            "13452                  zzz-finance-v2     zzzv2   \n",
            "\n",
            "                                 name  \n",
            "0                              01coin  \n",
            "1            0.5X Long Algorand Token  \n",
            "2       0.5X Long Altcoin Index Token  \n",
            "3      0.5X Long AscendEx Token Token  \n",
            "4        0.5X Long Bitcoin Cash Token  \n",
            "...                               ...  \n",
            "13448                            Zyro  \n",
            "13449                           Zyrri  \n",
            "13450                   Zytara Dollar  \n",
            "13451                             ZYX  \n",
            "13452                  zzz.finance v2  \n",
            "\n",
            "[13453 rows x 3 columns]\n"
          ]
        }
      ]
    },
    {
      "cell_type": "markdown",
      "source": [
        ""
      ],
      "metadata": {
        "id": "YHPqTPJ-MeAM"
      }
    },
    {
      "cell_type": "markdown",
      "source": [
        "# CoinGecko API Extraction"
      ],
      "metadata": {
        "id": "XVcNrRwDAIvd"
      }
    },
    {
      "cell_type": "code",
      "source": [
        "#@title  Download Coins Data Reports { display-mode: \"code\" }\n",
        "import requests\n",
        "import datetime\n",
        "import time\n",
        "import json\n",
        "from google.colab import data_table\n",
        "import plotly.graph_objects as go\n",
        "import pandas as pd\n",
        "import matplotlib.pyplot as plt\n",
        "from pandas.io.json import json_normalize\n",
        "import logging\n",
        "import sys\n",
        "from tqdm.notebook import tqdm\n",
        "\n",
        "currency = 'usd'\n",
        "pages = range(1, 135)  #can find the number of pages by dividing the total number of coins by 100\n",
        "\n",
        "frames=[]\n",
        "\n",
        "for page_num in tqdm(pages):\n",
        "\n",
        "    url = \"https://api.coingecko.com/api/v3/coins/markets?vs_currency={}&order=market_cap_desc&per_page=100&page={}&sparkline=false&price_change_percentage=1h%2C%2024h%2C%207d%2C14d%2C30d%2C200d%2C1y\".format(currency, page_num)\n",
        "    \n",
        "    #Obtain JSON formatted data\n",
        "    response = requests.get(url)\n",
        "    data = response.json()\n",
        "\n",
        "    #Convert data to list of dataframes\n",
        "    full_table = pd.json_normalize(data)       \n",
        "    results = [full_table]\n",
        "    frames.append(full_table)\n",
        "\n",
        "    #Slow down requests\n",
        "\n",
        "\n",
        "    #Status report\n",
        "    logging.info('Page '+ str(page_num) + ' – Rows ' + str(len(full_table)) + ' – source: '+ str(url))\n",
        "\n",
        "    \n",
        " \n",
        "single = pd.concat(frames) #Careful, this line must be outside of the for loop\n",
        "\n",
        "\n",
        "\n",
        "single.to_excel('CoinGecko_coins_markets{}.xlsx'.format(currency))\n"
      ],
      "metadata": {
        "colab": {
          "base_uri": "https://localhost:8080/",
          "height": 49,
          "referenced_widgets": [
            "203add2a28c2488bb37cf7d6d4593e4a",
            "7a43c5c1f77a4051a3e013932d975406",
            "6ca4d6b528ed4a0492f6cc01723cba6b",
            "deb199c0232c42bf8fb2a54d52d831ce",
            "7292c01b191c4fb3bf6423c81aedaacd",
            "28a7ed30f9a34ce384617c1c8c5d167e",
            "3d321a0ad718484c9c038817157da1f7",
            "a30eca48ab184cafb28c3d2f3c0c1555",
            "8e99f1c01f714826b2c600af6f7b0702",
            "7730e0098360471b9931ca650768f917",
            "185534c484434dc08d700ebab963c57d"
          ]
        },
        "id": "omzIJ-K6lijc",
        "outputId": "1eb3b644-7277-4a73-f496-a6728427e06f"
      },
      "execution_count": null,
      "outputs": [
        {
          "output_type": "display_data",
          "data": {
            "text/plain": [
              "  0%|          | 0/134 [00:00<?, ?it/s]"
            ],
            "application/vnd.jupyter.widget-view+json": {
              "version_major": 2,
              "version_minor": 0,
              "model_id": "203add2a28c2488bb37cf7d6d4593e4a"
            }
          },
          "metadata": {}
        }
      ]
    },
    {
      "cell_type": "code",
      "source": [
        "#General Information table\n",
        "i = 'helium'\n",
        "cur  = 'usd'\n",
        "\n",
        "response = requests.get(\"https://api.coingecko.com/api/v3/coins/{}\".format(i))\n",
        "output = response.text\n",
        "json_parsed = json.loads(output)\n",
        "\n",
        "response_2 = requests.get(\"https://api.coingecko.com/api/v3/simple/price?ids={}&vs_currencies={}\".format(i,cur))\n",
        "output_2 = response_2.text\n",
        "json_parsed_2 = json.loads(output_2)\n",
        "\n",
        "print('')  \n",
        "print('MARKET DATA')  \n",
        "print('')  \n",
        "\n",
        "\n",
        "#Indicators\n",
        "\n",
        "# Basics\n",
        "id = json_parsed['id']\n",
        "symbol = json_parsed['symbol'].upper()\n",
        "name = json_parsed['name']\n",
        "ID = symbol + '.' + name.replace(\" \", \"\")\n",
        "asset_platform_id = json_parsed['asset_platform_id']\n",
        "platforms = json_parsed['platforms']\n",
        "localization = json_parsed['localization']\n",
        "public_notice = json_parsed['public_notice']\n",
        "description = json_parsed['description']['en']\n",
        "short_desc = json_parsed['ico_data']['short_desc']\n",
        "\n",
        "\n",
        "\n",
        "#  price Volume\n",
        "price = json_parsed_2[i][cur]\n",
        "\n",
        "# Categories\n",
        "categories = json_parsed['links']['categories']\n",
        "categories_1 = json_parsed['links']['categories'][0]\n",
        "categories_2 = json_parsed['links']['categories'][1]\n",
        "categories_3 = json_parsed['links']['categories'][2]\n",
        "\n",
        "\n",
        "# forum\n",
        "official_forum_url = json_parsed['links']['official_forum_url'].str.contains(\"hello\")]\n",
        "official_forum_url_1 = json_parsed['links']['official_forum_url'][0]\n",
        "official_forum_url_2 = json_parsed['links']['official_forum_url'][1]\n",
        "official_forum_url_3 = json_parsed['links']['official_forum_url'][2]\n",
        "\n",
        "# Link\n",
        "links = json_parsed['links'].str.contains(\"medium\")]\n",
        "link_CoinGecko = 'https://www.coingecko.com/en/coins/{}'.format(i)\n",
        "\n",
        "# Medium\n",
        "links_announcement_url_medium = json_parsed['links']['announcement_url'][0]\n",
        "\n",
        "# forum\n",
        "links_announcement_url_forum = json_parsed['links']['announcement_url'][1]\n",
        "\n",
        "# Homepage\n",
        "links_homepage_1 = json_parsed['links']['homepage'][0]\n",
        "links_homepage_2 = json_parsed['links']['homepage'][1]\n",
        "links_homepage_3 = json_parsed['links']['homepage'][2]\n",
        "\n",
        "# Twitter\n",
        "links_twitter_screen_name = json_parsed['links']['twitter_screen_name']\n",
        "account_twitter = '@{}'.format(json_parsed['links']['twitter_screen_name'])\n",
        "links_twitter = 'https://twitter.com/{}'.format(json_parsed['links']['twitter_screen_name'])\n",
        "\n",
        "market_cap = json_parsed['market_data']['market_cap']['usd']\n",
        "fdv_to_tvl_rati = json_parsed['market_data']['fdv_to_tvl_ratio']\n",
        "mcap_to_tvl_ratio = json_parsed['market_data']['mcap_to_tvl_ratio']\n",
        "fully_diluted_valuation = json_parsed['fully_diluted_valuation']\n",
        "dilution_ratio = fully_diluted_valuation / market_cap\n",
        "\n",
        "\n",
        "total_volume = json_parsed['market_data']['total_volume']['usd']\n",
        "total_supply_rotation = total_volume / circulating_supply\n",
        "\n",
        "# Tokenomics\n",
        "total_value_locked = json_parsed['market_data']['total_value_locked']\n",
        "total_supply = json_parsed['total_supply']\n",
        "max_supply = json_parsed['max_supply']\n",
        "circulating_supply = json_parsed['circulating_supply']\n",
        "supply_expansion = max_supply / circulating_supply\n",
        "\n",
        "# Adjusted capitalization\n",
        "total_supply_mcap = price * total_supply\n",
        "max_supply_mcap = price * max_supply\n",
        "circulating_supply_mcap = price * circulating_supply\n",
        "\n",
        "\n",
        "# volume\n",
        "total_volume = json_parsed['market_data']['total_volume']['usd']\n",
        "total_volume_rotation = total_volume / circulating_supply\n",
        "\n",
        "# multiple price change percentages\n",
        "price_change_percentage_7d = json_parsed['market_data']['price_change_percentage_7d']\n",
        "price_change_percentage_14d = json_parsed['market_data']['price_change_percentage_14d']\n",
        "price_change_percentage_30d = json_parsed['market_data']['price_change_percentage_30d']\n",
        "price_change_percentage_60d = json_parsed['market_data']['price_change_percentage_60d']\n",
        "price_change_percentage_200d = json_parsed['market_data']['price_change_percentage_200d']\n",
        "price_change_percentage_1y = json_parsed['market_data']['price_change_percentage_1y']\n",
        "\n",
        "# Community followers\n",
        "community_data = json_parsed['community_data']\n",
        "community_data_reddit_subscribers = json_parsed['community_data']['reddit_subscribers']\n",
        "community_data_telegram_channel_user_count = json_parsed['community_data']['telegram_channel_user_count']\n",
        "community_data_twitter_followers = json_parsed['community_data']['twitter_followers']\n",
        "\n",
        "#Ratio market CAP to social media followers\n",
        "market_cap_twitter_followers_ratio = market_cap / community_data_twitter_followers\n",
        "market_cap_reddit_subscribers_ratio = market_cap / community_data_reddit_subscribers\n",
        "market_cap_telegram_channel_user_count_ratio = market_cap / community_data_telegram_channel_user_count\n",
        "\n",
        "# CoinGecko Score\n",
        "CoinGecko_market_cap_rank = json_parsed['market_cap_rank']\n",
        "CoinGecko_coingecko_rank = json_parsed['coingecko_rank']\n",
        "CoinGecko_coingecko_score = json_parsed['coingecko_score']\n",
        "CoinGecko_developer_score = json_parsed['developer_score']\n",
        "CoinGecko_community_score = json_parsed['community_score']\n",
        "CoinGecko_liquidity_score = json_parsed['liquidity_score']\n",
        "\n",
        "# Ratio market CAP versus core\n",
        "market_cap_CoinGecko_coingecko_score_ratio = market_cap / CoinGecko_coingecko_score\n",
        "market_cap_CoinGecko_developer_score_ratio = market_cap / CoinGecko_developer_score \n",
        "market_cap_CoinGecko_community_score_ratio = market_cap / CoinGecko_community_score\n",
        "market_cap_CoinGecko_liquidity_score_ratio = market_cap / CoinGecko_liquidity_score\n",
        "\n",
        "developer_data = json_parsed['developer_data']\n",
        "sentiment_votes_down_percentage =  json_parsed['sentiment_votes_down_percentage']\n",
        "sentiment_votes_percentageup_ =  json_parsed['sentiment_votes_percentageup_']\n",
        "\n",
        "df_community_data = pd.DataFrame(data=community_data, index=[0])\n"
      ],
      "metadata": {
        "colab": {
          "base_uri": "https://localhost:8080/",
          "height": 130
        },
        "id": "zDbHILx-MnfE",
        "outputId": "0da0f1c7-fa33-4abf-f632-1cd295bbe1d6"
      },
      "execution_count": null,
      "outputs": [
        {
          "output_type": "error",
          "ename": "SyntaxError",
          "evalue": "ignored",
          "traceback": [
            "\u001b[0;36m  File \u001b[0;32m\"<ipython-input-7-8ea3f983776c>\"\u001b[0;36m, line \u001b[0;32m45\u001b[0m\n\u001b[0;31m    official_forum_url = json_parsed['links']['official_forum_url'].str.contains(\"hello\")]\u001b[0m\n\u001b[0m                                                                                         ^\u001b[0m\n\u001b[0;31mSyntaxError\u001b[0m\u001b[0;31m:\u001b[0m invalid syntax\n"
          ]
        }
      ]
    },
    {
      "cell_type": "code",
      "source": [
        "#General Information table\n",
        "The\n",
        "i = 'helium'\n",
        "cur  = 'usd'\n",
        "period = 'max'\n",
        "response = requests.get(\"https://api.coingecko.com/api/v3/coins/{}/market_chart?vs_currency={}&days={}\".format(i,cur,period))\n",
        "output = response.text\n",
        "json_parsed = json.loads(output)\n",
        "json_parsed .json_normalize\n",
        "\n"
      ],
      "metadata": {
        "id": "Q8_m0sRZRHpc",
        "colab": {
          "base_uri": "https://localhost:8080/",
          "height": 235
        },
        "outputId": "53408a44-0fc8-49d2-fca1-c533d36b504c"
      },
      "execution_count": null,
      "outputs": [
        {
          "output_type": "error",
          "ename": "NameError",
          "evalue": "ignored",
          "traceback": [
            "\u001b[0;31m---------------------------------------------------------------------------\u001b[0m",
            "\u001b[0;31mNameError\u001b[0m                                 Traceback (most recent call last)",
            "\u001b[0;32m<ipython-input-6-610b0a7033c5>\u001b[0m in \u001b[0;36m<module>\u001b[0;34m()\u001b[0m\n\u001b[1;32m      1\u001b[0m \u001b[0;31m#General Information table\u001b[0m\u001b[0;34m\u001b[0m\u001b[0;34m\u001b[0m\u001b[0;34m\u001b[0m\u001b[0m\n\u001b[0;32m----> 2\u001b[0;31m \u001b[0mThe\u001b[0m\u001b[0;34m\u001b[0m\u001b[0;34m\u001b[0m\u001b[0m\n\u001b[0m\u001b[1;32m      3\u001b[0m \u001b[0mi\u001b[0m \u001b[0;34m=\u001b[0m \u001b[0;34m'helium'\u001b[0m\u001b[0;34m\u001b[0m\u001b[0;34m\u001b[0m\u001b[0m\n\u001b[1;32m      4\u001b[0m \u001b[0mcur\u001b[0m  \u001b[0;34m=\u001b[0m \u001b[0;34m'usd'\u001b[0m\u001b[0;34m\u001b[0m\u001b[0;34m\u001b[0m\u001b[0m\n\u001b[1;32m      5\u001b[0m \u001b[0mperiod\u001b[0m \u001b[0;34m=\u001b[0m \u001b[0;34m'max'\u001b[0m\u001b[0;34m\u001b[0m\u001b[0;34m\u001b[0m\u001b[0m\n",
            "\u001b[0;31mNameError\u001b[0m: name 'The' is not defined"
          ]
        }
      ]
    },
    {
      "cell_type": "code",
      "source": [
        "#Indicators\n",
        "df = {}\n",
        "\n",
        "df['asset_platform_id'] = asset_platform_id\n",
        "df['id'] = asset_platform_id\n",
        "df['link_CoinGecko'] = 'https://www.coingecko.com/en/coins/{}'.format(i)"
      ],
      "metadata": {
        "id": "TFrCK_v9yq1w"
      },
      "execution_count": null,
      "outputs": []
    },
    {
      "cell_type": "code",
      "source": [
        "'https://api.coingecko.com/api/v3/coins/{}/market_chart/range?vs_currency={}&from={}&to={}'.format('solana','usd',,)"
      ],
      "metadata": {
        "id": "6sFo92TQOwJP"
      },
      "execution_count": null,
      "outputs": []
    },
    {
      "cell_type": "code",
      "source": [
        "df_community_data\n"
      ],
      "metadata": {
        "id": "QROQCR-UNs83"
      },
      "execution_count": null,
      "outputs": []
    },
    {
      "cell_type": "code",
      "source": [
        "df_developer_data"
      ],
      "metadata": {
        "id": "g1ev1MPwOAXY"
      },
      "execution_count": null,
      "outputs": []
    },
    {
      "cell_type": "code",
      "source": [
        "from pycoingecko import CoinGeckoAPI\n",
        "cg = CoinGeckoAPI()\n",
        "\n",
        "a = cg.get_coin_ohlc_by_id(id=i, vs_currency='usd', days = 'max')\n",
        "\n",
        "df = pd.DataFrame(data=a, columns = ['Date','Open','High', 'Low', 'Close'])\n",
        "\n",
        "fig2 = go.Figure(data=[go.Candlestick(x=df['Date'],open=df['Open'], high=df['High'],low=df['Low'], close=df['Close'])])\n",
        "                      \n",
        "fig2.show()"
      ],
      "metadata": {
        "id": "6J5fuRFuQImF"
      },
      "execution_count": null,
      "outputs": []
    },
    {
      "cell_type": "markdown",
      "source": [
        "#    Crypto fees website"
      ],
      "metadata": {
        "id": "T3crwZswAEnZ"
      }
    }
  ]
}