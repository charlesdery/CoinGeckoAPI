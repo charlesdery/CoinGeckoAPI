{
  "nbformat": 4,
  "nbformat_minor": 0,
  "metadata": {
    "colab": {
      "name": "watchlist_report.ipynb",
      "provenance": [],
      "collapsed_sections": [],
      "history_visible": true,
      "authorship_tag": "ABX9TyOZZrR9UtkO2rd1P4KDuzNv",
      "include_colab_link": true
    },
    "kernelspec": {
      "name": "python3",
      "display_name": "Python 3"
    },
    "language_info": {
      "name": "python"
    }
  },
  "cells": [
    {
      "cell_type": "markdown",
      "metadata": {
        "id": "view-in-github",
        "colab_type": "text"
      },
      "source": [
        "<a href=\"https://colab.research.google.com/github/custom-hyper/CoinGeckoAPI/blob/main/watchlist_report.ipynb\" target=\"_parent\"><img src=\"https://colab.research.google.com/assets/colab-badge.svg\" alt=\"Open In Colab\"/></a>"
      ]
    },
    {
      "cell_type": "markdown",
      "source": [
        ""
      ],
      "metadata": {
        "id": "UzdbdQAquXzi"
      }
    },
    {
      "cell_type": "markdown",
      "metadata": {
        "id": "3_rFSz85Oj3u"
      },
      "source": [
        "#Project Setup"
      ]
    },
    {
      "cell_type": "markdown",
      "source": [
        ""
      ],
      "metadata": {
        "id": "tbB5g3qzEzGh"
      }
    },
    {
      "cell_type": "code",
      "metadata": {
        "id": "5m4_0fgAPIA4",
        "colab": {
          "base_uri": "https://localhost:8080/"
        },
        "outputId": "f25c7fab-1561-41d4-c141-f1a6ca35bfba"
      },
      "source": [
        "#@title Install Libraries { display-mode: \"code\" }\n",
        "!pip install plotly\n",
        "!pip install pytrends\n",
        "!pip install pycoingecko\n",
        "!pip install pandas\n",
        "!pip install tweepy\n",
        "!pip install requests\n",
        "\n"
      ],
      "execution_count": null,
      "outputs": [
        {
          "output_type": "stream",
          "name": "stdout",
          "text": [
            "Requirement already satisfied: plotly in /usr/local/lib/python3.7/dist-packages (5.5.0)\n",
            "Requirement already satisfied: six in /usr/local/lib/python3.7/dist-packages (from plotly) (1.15.0)\n",
            "Requirement already satisfied: tenacity>=6.2.0 in /usr/local/lib/python3.7/dist-packages (from plotly) (8.0.1)\n",
            "Requirement already satisfied: pytrends in /usr/local/lib/python3.7/dist-packages (4.8.0)\n",
            "Requirement already satisfied: requests>=2.0 in /usr/local/lib/python3.7/dist-packages (from pytrends) (2.23.0)\n",
            "Requirement already satisfied: lxml in /usr/local/lib/python3.7/dist-packages (from pytrends) (4.2.6)\n",
            "Requirement already satisfied: pandas>=0.25 in /usr/local/lib/python3.7/dist-packages (from pytrends) (1.3.5)\n",
            "Requirement already satisfied: pytz>=2017.3 in /usr/local/lib/python3.7/dist-packages (from pandas>=0.25->pytrends) (2018.9)\n",
            "Requirement already satisfied: python-dateutil>=2.7.3 in /usr/local/lib/python3.7/dist-packages (from pandas>=0.25->pytrends) (2.8.2)\n",
            "Requirement already satisfied: numpy>=1.17.3 in /usr/local/lib/python3.7/dist-packages (from pandas>=0.25->pytrends) (1.21.5)\n",
            "Requirement already satisfied: six>=1.5 in /usr/local/lib/python3.7/dist-packages (from python-dateutil>=2.7.3->pandas>=0.25->pytrends) (1.15.0)\n",
            "Requirement already satisfied: certifi>=2017.4.17 in /usr/local/lib/python3.7/dist-packages (from requests>=2.0->pytrends) (2021.10.8)\n",
            "Requirement already satisfied: idna<3,>=2.5 in /usr/local/lib/python3.7/dist-packages (from requests>=2.0->pytrends) (2.10)\n",
            "Requirement already satisfied: urllib3!=1.25.0,!=1.25.1,<1.26,>=1.21.1 in /usr/local/lib/python3.7/dist-packages (from requests>=2.0->pytrends) (1.24.3)\n",
            "Requirement already satisfied: chardet<4,>=3.0.2 in /usr/local/lib/python3.7/dist-packages (from requests>=2.0->pytrends) (3.0.4)\n",
            "Requirement already satisfied: pycoingecko in /usr/local/lib/python3.7/dist-packages (2.2.0)\n",
            "Requirement already satisfied: requests in /usr/local/lib/python3.7/dist-packages (from pycoingecko) (2.23.0)\n",
            "Requirement already satisfied: idna<3,>=2.5 in /usr/local/lib/python3.7/dist-packages (from requests->pycoingecko) (2.10)\n",
            "Requirement already satisfied: urllib3!=1.25.0,!=1.25.1,<1.26,>=1.21.1 in /usr/local/lib/python3.7/dist-packages (from requests->pycoingecko) (1.24.3)\n",
            "Requirement already satisfied: certifi>=2017.4.17 in /usr/local/lib/python3.7/dist-packages (from requests->pycoingecko) (2021.10.8)\n",
            "Requirement already satisfied: chardet<4,>=3.0.2 in /usr/local/lib/python3.7/dist-packages (from requests->pycoingecko) (3.0.4)\n",
            "Requirement already satisfied: pandas in /usr/local/lib/python3.7/dist-packages (1.3.5)\n",
            "Requirement already satisfied: numpy>=1.17.3 in /usr/local/lib/python3.7/dist-packages (from pandas) (1.21.5)\n",
            "Requirement already satisfied: pytz>=2017.3 in /usr/local/lib/python3.7/dist-packages (from pandas) (2018.9)\n",
            "Requirement already satisfied: python-dateutil>=2.7.3 in /usr/local/lib/python3.7/dist-packages (from pandas) (2.8.2)\n",
            "Requirement already satisfied: six>=1.5 in /usr/local/lib/python3.7/dist-packages (from python-dateutil>=2.7.3->pandas) (1.15.0)\n",
            "Requirement already satisfied: tweepy in /usr/local/lib/python3.7/dist-packages (3.10.0)\n",
            "Requirement already satisfied: requests-oauthlib>=0.7.0 in /usr/local/lib/python3.7/dist-packages (from tweepy) (1.3.1)\n",
            "Requirement already satisfied: six>=1.10.0 in /usr/local/lib/python3.7/dist-packages (from tweepy) (1.15.0)\n",
            "Requirement already satisfied: requests[socks]>=2.11.1 in /usr/local/lib/python3.7/dist-packages (from tweepy) (2.23.0)\n",
            "Requirement already satisfied: oauthlib>=3.0.0 in /usr/local/lib/python3.7/dist-packages (from requests-oauthlib>=0.7.0->tweepy) (3.2.0)\n",
            "Requirement already satisfied: chardet<4,>=3.0.2 in /usr/local/lib/python3.7/dist-packages (from requests[socks]>=2.11.1->tweepy) (3.0.4)\n",
            "Requirement already satisfied: idna<3,>=2.5 in /usr/local/lib/python3.7/dist-packages (from requests[socks]>=2.11.1->tweepy) (2.10)\n",
            "Requirement already satisfied: certifi>=2017.4.17 in /usr/local/lib/python3.7/dist-packages (from requests[socks]>=2.11.1->tweepy) (2021.10.8)\n",
            "Requirement already satisfied: urllib3!=1.25.0,!=1.25.1,<1.26,>=1.21.1 in /usr/local/lib/python3.7/dist-packages (from requests[socks]>=2.11.1->tweepy) (1.24.3)\n",
            "Requirement already satisfied: PySocks!=1.5.7,>=1.5.6 in /usr/local/lib/python3.7/dist-packages (from requests[socks]>=2.11.1->tweepy) (1.7.1)\n",
            "Requirement already satisfied: requests in /usr/local/lib/python3.7/dist-packages (2.23.0)\n",
            "Requirement already satisfied: chardet<4,>=3.0.2 in /usr/local/lib/python3.7/dist-packages (from requests) (3.0.4)\n",
            "Requirement already satisfied: certifi>=2017.4.17 in /usr/local/lib/python3.7/dist-packages (from requests) (2021.10.8)\n",
            "Requirement already satisfied: idna<3,>=2.5 in /usr/local/lib/python3.7/dist-packages (from requests) (2.10)\n",
            "Requirement already satisfied: urllib3!=1.25.0,!=1.25.1,<1.26,>=1.21.1 in /usr/local/lib/python3.7/dist-packages (from requests) (1.24.3)\n"
          ]
        }
      ]
    },
    {
      "cell_type": "markdown",
      "metadata": {
        "id": "sDymunfdxzyI"
      },
      "source": [
        "# CoinGecko API Statistics Report"
      ]
    },
    {
      "cell_type": "code",
      "source": [
        "#@title Available Currencies { display-mode: \"code\" }\n",
        "import requests\n",
        "import datetime\n",
        "import time\n",
        "import json\n",
        "from google.colab import data_table\n",
        "import plotly.graph_objects as go\n",
        "import pandas as pd\n",
        "import matplotlib.pyplot as plt\n",
        "from pandas.io.json import json_normalize\n",
        "\n",
        "#General Information table\n",
        "\n",
        "def currency_stats(url):\n",
        "    \"\"\"\n",
        "    Generates a list of the currencies on CoinGecko\n",
        "    Args: url of the CoinGecko website\n",
        "\n",
        "    \"\"\"\n",
        "    frames = []\n",
        "    response = requests.get(url)\n",
        "    data = response.json()\n",
        "\n",
        "    df = pd.DataFrame (data)\n",
        "\n",
        "    print('Stats: ')\n",
        "    print(df.info(verbose=True))\n",
        "    print(df.isnull().sum())\n",
        "    print(data)\n",
        "\n",
        "    print(df.describe())\n",
        "\n",
        "def main():\n",
        "\n",
        "    url = \"https://api.coingecko.com/api/v3/simple/supported_vs_currencies\"\n",
        "    currency_stats(url)\n",
        "\n",
        "if __name__ == \"__main__\":\n",
        "    main()\n",
        "\n"
      ],
      "metadata": {
        "id": "aG_Ot5aN_OMT",
        "colab": {
          "base_uri": "https://localhost:8080/"
        },
        "outputId": "1212611e-ae9f-4f52-fd92-87213867568d"
      },
      "execution_count": null,
      "outputs": [
        {
          "output_type": "stream",
          "name": "stdout",
          "text": [
            "Stats: \n",
            "<class 'pandas.core.frame.DataFrame'>\n",
            "RangeIndex: 61 entries, 0 to 60\n",
            "Data columns (total 1 columns):\n",
            " #   Column  Non-Null Count  Dtype \n",
            "---  ------  --------------  ----- \n",
            " 0   0       61 non-null     object\n",
            "dtypes: object(1)\n",
            "memory usage: 616.0+ bytes\n",
            "None\n",
            "0    0\n",
            "dtype: int64\n",
            "['btc', 'eth', 'ltc', 'bch', 'bnb', 'eos', 'xrp', 'xlm', 'link', 'dot', 'yfi', 'usd', 'aed', 'ars', 'aud', 'bdt', 'bhd', 'bmd', 'brl', 'cad', 'chf', 'clp', 'cny', 'czk', 'dkk', 'eur', 'gbp', 'hkd', 'huf', 'idr', 'ils', 'inr', 'jpy', 'krw', 'kwd', 'lkr', 'mmk', 'mxn', 'myr', 'ngn', 'nok', 'nzd', 'php', 'pkr', 'pln', 'rub', 'sar', 'sek', 'sgd', 'thb', 'try', 'twd', 'uah', 'vef', 'vnd', 'zar', 'xdr', 'xag', 'xau', 'bits', 'sats']\n",
            "          0\n",
            "count    61\n",
            "unique   61\n",
            "top     btc\n",
            "freq      1\n"
          ]
        }
      ]
    },
    {
      "cell_type": "code",
      "source": [
        "#@title Available Coins { display-mode: \"code\" }\n",
        "import requests\n",
        "import datetime\n",
        "import time\n",
        "import json\n",
        "from google.colab import data_table\n",
        "import plotly.graph_objects as go\n",
        "import pandas as pd\n",
        "import matplotlib.pyplot as plt\n",
        "from pandas.io.json import json_normalize\n",
        "\n",
        "#General Information table\n",
        "\n",
        "def coins_stats(url):\n",
        "    \"\"\"\n",
        "    Generates a list of the coins on CoinGecko\n",
        "    Args: url of the CoinGecko website\n",
        "\n",
        "    \"\"\"\n",
        "    frames = []\n",
        "    response = requests.get(url)\n",
        "    data = response.json()\n",
        "\n",
        "    \n",
        "    df = pd.DataFrame (data)\n",
        "\n",
        "    print('Stats: ')\n",
        "    print(df.info(verbose=True))\n",
        "    print(df.isnull().sum())\n",
        "    print(df.describe())\n",
        "   \n",
        "\n",
        "\n",
        "\n",
        "def main():\n",
        "  url = \"https://api.coingecko.com/api/v3/coins/list\"\n",
        "\n",
        "  coins_stats(url)\n",
        "\n",
        "if __name__ == \"__main__\":\n",
        "    main()"
      ],
      "metadata": {
        "id": "CpfyE_IK70Aj",
        "colab": {
          "base_uri": "https://localhost:8080/"
        },
        "outputId": "9ae5e3e8-ed02-440f-ffad-038dc7cf06c8"
      },
      "execution_count": null,
      "outputs": [
        {
          "output_type": "stream",
          "name": "stdout",
          "text": [
            "Stats: \n",
            "<class 'pandas.core.frame.DataFrame'>\n",
            "RangeIndex: 13356 entries, 0 to 13355\n",
            "Data columns (total 3 columns):\n",
            " #   Column  Non-Null Count  Dtype \n",
            "---  ------  --------------  ----- \n",
            " 0   id      13356 non-null  object\n",
            " 1   symbol  13356 non-null  object\n",
            " 2   name    13356 non-null  object\n",
            "dtypes: object(3)\n",
            "memory usage: 313.2+ KB\n",
            "None\n",
            "id        0\n",
            "symbol    0\n",
            "name      0\n",
            "dtype: int64\n",
            "            id symbol    name\n",
            "count    13356  13356   13356\n",
            "unique   13356  11125   13356\n",
            "top     01coin   gold  01coin\n",
            "freq         1     10       1\n"
          ]
        }
      ]
    },
    {
      "cell_type": "markdown",
      "source": [
        "# CoinGecko API Extraction"
      ],
      "metadata": {
        "id": "XVcNrRwDAIvd"
      }
    },
    {
      "cell_type": "code",
      "source": [
        "#@title  Download Coins Data Reports { display-mode: \"code\" }\n",
        "import requests\n",
        "import datetime\n",
        "import time\n",
        "import json\n",
        "from google.colab import data_table\n",
        "import plotly.graph_objects as go\n",
        "import pandas as pd\n",
        "import matplotlib.pyplot as plt\n",
        "from pandas.io.json import json_normalize\n",
        "import logging\n",
        "import sys\n",
        "\n",
        "\n",
        "#General Information table\n",
        "def coins_list(currency, pages):\n",
        "    \"\"\"\n",
        "    Generates a list of the currencies on CoinGecko\n",
        "    Args: url of the CoinGecko website\n",
        "\n",
        "    \"\"\"\n",
        "\n",
        "    frames=[]\n",
        "\n",
        "    for page_num in pages:\n",
        "\n",
        "        url = \"https://api.coingecko.com/api/v3/coins/markets?vs_currency={}&order=market_cap_desc&per_page=100&page={}&sparkline=false&price_change_percentage=1h%2C%2024h%2C%207d%2C14d%2C30d%2C200d%2C1y\".format(currency, page_num)\n",
        "        \n",
        "        #Obtain JSON formatted data\n",
        "        response = requests.get(url)\n",
        "        data = response.json()\n",
        "\n",
        "        #Convert data to list of dataframes\n",
        "        full_table = pd.json_normalize(data)       \n",
        "        results = [full_table]\n",
        "        frames.append(full_table)\n",
        "\n",
        "        #Slow down requests\n",
        "        time.sleep(1)\n",
        "\n",
        "        #Status report\n",
        "        print('INFO: Downloading Page ' + str(page_num) + '– Rows Count ' +str(len(full_table)) + ' – source: '+ str(url))\n",
        "\n",
        "\n",
        "        single = pd.concat(frames) #Careful, this line must be outside of the for loop\n",
        "\n",
        "def main():\n",
        "    currency = 'usd'\n",
        "    pages = range(1, 6)  #can find the number of pages by dividing the total number of coins by 100\n",
        "\n",
        "    coins_list(currency, pages)\n",
        "\n",
        "    single.to_excel('Coins_List_{}.xlsx'.format(currency))\n",
        "\n",
        "\n",
        "if __name__ == \"__main__\":\n",
        "    main()\n"
      ],
      "metadata": {
        "colab": {
          "base_uri": "https://localhost:8080/"
        },
        "id": "15MpeA1AOV9g",
        "outputId": "e87beb20-49e1-4d85-e4d3-4abacb0f6444"
      },
      "execution_count": 134,
      "outputs": [
        {
          "output_type": "stream",
          "name": "stdout",
          "text": [
            "INFO: Downloading Page 1– Rows Count 100 – source: https://api.coingecko.com/api/v3/coins/markets?vs_currency=usd&order=market_cap_desc&per_page=100&page=1&sparkline=false&price_change_percentage=1h%2C%2024h%2C%207d%2C14d%2C30d%2C200d%2C1y\n",
            "INFO: Downloading Page 2– Rows Count 100 – source: https://api.coingecko.com/api/v3/coins/markets?vs_currency=usd&order=market_cap_desc&per_page=100&page=2&sparkline=false&price_change_percentage=1h%2C%2024h%2C%207d%2C14d%2C30d%2C200d%2C1y\n",
            "INFO: Downloading Page 3– Rows Count 100 – source: https://api.coingecko.com/api/v3/coins/markets?vs_currency=usd&order=market_cap_desc&per_page=100&page=3&sparkline=false&price_change_percentage=1h%2C%2024h%2C%207d%2C14d%2C30d%2C200d%2C1y\n",
            "INFO: Downloading Page 4– Rows Count 100 – source: https://api.coingecko.com/api/v3/coins/markets?vs_currency=usd&order=market_cap_desc&per_page=100&page=4&sparkline=false&price_change_percentage=1h%2C%2024h%2C%207d%2C14d%2C30d%2C200d%2C1y\n",
            "INFO: Downloading Page 5– Rows Count 100 – source: https://api.coingecko.com/api/v3/coins/markets?vs_currency=usd&order=market_cap_desc&per_page=100&page=5&sparkline=false&price_change_percentage=1h%2C%2024h%2C%207d%2C14d%2C30d%2C200d%2C1y\n"
          ]
        }
      ]
    },
    {
      "cell_type": "markdown",
      "source": [
        " #    Data Wrangling"
      ],
      "metadata": {
        "id": "T3crwZswAEnZ"
      }
    }
  ]
}