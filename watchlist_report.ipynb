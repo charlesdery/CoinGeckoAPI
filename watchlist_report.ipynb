{
  "nbformat": 4,
  "nbformat_minor": 0,
  "metadata": {
    "colab": {
      "name": "watchlist_report.ipynb",
      "provenance": [],
      "collapsed_sections": [],
      "history_visible": true,
      "authorship_tag": "ABX9TyPuIF4tBMQpFcwa2KOuYPGh",
      "include_colab_link": true
    },
    "kernelspec": {
      "name": "python3",
      "display_name": "Python 3"
    },
    "language_info": {
      "name": "python"
    }
  },
  "cells": [
    {
      "cell_type": "markdown",
      "metadata": {
        "id": "view-in-github",
        "colab_type": "text"
      },
      "source": [
        "<a href=\"https://colab.research.google.com/github/custom-hyper/CoinGeckoAPI/blob/main/watchlist_report.ipynb\" target=\"_parent\"><img src=\"https://colab.research.google.com/assets/colab-badge.svg\" alt=\"Open In Colab\"/></a>"
      ]
    },
    {
      "cell_type": "markdown",
      "source": [
        ""
      ],
      "metadata": {
        "id": "UzdbdQAquXzi"
      }
    },
    {
      "cell_type": "markdown",
      "metadata": {
        "id": "3_rFSz85Oj3u"
      },
      "source": [
        "#Project Setup"
      ]
    },
    {
      "cell_type": "markdown",
      "source": [
        ""
      ],
      "metadata": {
        "id": "tbB5g3qzEzGh"
      }
    },
    {
      "cell_type": "code",
      "metadata": {
        "id": "5m4_0fgAPIA4",
        "colab": {
          "base_uri": "https://localhost:8080/"
        },
        "outputId": "afea8a83-68f7-4b3e-d503-916fa209906e"
      },
      "source": [
        "#@title Install Libraries { display-mode: \"code\" }\n",
        "!pip install plotly\n",
        "!pip install pytrends\n",
        "!pip install pycoingecko\n",
        "!pip install pandas\n",
        "!pip install tweepy\n",
        "!pip install requests\n",
        "\n"
      ],
      "execution_count": 6,
      "outputs": [
        {
          "output_type": "stream",
          "name": "stdout",
          "text": [
            "Requirement already satisfied: plotly in /usr/local/lib/python3.7/dist-packages (5.5.0)\n",
            "Requirement already satisfied: six in /usr/local/lib/python3.7/dist-packages (from plotly) (1.15.0)\n",
            "Requirement already satisfied: tenacity>=6.2.0 in /usr/local/lib/python3.7/dist-packages (from plotly) (8.0.1)\n",
            "Requirement already satisfied: pytrends in /usr/local/lib/python3.7/dist-packages (4.8.0)\n",
            "Requirement already satisfied: pandas>=0.25 in /usr/local/lib/python3.7/dist-packages (from pytrends) (1.3.5)\n",
            "Requirement already satisfied: requests>=2.0 in /usr/local/lib/python3.7/dist-packages (from pytrends) (2.23.0)\n",
            "Requirement already satisfied: lxml in /usr/local/lib/python3.7/dist-packages (from pytrends) (4.2.6)\n",
            "Requirement already satisfied: python-dateutil>=2.7.3 in /usr/local/lib/python3.7/dist-packages (from pandas>=0.25->pytrends) (2.8.2)\n",
            "Requirement already satisfied: pytz>=2017.3 in /usr/local/lib/python3.7/dist-packages (from pandas>=0.25->pytrends) (2018.9)\n",
            "Requirement already satisfied: numpy>=1.17.3 in /usr/local/lib/python3.7/dist-packages (from pandas>=0.25->pytrends) (1.21.5)\n",
            "Requirement already satisfied: six>=1.5 in /usr/local/lib/python3.7/dist-packages (from python-dateutil>=2.7.3->pandas>=0.25->pytrends) (1.15.0)\n",
            "Requirement already satisfied: urllib3!=1.25.0,!=1.25.1,<1.26,>=1.21.1 in /usr/local/lib/python3.7/dist-packages (from requests>=2.0->pytrends) (1.24.3)\n",
            "Requirement already satisfied: idna<3,>=2.5 in /usr/local/lib/python3.7/dist-packages (from requests>=2.0->pytrends) (2.10)\n",
            "Requirement already satisfied: chardet<4,>=3.0.2 in /usr/local/lib/python3.7/dist-packages (from requests>=2.0->pytrends) (3.0.4)\n",
            "Requirement already satisfied: certifi>=2017.4.17 in /usr/local/lib/python3.7/dist-packages (from requests>=2.0->pytrends) (2021.10.8)\n",
            "Requirement already satisfied: pycoingecko in /usr/local/lib/python3.7/dist-packages (2.2.0)\n",
            "Requirement already satisfied: requests in /usr/local/lib/python3.7/dist-packages (from pycoingecko) (2.23.0)\n",
            "Requirement already satisfied: certifi>=2017.4.17 in /usr/local/lib/python3.7/dist-packages (from requests->pycoingecko) (2021.10.8)\n",
            "Requirement already satisfied: chardet<4,>=3.0.2 in /usr/local/lib/python3.7/dist-packages (from requests->pycoingecko) (3.0.4)\n",
            "Requirement already satisfied: idna<3,>=2.5 in /usr/local/lib/python3.7/dist-packages (from requests->pycoingecko) (2.10)\n",
            "Requirement already satisfied: urllib3!=1.25.0,!=1.25.1,<1.26,>=1.21.1 in /usr/local/lib/python3.7/dist-packages (from requests->pycoingecko) (1.24.3)\n",
            "Requirement already satisfied: pandas in /usr/local/lib/python3.7/dist-packages (1.3.5)\n",
            "Requirement already satisfied: numpy>=1.17.3 in /usr/local/lib/python3.7/dist-packages (from pandas) (1.21.5)\n",
            "Requirement already satisfied: pytz>=2017.3 in /usr/local/lib/python3.7/dist-packages (from pandas) (2018.9)\n",
            "Requirement already satisfied: python-dateutil>=2.7.3 in /usr/local/lib/python3.7/dist-packages (from pandas) (2.8.2)\n",
            "Requirement already satisfied: six>=1.5 in /usr/local/lib/python3.7/dist-packages (from python-dateutil>=2.7.3->pandas) (1.15.0)\n",
            "Requirement already satisfied: tweepy in /usr/local/lib/python3.7/dist-packages (3.10.0)\n",
            "Requirement already satisfied: requests[socks]>=2.11.1 in /usr/local/lib/python3.7/dist-packages (from tweepy) (2.23.0)\n",
            "Requirement already satisfied: six>=1.10.0 in /usr/local/lib/python3.7/dist-packages (from tweepy) (1.15.0)\n",
            "Requirement already satisfied: requests-oauthlib>=0.7.0 in /usr/local/lib/python3.7/dist-packages (from tweepy) (1.3.1)\n",
            "Requirement already satisfied: oauthlib>=3.0.0 in /usr/local/lib/python3.7/dist-packages (from requests-oauthlib>=0.7.0->tweepy) (3.2.0)\n",
            "Requirement already satisfied: urllib3!=1.25.0,!=1.25.1,<1.26,>=1.21.1 in /usr/local/lib/python3.7/dist-packages (from requests[socks]>=2.11.1->tweepy) (1.24.3)\n",
            "Requirement already satisfied: certifi>=2017.4.17 in /usr/local/lib/python3.7/dist-packages (from requests[socks]>=2.11.1->tweepy) (2021.10.8)\n",
            "Requirement already satisfied: chardet<4,>=3.0.2 in /usr/local/lib/python3.7/dist-packages (from requests[socks]>=2.11.1->tweepy) (3.0.4)\n",
            "Requirement already satisfied: idna<3,>=2.5 in /usr/local/lib/python3.7/dist-packages (from requests[socks]>=2.11.1->tweepy) (2.10)\n",
            "Requirement already satisfied: PySocks!=1.5.7,>=1.5.6 in /usr/local/lib/python3.7/dist-packages (from requests[socks]>=2.11.1->tweepy) (1.7.1)\n",
            "Requirement already satisfied: requests in /usr/local/lib/python3.7/dist-packages (2.23.0)\n",
            "Requirement already satisfied: certifi>=2017.4.17 in /usr/local/lib/python3.7/dist-packages (from requests) (2021.10.8)\n",
            "Requirement already satisfied: urllib3!=1.25.0,!=1.25.1,<1.26,>=1.21.1 in /usr/local/lib/python3.7/dist-packages (from requests) (1.24.3)\n",
            "Requirement already satisfied: idna<3,>=2.5 in /usr/local/lib/python3.7/dist-packages (from requests) (2.10)\n",
            "Requirement already satisfied: chardet<4,>=3.0.2 in /usr/local/lib/python3.7/dist-packages (from requests) (3.0.4)\n"
          ]
        }
      ]
    },
    {
      "cell_type": "markdown",
      "metadata": {
        "id": "sDymunfdxzyI"
      },
      "source": [
        "# CoinGecko API Statistics Report"
      ]
    },
    {
      "cell_type": "code",
      "source": [
        "#@title Available Currencies { display-mode: \"code\" }\n",
        "import requests\n",
        "import datetime\n",
        "import time\n",
        "import json\n",
        "from google.colab import data_table\n",
        "import plotly.graph_objects as go\n",
        "import pandas as pd\n",
        "import matplotlib.pyplot as plt\n",
        "from pandas.io.json import json_normalize\n",
        "\n",
        "#General Information table\n",
        "\n",
        "def currency_stats(url):\n",
        "    \"\"\"\n",
        "    Generates a list of the currencies on CoinGecko\n",
        "    Args: url of the CoinGecko website\n",
        "\n",
        "    \"\"\"\n",
        "    frames = []\n",
        "    response = requests.get(url)\n",
        "    data = response.json()\n",
        "\n",
        "    df = pd.DataFrame (data)\n",
        "\n",
        "    print('Stats: ')\n",
        "    print(df.info(verbose=True))\n",
        "    print(df.isnull().sum())\n",
        "    print(data)\n",
        "\n",
        "    print(df.describe())\n",
        "\n",
        "def main():\n",
        "\n",
        "    url = \"https://api.coingecko.com/api/v3/simple/supported_vs_currencies\"\n",
        "    currency_stats(url)\n",
        "\n",
        "if __name__ == \"__main__\":\n",
        "    main()\n",
        "\n"
      ],
      "metadata": {
        "id": "aG_Ot5aN_OMT",
        "colab": {
          "base_uri": "https://localhost:8080/"
        },
        "outputId": "f0ad866f-0111-4a75-a2e6-15b7f101e55e"
      },
      "execution_count": 7,
      "outputs": [
        {
          "output_type": "stream",
          "name": "stdout",
          "text": [
            "Stats: \n",
            "<class 'pandas.core.frame.DataFrame'>\n",
            "RangeIndex: 61 entries, 0 to 60\n",
            "Data columns (total 1 columns):\n",
            " #   Column  Non-Null Count  Dtype \n",
            "---  ------  --------------  ----- \n",
            " 0   0       61 non-null     object\n",
            "dtypes: object(1)\n",
            "memory usage: 616.0+ bytes\n",
            "None\n",
            "0    0\n",
            "dtype: int64\n",
            "['btc', 'eth', 'ltc', 'bch', 'bnb', 'eos', 'xrp', 'xlm', 'link', 'dot', 'yfi', 'usd', 'aed', 'ars', 'aud', 'bdt', 'bhd', 'bmd', 'brl', 'cad', 'chf', 'clp', 'cny', 'czk', 'dkk', 'eur', 'gbp', 'hkd', 'huf', 'idr', 'ils', 'inr', 'jpy', 'krw', 'kwd', 'lkr', 'mmk', 'mxn', 'myr', 'ngn', 'nok', 'nzd', 'php', 'pkr', 'pln', 'rub', 'sar', 'sek', 'sgd', 'thb', 'try', 'twd', 'uah', 'vef', 'vnd', 'zar', 'xdr', 'xag', 'xau', 'bits', 'sats']\n",
            "          0\n",
            "count    61\n",
            "unique   61\n",
            "top     btc\n",
            "freq      1\n"
          ]
        }
      ]
    },
    {
      "cell_type": "code",
      "source": [
        "#@title Available Coins { display-mode: \"code\" }\n",
        "import requests\n",
        "import datetime\n",
        "import time\n",
        "import json\n",
        "from google.colab import data_table\n",
        "import plotly.graph_objects as go\n",
        "import pandas as pd\n",
        "import matplotlib.pyplot as plt\n",
        "from pandas.io.json import json_normalize\n",
        "\n",
        "#General Information table\n",
        "\n",
        "def coins_stats(url):\n",
        "    \"\"\"\n",
        "    Generates a list of the coins on CoinGecko\n",
        "    Args: url of the CoinGecko website\n",
        "\n",
        "    \"\"\"\n",
        "    frames = []\n",
        "    response = requests.get(url)\n",
        "    data = response.json()\n",
        "\n",
        "    \n",
        "    df = pd.DataFrame (data)\n",
        "\n",
        "    print('Stats: ')\n",
        "    print(df.info(verbose=True))\n",
        "    print(df.isnull().sum())\n",
        "    print(df.describe())\n",
        "   \n",
        "\n",
        "\n",
        "\n",
        "def main():\n",
        "  url = \"https://api.coingecko.com/api/v3/coins/list\"\n",
        "\n",
        "  coins_stats(url)\n",
        "\n",
        "if __name__ == \"__main__\":\n",
        "    main()"
      ],
      "metadata": {
        "id": "CpfyE_IK70Aj",
        "colab": {
          "base_uri": "https://localhost:8080/"
        },
        "outputId": "95ce8437-9ab7-4a2d-a1ce-74fee882a831"
      },
      "execution_count": 3,
      "outputs": [
        {
          "output_type": "stream",
          "name": "stdout",
          "text": [
            "Stats: \n",
            "<class 'pandas.core.frame.DataFrame'>\n",
            "RangeIndex: 13356 entries, 0 to 13355\n",
            "Data columns (total 3 columns):\n",
            " #   Column  Non-Null Count  Dtype \n",
            "---  ------  --------------  ----- \n",
            " 0   id      13356 non-null  object\n",
            " 1   symbol  13356 non-null  object\n",
            " 2   name    13356 non-null  object\n",
            "dtypes: object(3)\n",
            "memory usage: 313.2+ KB\n",
            "None\n",
            "id        0\n",
            "symbol    0\n",
            "name      0\n",
            "dtype: int64\n",
            "            id symbol    name\n",
            "count    13356  13356   13356\n",
            "unique   13356  11125   13356\n",
            "top     01coin   gold  01coin\n",
            "freq         1     10       1\n"
          ]
        }
      ]
    },
    {
      "cell_type": "markdown",
      "source": [
        "# CoinGecko API Extraction"
      ],
      "metadata": {
        "id": "XVcNrRwDAIvd"
      }
    },
    {
      "cell_type": "code",
      "source": [
        "#@title  Download Coins Data Reports { display-mode: \"code\" }\n",
        "import requests\n",
        "import datetime\n",
        "import time\n",
        "import json\n",
        "from google.colab import data_table\n",
        "import plotly.graph_objects as go\n",
        "import pandas as pd\n",
        "import matplotlib.pyplot as plt\n",
        "from pandas.io.json import json_normalize\n",
        "import logging\n",
        "import sys\n",
        "\n",
        "\n",
        "#General Information table\n",
        "def coins_list(currency, pages):\n",
        "    \"\"\"\n",
        "    Generates a list of the currencies on CoinGecko\n",
        "    Args: url of the CoinGecko website\n",
        "\n",
        "    \"\"\"\n",
        "\n",
        "    frames=[]\n",
        "\n",
        "    for page_num in pages:\n",
        "\n",
        "        url = \"https://api.coingecko.com/api/v3/coins/markets?vs_currency={}&order=market_cap_desc&per_page=100&page={}&sparkline=false\".format(currency, page_num)\n",
        "        \n",
        "        #Obtain JSON formatted data\n",
        "        response = requests.get(url)\n",
        "        data = response.json()\n",
        "\n",
        "        #Convert data to list of dataframes\n",
        "        full_table = pd.json_normalize(data)       \n",
        "        results = [full_table]\n",
        "        frames.append(full_table)\n",
        "\n",
        "        #Slow down requests\n",
        "        time.sleep(1)\n",
        "\n",
        "        #Status report\n",
        "        print('INFO: Downloading Page ' + str(page_num) + '– Rows Count ' +str(len(full_table)) + ' – source: '+ str(url))\n",
        "\n",
        "\n",
        "    single = pd.concat(frames) #Careful, this line must be outside of the for loop\n",
        "\n",
        "def main():\n",
        "    currency = 'usd'\n",
        "    pages = range(1, 135) \n",
        "\n",
        "    coins_list(currency, pages)\n",
        "\n",
        "    single.to_excel('Coins_List_{}_p{}.xlsx'.format(currency, page_num))\n",
        "\n",
        "\n",
        "if __name__ == \"__main__\":\n",
        "    main()\n"
      ],
      "metadata": {
        "colab": {
          "base_uri": "https://localhost:8080/"
        },
        "id": "15MpeA1AOV9g",
        "outputId": "256e497d-938a-42f3-b4c6-9906c8d61b2e"
      },
      "execution_count": null,
      "outputs": [
        {
          "output_type": "stream",
          "name": "stdout",
          "text": [
            "INFO: Downloading Page 1– Rows Count 100 – source: https://api.coingecko.com/api/v3/coins/markets?vs_currency=usd&order=market_cap_desc&per_page=100&page=1&sparkline=false\n",
            "INFO: Downloading Page 2– Rows Count 100 – source: https://api.coingecko.com/api/v3/coins/markets?vs_currency=usd&order=market_cap_desc&per_page=100&page=2&sparkline=false\n",
            "INFO: Downloading Page 3– Rows Count 100 – source: https://api.coingecko.com/api/v3/coins/markets?vs_currency=usd&order=market_cap_desc&per_page=100&page=3&sparkline=false\n",
            "INFO: Downloading Page 4– Rows Count 100 – source: https://api.coingecko.com/api/v3/coins/markets?vs_currency=usd&order=market_cap_desc&per_page=100&page=4&sparkline=false\n",
            "INFO: Downloading Page 5– Rows Count 100 – source: https://api.coingecko.com/api/v3/coins/markets?vs_currency=usd&order=market_cap_desc&per_page=100&page=5&sparkline=false\n",
            "INFO: Downloading Page 6– Rows Count 100 – source: https://api.coingecko.com/api/v3/coins/markets?vs_currency=usd&order=market_cap_desc&per_page=100&page=6&sparkline=false\n",
            "INFO: Downloading Page 7– Rows Count 100 – source: https://api.coingecko.com/api/v3/coins/markets?vs_currency=usd&order=market_cap_desc&per_page=100&page=7&sparkline=false\n",
            "INFO: Downloading Page 8– Rows Count 100 – source: https://api.coingecko.com/api/v3/coins/markets?vs_currency=usd&order=market_cap_desc&per_page=100&page=8&sparkline=false\n",
            "INFO: Downloading Page 9– Rows Count 100 – source: https://api.coingecko.com/api/v3/coins/markets?vs_currency=usd&order=market_cap_desc&per_page=100&page=9&sparkline=false\n",
            "INFO: Downloading Page 10– Rows Count 100 – source: https://api.coingecko.com/api/v3/coins/markets?vs_currency=usd&order=market_cap_desc&per_page=100&page=10&sparkline=false\n",
            "INFO: Downloading Page 11– Rows Count 100 – source: https://api.coingecko.com/api/v3/coins/markets?vs_currency=usd&order=market_cap_desc&per_page=100&page=11&sparkline=false\n",
            "INFO: Downloading Page 12– Rows Count 100 – source: https://api.coingecko.com/api/v3/coins/markets?vs_currency=usd&order=market_cap_desc&per_page=100&page=12&sparkline=false\n",
            "INFO: Downloading Page 13– Rows Count 100 – source: https://api.coingecko.com/api/v3/coins/markets?vs_currency=usd&order=market_cap_desc&per_page=100&page=13&sparkline=false\n",
            "INFO: Downloading Page 14– Rows Count 100 – source: https://api.coingecko.com/api/v3/coins/markets?vs_currency=usd&order=market_cap_desc&per_page=100&page=14&sparkline=false\n",
            "INFO: Downloading Page 15– Rows Count 100 – source: https://api.coingecko.com/api/v3/coins/markets?vs_currency=usd&order=market_cap_desc&per_page=100&page=15&sparkline=false\n",
            "INFO: Downloading Page 16– Rows Count 100 – source: https://api.coingecko.com/api/v3/coins/markets?vs_currency=usd&order=market_cap_desc&per_page=100&page=16&sparkline=false\n",
            "INFO: Downloading Page 17– Rows Count 100 – source: https://api.coingecko.com/api/v3/coins/markets?vs_currency=usd&order=market_cap_desc&per_page=100&page=17&sparkline=false\n",
            "INFO: Downloading Page 18– Rows Count 100 – source: https://api.coingecko.com/api/v3/coins/markets?vs_currency=usd&order=market_cap_desc&per_page=100&page=18&sparkline=false\n",
            "INFO: Downloading Page 19– Rows Count 100 – source: https://api.coingecko.com/api/v3/coins/markets?vs_currency=usd&order=market_cap_desc&per_page=100&page=19&sparkline=false\n",
            "INFO: Downloading Page 20– Rows Count 100 – source: https://api.coingecko.com/api/v3/coins/markets?vs_currency=usd&order=market_cap_desc&per_page=100&page=20&sparkline=false\n",
            "INFO: Downloading Page 21– Rows Count 100 – source: https://api.coingecko.com/api/v3/coins/markets?vs_currency=usd&order=market_cap_desc&per_page=100&page=21&sparkline=false\n",
            "INFO: Downloading Page 22– Rows Count 100 – source: https://api.coingecko.com/api/v3/coins/markets?vs_currency=usd&order=market_cap_desc&per_page=100&page=22&sparkline=false\n",
            "INFO: Downloading Page 23– Rows Count 100 – source: https://api.coingecko.com/api/v3/coins/markets?vs_currency=usd&order=market_cap_desc&per_page=100&page=23&sparkline=false\n",
            "INFO: Downloading Page 24– Rows Count 100 – source: https://api.coingecko.com/api/v3/coins/markets?vs_currency=usd&order=market_cap_desc&per_page=100&page=24&sparkline=false\n",
            "INFO: Downloading Page 25– Rows Count 100 – source: https://api.coingecko.com/api/v3/coins/markets?vs_currency=usd&order=market_cap_desc&per_page=100&page=25&sparkline=false\n",
            "INFO: Downloading Page 26– Rows Count 100 – source: https://api.coingecko.com/api/v3/coins/markets?vs_currency=usd&order=market_cap_desc&per_page=100&page=26&sparkline=false\n",
            "INFO: Downloading Page 27– Rows Count 100 – source: https://api.coingecko.com/api/v3/coins/markets?vs_currency=usd&order=market_cap_desc&per_page=100&page=27&sparkline=false\n",
            "INFO: Downloading Page 28– Rows Count 100 – source: https://api.coingecko.com/api/v3/coins/markets?vs_currency=usd&order=market_cap_desc&per_page=100&page=28&sparkline=false\n",
            "INFO: Downloading Page 29– Rows Count 100 – source: https://api.coingecko.com/api/v3/coins/markets?vs_currency=usd&order=market_cap_desc&per_page=100&page=29&sparkline=false\n",
            "INFO: Downloading Page 30– Rows Count 100 – source: https://api.coingecko.com/api/v3/coins/markets?vs_currency=usd&order=market_cap_desc&per_page=100&page=30&sparkline=false\n",
            "INFO: Downloading Page 31– Rows Count 100 – source: https://api.coingecko.com/api/v3/coins/markets?vs_currency=usd&order=market_cap_desc&per_page=100&page=31&sparkline=false\n",
            "INFO: Downloading Page 32– Rows Count 100 – source: https://api.coingecko.com/api/v3/coins/markets?vs_currency=usd&order=market_cap_desc&per_page=100&page=32&sparkline=false\n",
            "INFO: Downloading Page 33– Rows Count 100 – source: https://api.coingecko.com/api/v3/coins/markets?vs_currency=usd&order=market_cap_desc&per_page=100&page=33&sparkline=false\n",
            "INFO: Downloading Page 34– Rows Count 100 – source: https://api.coingecko.com/api/v3/coins/markets?vs_currency=usd&order=market_cap_desc&per_page=100&page=34&sparkline=false\n",
            "INFO: Downloading Page 35– Rows Count 100 – source: https://api.coingecko.com/api/v3/coins/markets?vs_currency=usd&order=market_cap_desc&per_page=100&page=35&sparkline=false\n",
            "INFO: Downloading Page 36– Rows Count 100 – source: https://api.coingecko.com/api/v3/coins/markets?vs_currency=usd&order=market_cap_desc&per_page=100&page=36&sparkline=false\n",
            "INFO: Downloading Page 37– Rows Count 100 – source: https://api.coingecko.com/api/v3/coins/markets?vs_currency=usd&order=market_cap_desc&per_page=100&page=37&sparkline=false\n",
            "INFO: Downloading Page 38– Rows Count 100 – source: https://api.coingecko.com/api/v3/coins/markets?vs_currency=usd&order=market_cap_desc&per_page=100&page=38&sparkline=false\n",
            "INFO: Downloading Page 39– Rows Count 100 – source: https://api.coingecko.com/api/v3/coins/markets?vs_currency=usd&order=market_cap_desc&per_page=100&page=39&sparkline=false\n",
            "INFO: Downloading Page 40– Rows Count 100 – source: https://api.coingecko.com/api/v3/coins/markets?vs_currency=usd&order=market_cap_desc&per_page=100&page=40&sparkline=false\n",
            "INFO: Downloading Page 41– Rows Count 100 – source: https://api.coingecko.com/api/v3/coins/markets?vs_currency=usd&order=market_cap_desc&per_page=100&page=41&sparkline=false\n",
            "INFO: Downloading Page 42– Rows Count 100 – source: https://api.coingecko.com/api/v3/coins/markets?vs_currency=usd&order=market_cap_desc&per_page=100&page=42&sparkline=false\n",
            "INFO: Downloading Page 43– Rows Count 100 – source: https://api.coingecko.com/api/v3/coins/markets?vs_currency=usd&order=market_cap_desc&per_page=100&page=43&sparkline=false\n",
            "INFO: Downloading Page 44– Rows Count 100 – source: https://api.coingecko.com/api/v3/coins/markets?vs_currency=usd&order=market_cap_desc&per_page=100&page=44&sparkline=false\n",
            "INFO: Downloading Page 45– Rows Count 100 – source: https://api.coingecko.com/api/v3/coins/markets?vs_currency=usd&order=market_cap_desc&per_page=100&page=45&sparkline=false\n",
            "INFO: Downloading Page 46– Rows Count 100 – source: https://api.coingecko.com/api/v3/coins/markets?vs_currency=usd&order=market_cap_desc&per_page=100&page=46&sparkline=false\n",
            "INFO: Downloading Page 47– Rows Count 100 – source: https://api.coingecko.com/api/v3/coins/markets?vs_currency=usd&order=market_cap_desc&per_page=100&page=47&sparkline=false\n",
            "INFO: Downloading Page 48– Rows Count 100 – source: https://api.coingecko.com/api/v3/coins/markets?vs_currency=usd&order=market_cap_desc&per_page=100&page=48&sparkline=false\n",
            "INFO: Downloading Page 49– Rows Count 100 – source: https://api.coingecko.com/api/v3/coins/markets?vs_currency=usd&order=market_cap_desc&per_page=100&page=49&sparkline=false\n",
            "INFO: Downloading Page 50– Rows Count 100 – source: https://api.coingecko.com/api/v3/coins/markets?vs_currency=usd&order=market_cap_desc&per_page=100&page=50&sparkline=false\n",
            "INFO: Downloading Page 51– Rows Count 100 – source: https://api.coingecko.com/api/v3/coins/markets?vs_currency=usd&order=market_cap_desc&per_page=100&page=51&sparkline=false\n",
            "INFO: Downloading Page 52– Rows Count 100 – source: https://api.coingecko.com/api/v3/coins/markets?vs_currency=usd&order=market_cap_desc&per_page=100&page=52&sparkline=false\n",
            "INFO: Downloading Page 53– Rows Count 100 – source: https://api.coingecko.com/api/v3/coins/markets?vs_currency=usd&order=market_cap_desc&per_page=100&page=53&sparkline=false\n",
            "INFO: Downloading Page 54– Rows Count 100 – source: https://api.coingecko.com/api/v3/coins/markets?vs_currency=usd&order=market_cap_desc&per_page=100&page=54&sparkline=false\n",
            "INFO: Downloading Page 55– Rows Count 100 – source: https://api.coingecko.com/api/v3/coins/markets?vs_currency=usd&order=market_cap_desc&per_page=100&page=55&sparkline=false\n",
            "INFO: Downloading Page 56– Rows Count 100 – source: https://api.coingecko.com/api/v3/coins/markets?vs_currency=usd&order=market_cap_desc&per_page=100&page=56&sparkline=false\n",
            "INFO: Downloading Page 57– Rows Count 100 – source: https://api.coingecko.com/api/v3/coins/markets?vs_currency=usd&order=market_cap_desc&per_page=100&page=57&sparkline=false\n",
            "INFO: Downloading Page 58– Rows Count 100 – source: https://api.coingecko.com/api/v3/coins/markets?vs_currency=usd&order=market_cap_desc&per_page=100&page=58&sparkline=false\n",
            "INFO: Downloading Page 59– Rows Count 100 – source: https://api.coingecko.com/api/v3/coins/markets?vs_currency=usd&order=market_cap_desc&per_page=100&page=59&sparkline=false\n",
            "INFO: Downloading Page 60– Rows Count 100 – source: https://api.coingecko.com/api/v3/coins/markets?vs_currency=usd&order=market_cap_desc&per_page=100&page=60&sparkline=false\n",
            "INFO: Downloading Page 61– Rows Count 100 – source: https://api.coingecko.com/api/v3/coins/markets?vs_currency=usd&order=market_cap_desc&per_page=100&page=61&sparkline=false\n",
            "INFO: Downloading Page 62– Rows Count 100 – source: https://api.coingecko.com/api/v3/coins/markets?vs_currency=usd&order=market_cap_desc&per_page=100&page=62&sparkline=false\n",
            "INFO: Downloading Page 63– Rows Count 100 – source: https://api.coingecko.com/api/v3/coins/markets?vs_currency=usd&order=market_cap_desc&per_page=100&page=63&sparkline=false\n",
            "INFO: Downloading Page 64– Rows Count 100 – source: https://api.coingecko.com/api/v3/coins/markets?vs_currency=usd&order=market_cap_desc&per_page=100&page=64&sparkline=false\n",
            "INFO: Downloading Page 65– Rows Count 100 – source: https://api.coingecko.com/api/v3/coins/markets?vs_currency=usd&order=market_cap_desc&per_page=100&page=65&sparkline=false\n",
            "INFO: Downloading Page 66– Rows Count 100 – source: https://api.coingecko.com/api/v3/coins/markets?vs_currency=usd&order=market_cap_desc&per_page=100&page=66&sparkline=false\n",
            "INFO: Downloading Page 67– Rows Count 100 – source: https://api.coingecko.com/api/v3/coins/markets?vs_currency=usd&order=market_cap_desc&per_page=100&page=67&sparkline=false\n",
            "INFO: Downloading Page 68– Rows Count 100 – source: https://api.coingecko.com/api/v3/coins/markets?vs_currency=usd&order=market_cap_desc&per_page=100&page=68&sparkline=false\n",
            "INFO: Downloading Page 69– Rows Count 100 – source: https://api.coingecko.com/api/v3/coins/markets?vs_currency=usd&order=market_cap_desc&per_page=100&page=69&sparkline=false\n",
            "INFO: Downloading Page 70– Rows Count 100 – source: https://api.coingecko.com/api/v3/coins/markets?vs_currency=usd&order=market_cap_desc&per_page=100&page=70&sparkline=false\n",
            "INFO: Downloading Page 71– Rows Count 100 – source: https://api.coingecko.com/api/v3/coins/markets?vs_currency=usd&order=market_cap_desc&per_page=100&page=71&sparkline=false\n",
            "INFO: Downloading Page 72– Rows Count 100 – source: https://api.coingecko.com/api/v3/coins/markets?vs_currency=usd&order=market_cap_desc&per_page=100&page=72&sparkline=false\n",
            "INFO: Downloading Page 73– Rows Count 100 – source: https://api.coingecko.com/api/v3/coins/markets?vs_currency=usd&order=market_cap_desc&per_page=100&page=73&sparkline=false\n",
            "INFO: Downloading Page 74– Rows Count 100 – source: https://api.coingecko.com/api/v3/coins/markets?vs_currency=usd&order=market_cap_desc&per_page=100&page=74&sparkline=false\n",
            "INFO: Downloading Page 75– Rows Count 100 – source: https://api.coingecko.com/api/v3/coins/markets?vs_currency=usd&order=market_cap_desc&per_page=100&page=75&sparkline=false\n",
            "INFO: Downloading Page 76– Rows Count 100 – source: https://api.coingecko.com/api/v3/coins/markets?vs_currency=usd&order=market_cap_desc&per_page=100&page=76&sparkline=false\n",
            "INFO: Downloading Page 77– Rows Count 100 – source: https://api.coingecko.com/api/v3/coins/markets?vs_currency=usd&order=market_cap_desc&per_page=100&page=77&sparkline=false\n",
            "INFO: Downloading Page 78– Rows Count 100 – source: https://api.coingecko.com/api/v3/coins/markets?vs_currency=usd&order=market_cap_desc&per_page=100&page=78&sparkline=false\n",
            "INFO: Downloading Page 79– Rows Count 100 – source: https://api.coingecko.com/api/v3/coins/markets?vs_currency=usd&order=market_cap_desc&per_page=100&page=79&sparkline=false\n",
            "INFO: Downloading Page 80– Rows Count 100 – source: https://api.coingecko.com/api/v3/coins/markets?vs_currency=usd&order=market_cap_desc&per_page=100&page=80&sparkline=false\n",
            "INFO: Downloading Page 81– Rows Count 100 – source: https://api.coingecko.com/api/v3/coins/markets?vs_currency=usd&order=market_cap_desc&per_page=100&page=81&sparkline=false\n",
            "INFO: Downloading Page 82– Rows Count 100 – source: https://api.coingecko.com/api/v3/coins/markets?vs_currency=usd&order=market_cap_desc&per_page=100&page=82&sparkline=false\n",
            "INFO: Downloading Page 83– Rows Count 100 – source: https://api.coingecko.com/api/v3/coins/markets?vs_currency=usd&order=market_cap_desc&per_page=100&page=83&sparkline=false\n",
            "INFO: Downloading Page 84– Rows Count 100 – source: https://api.coingecko.com/api/v3/coins/markets?vs_currency=usd&order=market_cap_desc&per_page=100&page=84&sparkline=false\n",
            "INFO: Downloading Page 85– Rows Count 100 – source: https://api.coingecko.com/api/v3/coins/markets?vs_currency=usd&order=market_cap_desc&per_page=100&page=85&sparkline=false\n",
            "INFO: Downloading Page 86– Rows Count 100 – source: https://api.coingecko.com/api/v3/coins/markets?vs_currency=usd&order=market_cap_desc&per_page=100&page=86&sparkline=false\n",
            "INFO: Downloading Page 87– Rows Count 100 – source: https://api.coingecko.com/api/v3/coins/markets?vs_currency=usd&order=market_cap_desc&per_page=100&page=87&sparkline=false\n",
            "INFO: Downloading Page 88– Rows Count 100 – source: https://api.coingecko.com/api/v3/coins/markets?vs_currency=usd&order=market_cap_desc&per_page=100&page=88&sparkline=false\n",
            "INFO: Downloading Page 89– Rows Count 100 – source: https://api.coingecko.com/api/v3/coins/markets?vs_currency=usd&order=market_cap_desc&per_page=100&page=89&sparkline=false\n",
            "INFO: Downloading Page 90– Rows Count 100 – source: https://api.coingecko.com/api/v3/coins/markets?vs_currency=usd&order=market_cap_desc&per_page=100&page=90&sparkline=false\n",
            "INFO: Downloading Page 91– Rows Count 100 – source: https://api.coingecko.com/api/v3/coins/markets?vs_currency=usd&order=market_cap_desc&per_page=100&page=91&sparkline=false\n",
            "INFO: Downloading Page 92– Rows Count 100 – source: https://api.coingecko.com/api/v3/coins/markets?vs_currency=usd&order=market_cap_desc&per_page=100&page=92&sparkline=false\n",
            "INFO: Downloading Page 93– Rows Count 100 – source: https://api.coingecko.com/api/v3/coins/markets?vs_currency=usd&order=market_cap_desc&per_page=100&page=93&sparkline=false\n",
            "INFO: Downloading Page 94– Rows Count 100 – source: https://api.coingecko.com/api/v3/coins/markets?vs_currency=usd&order=market_cap_desc&per_page=100&page=94&sparkline=false\n",
            "INFO: Downloading Page 95– Rows Count 100 – source: https://api.coingecko.com/api/v3/coins/markets?vs_currency=usd&order=market_cap_desc&per_page=100&page=95&sparkline=false\n"
          ]
        }
      ]
    },
    {
      "cell_type": "code",
      "source": [
        "import ipywidgets as widgets\n",
        "\n",
        "slider = widgets.IntSlider(20, min=0, max=100)\n",
        "slider"
      ],
      "metadata": {
        "id": "dVbYPBCEADlG"
      },
      "execution_count": null,
      "outputs": []
    },
    {
      "cell_type": "code",
      "source": [
        "import ipywidgets as widgets\n",
        "\n",
        "slider = widgets.IntSlider(20, min=0, max=100)\n",
        "slider"
      ],
      "metadata": {
        "id": "trDLKiuCAEcc"
      },
      "execution_count": null,
      "outputs": []
    },
    {
      "cell_type": "code",
      "source": [
        "import ipywidgets as widgets\n",
        "\n",
        "slider = widgets.IntSlider(20, min=0, max=100)\n",
        "slider"
      ],
      "metadata": {
        "id": "EuaESzAXAE4Z"
      },
      "execution_count": null,
      "outputs": []
    },
    {
      "cell_type": "code",
      "source": [
        "import altair as alt\n",
        "import ipywidgets as widgets\n",
        "from vega_datasets import data\n",
        "\n",
        "source = data.stocks()\n",
        "\n",
        "stock_picker = widgets.SelectMultiple(\n",
        "    options=source.symbol.unique(),\n",
        "    value=list(source.symbol.unique()),\n",
        "    description='Symbols')\n",
        "\n",
        "# The value of symbols will come from the stock_picker.\n",
        "@widgets.interact(symbols=stock_picker)\n",
        "def render(symbols):\n",
        "  selected = source[source.symbol.isin(list(symbols))]\n",
        "\n",
        "  return alt.Chart(selected).mark_line().encode(\n",
        "      x='date',\n",
        "      y='price',\n",
        "      color='symbol',\n",
        "      strokeDash='symbol',\n",
        "  )"
      ],
      "metadata": {
        "id": "3WDPE9MQAE4Z"
      },
      "execution_count": null,
      "outputs": []
    },
    {
      "cell_type": "code",
      "source": [
        "import altair as alt\n",
        "import ipywidgets as widgets\n",
        "from vega_datasets import data\n",
        "\n",
        "source = data.stocks()\n",
        "\n",
        "stock_picker = widgets.SelectMultiple(\n",
        "    options=source.symbol.unique(),\n",
        "    value=list(source.symbol.unique()),\n",
        "    description='Symbols')\n",
        "\n",
        "# The value of symbols will come from the stock_picker.\n",
        "@widgets.interact(symbols=stock_picker)\n",
        "def render(symbols):\n",
        "  selected = source[source.symbol.isin(list(symbols))]\n",
        "\n",
        "  return alt.Chart(selected).mark_line().encode(\n",
        "      x='date',\n",
        "      y='price',\n",
        "      color='symbol',\n",
        "      strokeDash='symbol',\n",
        "  )"
      ],
      "metadata": {
        "id": "R1v_LK5DAEcd"
      },
      "execution_count": null,
      "outputs": []
    },
    {
      "cell_type": "code",
      "source": [
        "import altair as alt\n",
        "import ipywidgets as widgets\n",
        "from vega_datasets import data\n",
        "\n",
        "source = data.stocks()\n",
        "\n",
        "stock_picker = widgets.SelectMultiple(\n",
        "    options=source.symbol.unique(),\n",
        "    value=list(source.symbol.unique()),\n",
        "    description='Symbols')\n",
        "\n",
        "# The value of symbols will come from the stock_picker.\n",
        "@widgets.interact(symbols=stock_picker)\n",
        "def render(symbols):\n",
        "  selected = source[source.symbol.isin(list(symbols))]\n",
        "\n",
        "  return alt.Chart(selected).mark_line().encode(\n",
        "      x='date',\n",
        "      y='price',\n",
        "      color='symbol',\n",
        "      strokeDash='symbol',\n",
        "  )"
      ],
      "metadata": {
        "id": "iFuomuUkADlM"
      },
      "execution_count": null,
      "outputs": []
    },
    {
      "cell_type": "code",
      "source": [
        "#@title  Download Coins Data Reports { display-mode: \"code\" }\n",
        "import requests\n",
        "import datetime\n",
        "import time\n",
        "import json\n",
        "from google.colab import data_table\n",
        "import plotly.graph_objects as go\n",
        "import pandas as pd\n",
        "import matplotlib.pyplot as plt\n",
        "from pandas.io.json import json_normalize\n",
        "import logging\n",
        "import sys\n",
        "\n",
        "\n",
        "#General Information table\n",
        "def coins_list(currency, pages):\n",
        "    \"\"\"\n",
        "    Generates a list of the currencies on CoinGecko\n",
        "    Args: url of the CoinGecko website\n",
        "\n",
        "    \"\"\"\n",
        "\n",
        "    table=[]\n",
        "\n",
        "    for page_num in pages:\n",
        "        url = \"https://api.coingecko.com/api/v3/coins/markets?vs_currency={}&order=market_cap_desc&per_page=100&page={}&sparkline=false\".format(currency, page_num)\n",
        "        \n",
        "        response = requests.get(url)\n",
        "        data = response.json()\n",
        "        #print(data)\n",
        "        full_table = pd.json_normalize(data)\n",
        "        #print(full_table)\n",
        "        #fruits_raw = [full_table] #convert the result to list\n",
        "\n",
        "        #fruits_df = pd.DataFrame(fruits_raw)\n",
        "        \n",
        "        # Add the frame to the list\n",
        "        table.append(full_table)\n",
        "        #print(table)\n",
        "        time.sleep(1.2)\n",
        "        print('Downloading Page ' + str(page_num) + ' – source: '+ str(url))\n",
        "    \n",
        "        single = pd.concat(table)\n",
        "\n",
        "def main():\n",
        "  currency = 'usd'\n",
        "  pages = range(1, 3) \n",
        "\n",
        "  coins_list(currency, pages)\n",
        "     \n",
        "  \n",
        "  \n",
        " # single = pd.concat(table)\n",
        "\n",
        "  single.to_excel('appended.xlsx')\n",
        "\n",
        "if __name__ == \"__main__\":\n",
        "    main()\n"
      ],
      "metadata": {
        "colab": {
          "base_uri": "https://localhost:8080/",
          "height": 165
        },
        "outputId": "72d91516-7b44-49c5-d95f-ff46e6acbc73",
        "id": "vdE8QnQm7EnM"
      },
      "execution_count": 38,
      "outputs": [
        {
          "output_type": "error",
          "ename": "NameError",
          "evalue": "ignored",
          "traceback": [
            "\u001b[0;31m---------------------------------------------------------------------------\u001b[0m",
            "\u001b[0;31mNameError\u001b[0m                                 Traceback (most recent call last)",
            "\u001b[0;32m<ipython-input-38-b4b44502d7db>\u001b[0m in \u001b[0;36m<module>\u001b[0;34m()\u001b[0m\n\u001b[0;32m----> 1\u001b[0;31m \u001b[0mtable\u001b[0m\u001b[0;34m.\u001b[0m\u001b[0mappend\u001b[0m\u001b[0;34m(\u001b[0m\u001b[0mfull_table\u001b[0m\u001b[0;34m)\u001b[0m\u001b[0;34m\u001b[0m\u001b[0;34m\u001b[0m\u001b[0m\n\u001b[0m",
            "\u001b[0;31mNameError\u001b[0m: name 'full_table' is not defined"
          ]
        }
      ]
    },
    {
      "cell_type": "code",
      "source": [
        "#@title  Coins List  { display-mode: \"code\" }\n",
        "\n",
        "import requests\n",
        "import datetime\n",
        "import time\n",
        "import json\n",
        "from google.colab import data_table\n",
        "import plotly.graph_objects as go\n",
        "import pandas as pd\n",
        "import matplotlib.pyplot as plt\n",
        "from pandas.io.json import json_normalize\n",
        "import logging\n",
        "import sys\n",
        "\n",
        "\n",
        "def coins_id_table(currency, pages):\n",
        "    \"\"\"\n",
        "    Generates a list of the currencies on CoinGecko\n",
        "    Args: url of the CoinGecko website\n",
        "\n",
        "    \"\"\"\n",
        "\n",
        "#General Information table\n",
        "def coins_ticker_list(currency, pages):\n",
        "    \"\"\"\n",
        "    Generates a list of the currencies on CoinGecko\n",
        "    Args: url of the CoinGecko website\n",
        "\n",
        "    \"\"\"\n",
        "\n",
        "    frames = []\n",
        "\n",
        "    for page_num in pages:\n",
        "        url = \"https://api.coingecko.com/api/v3/coins/{}?tickers=true&market_data=true&community_data=true&developer_data=true&sparkline=true\".format(coin_id)\n",
        "        #print(path)\n",
        "        response = requests.get(url)\n",
        "        data = response.json()\n",
        "        #print(data)\n",
        "        full_table = pd.json_normalize(data)\n",
        "    \n",
        "        fruits_raw = [full_table] #convert the result to list\n",
        "\n",
        "        # fruits_df = pd.DataFrame(fruits_raw)\n",
        "        \n",
        "        # Add the frame to the list\n",
        "        frames.append(full_table)\n",
        "        time.sleep(1.2)\n",
        "        print('Downloading Page ' + str(page_num) + ' – source: '+ str(url))\n",
        "\n",
        "\n",
        "def main():\n",
        "  currency = 'usd'\n",
        "  pages = range(1, 3) \n",
        "\n",
        "  coins_list(currency, pages)\n",
        "      \n",
        "\n",
        "  # Combine the list of DataFrames into a sIt's been a dish for the W will getGoodingle DataFrame\n",
        "  single = pd.concat(frames)\n",
        "\n",
        "  single.to_excel('appended.xlsx')\n",
        "\n",
        "if __name__ == \"__main__\":\n",
        "    main()\n",
        "    \n",
        "    \n",
        "    \n",
        "\"\"\" \n",
        "    \".format(currency, page_num)\n",
        "        #print(path)\n",
        "        response = requests.get(url)\n",
        "        data = response.json()\n",
        "        #print(data)\n",
        "        full_table = pd.json_normalize(data)\n",
        "    \n",
        "        fruits_raw = [full_table] #convert the result to list\n",
        "\n",
        "        # fruits_df = pd.DataFrame(fruits_raw)\n",
        "        \n",
        "        # Add the frame to the list\n",
        "        frames.append(full_table)\n",
        "        time.sleep(1.2)\n",
        "        print('Downloading Page ' + str(page_num) + ' – source: '+ str(url))\n",
        "\n",
        "\n",
        "def main():\n",
        "  currency = 'usd'\n",
        "  pages = range(1, 135) \n",
        "\n",
        "  coins_list(currency, pages)\n",
        "      \n",
        "\n",
        "  # Combine the list of DataFrames into a sIt's been a dish for the W will getGoodingle DataFrame\n",
        "  single = pd.concat(frames)\n",
        "\n",
        "  single.to_excel('appended.xlsx')\n",
        "\n",
        "if __name__ == \"__main__\":\n",
        "    main()\n",
        "\"\"\""
      ],
      "metadata": {
        "id": "7jePvmWMo8B_",
        "colab": {
          "base_uri": "https://localhost:8080/",
          "height": 391
        },
        "outputId": "240bb88d-0589-4dd2-ac48-6170be6626b8"
      },
      "execution_count": 106,
      "outputs": [
        {
          "output_type": "stream",
          "name": "stdout",
          "text": [
            "Downloading Page 1 – source: https://api.coingecko.com/api/v3/coins/markets?vs_currency=usd&order=market_cap_desc&per_page=100&page=1&sparkline=false\n",
            "Downloading Page 2 – source: https://api.coingecko.com/api/v3/coins/markets?vs_currency=usd&order=market_cap_desc&per_page=100&page=2&sparkline=false\n"
          ]
        },
        {
          "output_type": "error",
          "ename": "NameError",
          "evalue": "ignored",
          "traceback": [
            "\u001b[0;31m---------------------------------------------------------------------------\u001b[0m",
            "\u001b[0;31mNameError\u001b[0m                                 Traceback (most recent call last)",
            "\u001b[0;32m<ipython-input-106-6578dd562c79>\u001b[0m in \u001b[0;36m<module>\u001b[0;34m()\u001b[0m\n\u001b[1;32m     62\u001b[0m \u001b[0;34m\u001b[0m\u001b[0m\n\u001b[1;32m     63\u001b[0m \u001b[0;32mif\u001b[0m \u001b[0m__name__\u001b[0m \u001b[0;34m==\u001b[0m \u001b[0;34m\"__main__\"\u001b[0m\u001b[0;34m:\u001b[0m\u001b[0;34m\u001b[0m\u001b[0;34m\u001b[0m\u001b[0m\n\u001b[0;32m---> 64\u001b[0;31m     \u001b[0mmain\u001b[0m\u001b[0;34m(\u001b[0m\u001b[0;34m)\u001b[0m\u001b[0;34m\u001b[0m\u001b[0;34m\u001b[0m\u001b[0m\n\u001b[0m\u001b[1;32m     65\u001b[0m \u001b[0;34m\u001b[0m\u001b[0m\n\u001b[1;32m     66\u001b[0m \u001b[0;34m\u001b[0m\u001b[0m\n",
            "\u001b[0;32m<ipython-input-106-6578dd562c79>\u001b[0m in \u001b[0;36mmain\u001b[0;34m()\u001b[0m\n\u001b[1;32m     57\u001b[0m \u001b[0;34m\u001b[0m\u001b[0m\n\u001b[1;32m     58\u001b[0m   \u001b[0;31m# Combine the list of DataFrames into a sIt's been a dish for the W will getGoodingle DataFrame\u001b[0m\u001b[0;34m\u001b[0m\u001b[0;34m\u001b[0m\u001b[0;34m\u001b[0m\u001b[0m\n\u001b[0;32m---> 59\u001b[0;31m   \u001b[0msingle\u001b[0m \u001b[0;34m=\u001b[0m \u001b[0mpd\u001b[0m\u001b[0;34m.\u001b[0m\u001b[0mconcat\u001b[0m\u001b[0;34m(\u001b[0m\u001b[0mframes\u001b[0m\u001b[0;34m)\u001b[0m\u001b[0;34m\u001b[0m\u001b[0;34m\u001b[0m\u001b[0m\n\u001b[0m\u001b[1;32m     60\u001b[0m \u001b[0;34m\u001b[0m\u001b[0m\n\u001b[1;32m     61\u001b[0m   \u001b[0msingle\u001b[0m\u001b[0;34m.\u001b[0m\u001b[0mto_excel\u001b[0m\u001b[0;34m(\u001b[0m\u001b[0;34m'appended.xlsx'\u001b[0m\u001b[0;34m)\u001b[0m\u001b[0;34m\u001b[0m\u001b[0;34m\u001b[0m\u001b[0m\n",
            "\u001b[0;31mNameError\u001b[0m: name 'frames' is not defined"
          ]
        }
      ]
    },
    {
      "cell_type": "markdown",
      "source": [
        " # Basic data"
      ],
      "metadata": {
        "id": "T3crwZswAEnZ"
      }
    },
    {
      "cell_type": "code",
      "source": [
        "JSON = cg.get_coins_markets(vs_currency='usd')\n",
        "full_talbe = pd.json_normalize(JSON)\n",
        "full_talbe\n",
        "\n"
      ],
      "metadata": {
        "id": "IHmIk5ij_m7j"
      },
      "execution_count": null,
      "outputs": []
    },
    {
      "cell_type": "code",
      "source": [
        "\n",
        "JSON = cg.get_exchanges_id_name_list(id='c2x', vs_currency='usd')\n",
        "full_talbe = pd.json_normalize(JSON)\n",
        "full_talbe"
      ],
      "metadata": {
        "id": "KgzaYc8iCL2o"
      },
      "execution_count": null,
      "outputs": []
    },
    {
      "cell_type": "code",
      "source": [
        "\n",
        "JSON = cg.get_coins_categories(id='c2x', vs_currencies='usd')\n",
        "full_talbe = pd.json_normalize(JSON)\n",
        "full_talbe"
      ],
      "metadata": {
        "id": "qtIV2hDYCqvr"
      },
      "execution_count": null,
      "outputs": []
    },
    {
      "cell_type": "code",
      "source": [
        "cg.get_exchanges_list(ids='c2x')"
      ],
      "metadata": {
        "id": "1o69H7s5Al_Q"
      },
      "execution_count": null,
      "outputs": []
    },
    {
      "cell_type": "code",
      "metadata": {
        "id": "Ce9T4yuN7xYo"
      },
      "source": [
        "#@title beefy-finance { display-mode: \"code\" }\n",
        "import requests\n",
        "import datetime\n",
        "import time\n",
        "import json\n",
        "from google.colab import data_table\n",
        "from pycoingecko import CoinGeckoAPI\n",
        "import plotly.graph_objects as go\n",
        "import pandas as pd\n",
        "import matplotlib.pyplot as plt\n",
        "from pytrends.request import TrendReq\n",
        "from __future__ import division\n",
        "\n",
        "cg = CoinGeckoAPI()\n",
        "id='beefy-finance'\n",
        "\n",
        "\n",
        "a = cg.get_coin_ohlc_by_id(id=id, vs_currency='usd', days = 'max')\n",
        "\n",
        "df = pd.DataFrame(data=a, columns = ['Date','Open','High', 'Low', 'Close'])\n",
        "\n",
        "fig2 = go.Figure(data=[go.Candlestick(x=df['Date'],open=df['Open'], high=df['High'],low=df['Low'], close=df['Close'])])\n",
        "                      \n",
        "fig2.show()\n",
        "\n",
        "# Only need to run this once, the rest of requests will use the same session.\n",
        "pytrend = TrendReq()\n",
        "\n",
        "# Create payload and capture API tokens. Only needed for interest_over_time(), interest_by_region() & related_queries()\n",
        "keyword = str(id)\n",
        "keyword = keyword.replace('-',' ')\n",
        "pytrend.build_payload(kw_list=[keyword])\n",
        "\n",
        "# Interest Over Time\n",
        "interest_over_time_df = pytrend.interest_over_time()\n",
        "df=interest_over_time_df\n",
        "\n",
        "#print(interest_over_time_df.tail(10))\n",
        "# multiple line plot\n",
        "# multiple line plot\n",
        "plt.plot( keyword, 'y1', data=df, marker='x', color='blue',linestyle='-', linewidth=1,ms=1.5 )\n",
        "\n",
        "plt.legend()"
      ],
      "execution_count": null,
      "outputs": []
    },
    {
      "cell_type": "code",
      "source": [
        "\n",
        "#@title spacefalcon { display-mode: \"code\" }\n",
        "import requests\n",
        "import datetime\n",
        "import time\n",
        "import json\n",
        "from google.colab import data_table\n",
        "from pycoingecko import CoinGeckoAPI\n",
        "import plotly.graph_objects as go\n",
        "import pandas as pd\n",
        "import matplotlib.pyplot as plt\n",
        "from pytrends.request import TrendReq\n",
        "from __future__ import division\n",
        "\n",
        "cg = CoinGeckoAPI()\n",
        "id='spacefalcon'\n",
        "\n",
        "a = cg.get_coin_ohlc_by_id(id=id, vs_currency='usd', days = 'max')\n",
        "\n",
        "df = pd.DataFrame(data=a, columns = ['Date','Open','High', 'Low', 'Close'])\n",
        "\n",
        "fig2 = go.Figure(data=[go.Candlestick(x=df['Date'],open=df['Open'], high=df['High'],low=df['Low'], close=df['Close'])])\n",
        "                      \n",
        "fig2.show()\n",
        "\n",
        "# Only need to run this once, the rest of requests will use the same session.\n",
        "pytrend = TrendReq()\n",
        "\n",
        "# Create payload and capture API tokens. Only needed for interest_over_time(), interest_by_region() & related_queries()\n",
        "keyword = str(id)\n",
        "keyword = keyword.replace('-',' ')\n",
        "pytrend.build_payload(kw_list=[keyword])\n",
        "\n",
        "# Interest Over Time\n",
        "interest_over_time_df = pytrend.interest_over_time()\n",
        "df=interest_over_time_df\n",
        "\n",
        "#print(interest_over_time_df.tail(10))\n",
        "# multiple line plot\n",
        "# multiple line plot\n",
        "plt.plot( keyword, 'y1', data=df, marker='x', color='blue',linestyle='-', linewidth=1,ms=1.5 )\n",
        "\n",
        "plt.legend()#@title ok { display-mode: \"code\" }"
      ],
      "metadata": {
        "id": "qtkBA4aMposq"
      },
      "execution_count": null,
      "outputs": []
    },
    {
      "cell_type": "code",
      "source": [
        "\n",
        "#@title icecream-finance { display-mode: \"code\" }\n",
        "import requests\n",
        "import datetime\n",
        "import time\n",
        "import json\n",
        "from google.colab import data_table\n",
        "from pycoingecko import CoinGeckoAPI\n",
        "import plotly.graph_objects as go\n",
        "import pandas as pd\n",
        "import matplotlib.pyplot as plt\n",
        "from pytrends.request import TrendReq\n",
        "from __future__ import division\n",
        "\n",
        "cg = CoinGeckoAPI()\n",
        "id='onering'\n",
        "\n",
        "a = cg.get_coin_ohlc_by_id(id=id, vs_currency='usd', days = 'max')\n",
        "\n",
        "df = pd.DataFrame(data=a, columns = ['Date','Open','High', 'Low', 'Close'])\n",
        "\n",
        "fig2 = go.Figure(data=[go.Candlestick(x=df['Date'],open=df['Open'], high=df['High'],low=df['Low'], close=df['Close'])])\n",
        "                      \n",
        "fig2.show()\n",
        "\n",
        "# Only need to run this once, the rest of requests will use the same session.\n",
        "pytrend = TrendReq()\n",
        "\n",
        "# Create payload and capture API tokens. Only needed for interest_over_time(), interest_by_region() & related_queries()\n",
        "keyword = str(id)\n",
        "keyword = keyword.replace('-',' ')\n",
        "pytrend.build_payload(kw_list=[keyword])\n",
        "\n",
        "# Interest Over Time\n",
        "interest_over_time_df = pytrend.interest_over_time()\n",
        "df=interest_over_time_df\n",
        "\n",
        "#print(interest_over_time_df.tail(10))\n",
        "# multiple line plot\n",
        "# multiple line plot\n",
        "plt.plot( keyword, 'y1', data=df, marker='x', color='blue',linestyle='-', linewidth=1,ms=1.5 )\n",
        "\n",
        "plt.legend()#@title ok { display-mode: \"code\" }"
      ],
      "metadata": {
        "id": "WG8RcQ7jA8hy"
      },
      "execution_count": null,
      "outputs": []
    },
    {
      "cell_type": "code",
      "source": [
        "\n",
        "#@title onering { display-mode: \"code\" }\n",
        "import requests\n",
        "import datetime\n",
        "import time\n",
        "import json\n",
        "from google.colab import data_table\n",
        "from pycoingecko import CoinGeckoAPI\n",
        "import plotly.graph_objects as go\n",
        "import pandas as pd\n",
        "import matplotlib.pyplot as plt\n",
        "from pytrends.request import TrendReq\n",
        "from __future__ import division\n",
        "\n",
        "cg = CoinGeckoAPI()\n",
        "id='onering'\n",
        "\n",
        "a = cg.get_coin_ohlc_by_id(id=id, vs_currency='usd', days = 'max')\n",
        "\n",
        "df = pd.DataFrame(data=a, columns = ['Date','Open','High', 'Low', 'Close'])\n",
        "\n",
        "fig2 = go.Figure(data=[go.Candlestick(x=df['Date'],open=df['Open'], high=df['High'],low=df['Low'], close=df['Close'])])\n",
        "                      \n",
        "fig2.show()\n",
        "\n",
        "# Only need to run this once, the rest of requests will use the same session.\n",
        "pytrend = TrendReq()\n",
        "\n",
        "# Create payload and capture API tokens. Only needed for interest_over_time(), interest_by_region() & related_queries()\n",
        "keyword = str(id)\n",
        "keyword = keyword.replace('-',' ')\n",
        "pytrend.build_payload(kw_list=[keyword])\n",
        "\n",
        "# Interest Over Time\n",
        "interest_over_time_df = pytrend.interest_over_time()\n",
        "df=interest_over_time_df\n",
        "\n",
        "#print(interest_over_time_df.tail(10))\n",
        "# multiple line plot\n",
        "# multiple line plot\n",
        "plt.plot( keyword, 'y1', data=df, marker='x', color='blue',linestyle='-', linewidth=1,ms=1.5 )\n",
        "\n",
        "plt.legend()#@title ok { display-mode: \"code\" }n"
      ],
      "metadata": {
        "id": "Dcq1SMQcA9GW"
      },
      "execution_count": null,
      "outputs": []
    },
    {
      "cell_type": "code",
      "source": [
        "\n",
        "#@title rally-solana { display-mode: \"code\" }\n",
        "import requests\n",
        "import datetime\n",
        "import time\n",
        "import json\n",
        "from google.colab import data_table\n",
        "from pycoingecko import CoinGeckoAPI\n",
        "import plotly.graph_objects as go\n",
        "import pandas as pd\n",
        "import matplotlib.pyplot as plt\n",
        "from pytrends.request import TrendReq\n",
        "from __future__ import division\n",
        "\n",
        "cg = CoinGeckoAPI()\n",
        "id='rally-solana'\n",
        "\n",
        "a = cg.get_coin_ohlc_by_id(id=id, vs_currency='usd', days = 'max')\n",
        "\n",
        "df = pd.DataFrame(data=a, columns = ['Date','Open','High', 'Low', 'Close'])\n",
        "\n",
        "fig2 = go.Figure(data=[go.Candlestick(x=df['Date'],open=df['Open'], high=df['High'],low=df['Low'], close=df['Close'])])\n",
        "                      \n",
        "fig2.show()\n",
        "\n",
        "# Only need to run this once, the rest of requests will use the same session.\n",
        "pytrend = TrendReq()\n",
        "\n",
        "# Create payload and capture API tokens. Only needed for interest_over_time(), interest_by_region() & related_queries()\n",
        "keyword = str(id)\n",
        "keyword = keyword.replace('-',' ')\n",
        "pytrend.build_payload(kw_list=[keyword])\n",
        "\n",
        "# Interest Over Time\n",
        "interest_over_time_df = pytrend.interest_over_time()\n",
        "df=interest_over_time_df\n",
        "\n",
        "#print(interest_over_time_df.tail(10))\n",
        "# multiple line plot\n",
        "# multiple line plot\n",
        "plt.plot( keyword, 'y1', data=df, marker='x', color='blue',linestyle='-', linewidth=1,ms=1.5 )\n",
        "\n",
        "plt.legend()#@title ok { display-mode: \"code\" }n"
      ],
      "metadata": {
        "id": "E1dLKvG8A-dr"
      },
      "execution_count": null,
      "outputs": []
    },
    {
      "cell_type": "code",
      "source": [
        "\n",
        "#@title ok { display-mode: \"code\" }\n",
        "import requests\n",
        "import datetime\n",
        "import time\n",
        "import json\n",
        "from google.colab import data_table\n",
        "from pycoingecko import CoinGeckoAPI\n",
        "import plotly.graph_objects as go\n",
        "import pandas as pd\n",
        "import matplotlib.pyplot as plt\n",
        "from pytrends.request import TrendReq\n",
        "from __future__ import division\n",
        "\n",
        "cg = CoinGeckoAPI()\n",
        "id='colony-network-token'\n",
        "\n",
        "a = cg.get_coin_ohlc_by_id(id=id, vs_currency='usd', days = 'max')\n",
        "\n",
        "df = pd.DataFrame(data=a, columns = ['Date','Open','High', 'Low', 'Close'])\n",
        "\n",
        "fig2 = go.Figure(data=[go.Candlestick(x=df['Date'],open=df['Open'], high=df['High'],low=df['Low'], close=df['Close'])])\n",
        "                      \n",
        "fig2.show()\n",
        "\n",
        "# Only need to run this once, the rest of requests will use the same session.\n",
        "pytrend = TrendReq()\n",
        "\n",
        "# Create payload and capture API tokens. Only needed for interest_over_time(), interest_by_region() & related_queries()\n",
        "keyword = str(id)\n",
        "keyword = keyword.replace('-',' ')\n",
        "pytrend.build_payload(kw_list=[keyword])\n",
        "\n",
        "# Interest Over Time\n",
        "interest_over_time_df = pytrend.interest_over_time()\n",
        "df=interest_over_time_df\n",
        "\n",
        "#print(interest_over_time_df.tail(10))\n",
        "# multiple line plot\n",
        "# multiple line plot\n",
        "plt.plot( keyword, 'y1', data=df, marker='x', color='blue',linestyle='-', linewidth=1,ms=1.5 )\n",
        "\n",
        "plt.legend()#@title ok { display-mode: \"code\" }"
      ],
      "metadata": {
        "id": "MCSxYpjpA_JQ"
      },
      "execution_count": null,
      "outputs": []
    },
    {
      "cell_type": "markdown",
      "source": [
        "##Twitter API attempt"
      ],
      "metadata": {
        "id": "Z9DJWidwQLVQ"
      }
    },
    {
      "cell_type": "code",
      "source": [
        "import tweepy\n",
        "\n",
        "consumer_key = 'la1f33S7qijuWBaacNw44nASC'\n",
        "consumer_secret = 'DSIJ2qyr5Jf1CWSENvADJAn0Z1cdx5rpPfBjQZQmAFPBz3lbXZ'\n",
        "access_token = '1371833287392559119-4X8YWHUQqu5M6239Ua6fMrs0wXsDUk'\n",
        "access_token_secret = 'orNECtf82K18cGxQzWxGhCMJYfclmP1RbqxNZVn0Cm3Dy'\n",
        "\n",
        "auth = tweepy.OAuthHandler(consumer_key, consumer_secret)\n",
        "auth.set_access_token(access_token, access_token_secret)\n",
        "\n",
        "api = tweepy.API(auth)\n",
        "\n",
        "public_tweets = api.home_timeline()\n",
        "for tweet in public_tweets:\n",
        "    print(tweet.text)"
      ],
      "metadata": {
        "id": "C5i5kaeZQK6r"
      },
      "execution_count": null,
      "outputs": []
    }
  ]
}