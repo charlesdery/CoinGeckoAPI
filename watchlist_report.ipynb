{
  "nbformat": 4,
  "nbformat_minor": 0,
  "metadata": {
    "colab": {
      "name": "watchlist_report.ipynb",
      "provenance": [],
      "collapsed_sections": [],
      "history_visible": true,
      "authorship_tag": "ABX9TyNexiLcSq8SGQcIuQaUmTpV",
      "include_colab_link": true
    },
    "kernelspec": {
      "name": "python3",
      "display_name": "Python 3"
    },
    "language_info": {
      "name": "python"
    }
  },
  "cells": [
    {
      "cell_type": "markdown",
      "metadata": {
        "id": "view-in-github",
        "colab_type": "text"
      },
      "source": [
        "<a href=\"https://colab.research.google.com/github/custom-hyper/CoinGeckoAPI/blob/main/watchlist_report.ipynb\" target=\"_parent\"><img src=\"https://colab.research.google.com/assets/colab-badge.svg\" alt=\"Open In Colab\"/></a>"
      ]
    },
    {
      "cell_type": "markdown",
      "source": [
        ""
      ],
      "metadata": {
        "id": "UzdbdQAquXzi"
      }
    },
    {
      "cell_type": "markdown",
      "metadata": {
        "id": "3_rFSz85Oj3u"
      },
      "source": [
        "#Project Setup"
      ]
    },
    {
      "cell_type": "markdown",
      "source": [
        ""
      ],
      "metadata": {
        "id": "tbB5g3qzEzGh"
      }
    },
    {
      "cell_type": "code",
      "metadata": {
        "id": "5m4_0fgAPIA4",
        "colab": {
          "base_uri": "https://localhost:8080/"
        },
        "outputId": "d32cb5d6-ce49-4a48-cd9e-c74cab9fb33d"
      },
      "source": [
        "#@title Install Libraries { display-mode: \"code\" }\n",
        "!pip install plotly\n",
        "!pip install pytrends\n",
        "!pip install pycoingecko\n",
        "!pip install pandas\n",
        "!pip install tweepy\n",
        "!pip install requests\n",
        "\n"
      ],
      "execution_count": 2,
      "outputs": [
        {
          "output_type": "stream",
          "name": "stdout",
          "text": [
            "Requirement already satisfied: plotly in /usr/local/lib/python3.7/dist-packages (5.5.0)\n",
            "Requirement already satisfied: tenacity>=6.2.0 in /usr/local/lib/python3.7/dist-packages (from plotly) (8.0.1)\n",
            "Requirement already satisfied: six in /usr/local/lib/python3.7/dist-packages (from plotly) (1.15.0)\n",
            "Collecting pytrends\n",
            "  Downloading pytrends-4.8.0.tar.gz (19 kB)\n",
            "Requirement already satisfied: requests>=2.0 in /usr/local/lib/python3.7/dist-packages (from pytrends) (2.23.0)\n",
            "Requirement already satisfied: pandas>=0.25 in /usr/local/lib/python3.7/dist-packages (from pytrends) (1.3.5)\n",
            "Requirement already satisfied: lxml in /usr/local/lib/python3.7/dist-packages (from pytrends) (4.2.6)\n",
            "Requirement already satisfied: pytz>=2017.3 in /usr/local/lib/python3.7/dist-packages (from pandas>=0.25->pytrends) (2018.9)\n",
            "Requirement already satisfied: python-dateutil>=2.7.3 in /usr/local/lib/python3.7/dist-packages (from pandas>=0.25->pytrends) (2.8.2)\n",
            "Requirement already satisfied: numpy>=1.17.3 in /usr/local/lib/python3.7/dist-packages (from pandas>=0.25->pytrends) (1.21.5)\n",
            "Requirement already satisfied: six>=1.5 in /usr/local/lib/python3.7/dist-packages (from python-dateutil>=2.7.3->pandas>=0.25->pytrends) (1.15.0)\n",
            "Requirement already satisfied: idna<3,>=2.5 in /usr/local/lib/python3.7/dist-packages (from requests>=2.0->pytrends) (2.10)\n",
            "Requirement already satisfied: chardet<4,>=3.0.2 in /usr/local/lib/python3.7/dist-packages (from requests>=2.0->pytrends) (3.0.4)\n",
            "Requirement already satisfied: urllib3!=1.25.0,!=1.25.1,<1.26,>=1.21.1 in /usr/local/lib/python3.7/dist-packages (from requests>=2.0->pytrends) (1.24.3)\n",
            "Requirement already satisfied: certifi>=2017.4.17 in /usr/local/lib/python3.7/dist-packages (from requests>=2.0->pytrends) (2021.10.8)\n",
            "Building wheels for collected packages: pytrends\n",
            "  Building wheel for pytrends (setup.py) ... \u001b[?25l\u001b[?25hdone\n",
            "  Created wheel for pytrends: filename=pytrends-4.8.0-py3-none-any.whl size=16126 sha256=236c6ad0b557293ea18d5b6b677c162f150f31035c1827bb819fed8c0992e7e5\n",
            "  Stored in directory: /root/.cache/pip/wheels/07/6f/5c/8174f98dec1bfbc7d5da4092854afcbcff4b26c3d9b66b5183\n",
            "Successfully built pytrends\n",
            "Installing collected packages: pytrends\n",
            "Successfully installed pytrends-4.8.0\n",
            "Collecting pycoingecko\n",
            "  Downloading pycoingecko-2.2.0-py3-none-any.whl (8.3 kB)\n",
            "Requirement already satisfied: requests in /usr/local/lib/python3.7/dist-packages (from pycoingecko) (2.23.0)\n",
            "Requirement already satisfied: chardet<4,>=3.0.2 in /usr/local/lib/python3.7/dist-packages (from requests->pycoingecko) (3.0.4)\n",
            "Requirement already satisfied: certifi>=2017.4.17 in /usr/local/lib/python3.7/dist-packages (from requests->pycoingecko) (2021.10.8)\n",
            "Requirement already satisfied: urllib3!=1.25.0,!=1.25.1,<1.26,>=1.21.1 in /usr/local/lib/python3.7/dist-packages (from requests->pycoingecko) (1.24.3)\n",
            "Requirement already satisfied: idna<3,>=2.5 in /usr/local/lib/python3.7/dist-packages (from requests->pycoingecko) (2.10)\n",
            "Installing collected packages: pycoingecko\n",
            "Successfully installed pycoingecko-2.2.0\n",
            "Requirement already satisfied: pandas in /usr/local/lib/python3.7/dist-packages (1.3.5)\n",
            "Requirement already satisfied: numpy>=1.17.3 in /usr/local/lib/python3.7/dist-packages (from pandas) (1.21.5)\n",
            "Requirement already satisfied: python-dateutil>=2.7.3 in /usr/local/lib/python3.7/dist-packages (from pandas) (2.8.2)\n",
            "Requirement already satisfied: pytz>=2017.3 in /usr/local/lib/python3.7/dist-packages (from pandas) (2018.9)\n",
            "Requirement already satisfied: six>=1.5 in /usr/local/lib/python3.7/dist-packages (from python-dateutil>=2.7.3->pandas) (1.15.0)\n",
            "Requirement already satisfied: tweepy in /usr/local/lib/python3.7/dist-packages (3.10.0)\n",
            "Requirement already satisfied: requests-oauthlib>=0.7.0 in /usr/local/lib/python3.7/dist-packages (from tweepy) (1.3.1)\n",
            "Requirement already satisfied: six>=1.10.0 in /usr/local/lib/python3.7/dist-packages (from tweepy) (1.15.0)\n",
            "Requirement already satisfied: requests[socks]>=2.11.1 in /usr/local/lib/python3.7/dist-packages (from tweepy) (2.23.0)\n",
            "Requirement already satisfied: oauthlib>=3.0.0 in /usr/local/lib/python3.7/dist-packages (from requests-oauthlib>=0.7.0->tweepy) (3.2.0)\n",
            "Requirement already satisfied: urllib3!=1.25.0,!=1.25.1,<1.26,>=1.21.1 in /usr/local/lib/python3.7/dist-packages (from requests[socks]>=2.11.1->tweepy) (1.24.3)\n",
            "Requirement already satisfied: idna<3,>=2.5 in /usr/local/lib/python3.7/dist-packages (from requests[socks]>=2.11.1->tweepy) (2.10)\n",
            "Requirement already satisfied: chardet<4,>=3.0.2 in /usr/local/lib/python3.7/dist-packages (from requests[socks]>=2.11.1->tweepy) (3.0.4)\n",
            "Requirement already satisfied: certifi>=2017.4.17 in /usr/local/lib/python3.7/dist-packages (from requests[socks]>=2.11.1->tweepy) (2021.10.8)\n",
            "Requirement already satisfied: PySocks!=1.5.7,>=1.5.6 in /usr/local/lib/python3.7/dist-packages (from requests[socks]>=2.11.1->tweepy) (1.7.1)\n",
            "Requirement already satisfied: requests in /usr/local/lib/python3.7/dist-packages (2.23.0)\n",
            "Requirement already satisfied: urllib3!=1.25.0,!=1.25.1,<1.26,>=1.21.1 in /usr/local/lib/python3.7/dist-packages (from requests) (1.24.3)\n",
            "Requirement already satisfied: certifi>=2017.4.17 in /usr/local/lib/python3.7/dist-packages (from requests) (2021.10.8)\n",
            "Requirement already satisfied: idna<3,>=2.5 in /usr/local/lib/python3.7/dist-packages (from requests) (2.10)\n",
            "Requirement already satisfied: chardet<4,>=3.0.2 in /usr/local/lib/python3.7/dist-packages (from requests) (3.0.4)\n"
          ]
        }
      ]
    },
    {
      "cell_type": "markdown",
      "metadata": {
        "id": "sDymunfdxzyI"
      },
      "source": [
        "# CoinGecko API Statistics Report"
      ]
    },
    {
      "cell_type": "code",
      "source": [
        "#@title Available Currencies { display-mode: \"code\" }\n",
        "import requests\n",
        "import datetime\n",
        "import time\n",
        "import json\n",
        "from google.colab import data_table\n",
        "import plotly.graph_objects as go\n",
        "import pandas as pd\n",
        "import matplotlib.pyplot as plt\n",
        "from pandas.io.json import json_normalize\n",
        "\n",
        "#General Information table\n",
        "\n",
        "def currency_stats(url):\n",
        "    \"\"\"\n",
        "    Generates a list of the currencies on CoinGecko\n",
        "    Args: url of the CoinGecko website\n",
        "\n",
        "    \"\"\"\n",
        "    frames = []\n",
        "    response = requests.get(url)\n",
        "    data = response.json()\n",
        "\n",
        "    df = pd.DataFrame (data)\n",
        "\n",
        "    print('Stats: ')\n",
        "    print(df.info(verbose=True))\n",
        "    print(df.isnull().sum())\n",
        "    print(data)\n",
        "\n",
        "    print(df.describe())\n",
        "\n",
        "def main():\n",
        "\n",
        "    url = \"https://api.coingecko.com/api/v3/simple/supported_vs_currencies\"\n",
        "    currency_stats(url)\n",
        "\n",
        "if __name__ == \"__main__\":\n",
        "    main()\n",
        "\n"
      ],
      "metadata": {
        "id": "aG_Ot5aN_OMT",
        "colab": {
          "base_uri": "https://localhost:8080/"
        },
        "outputId": "5ee181ab-4c3c-4bb1-e701-419f7662ca86"
      },
      "execution_count": 3,
      "outputs": [
        {
          "output_type": "stream",
          "name": "stdout",
          "text": [
            "Stats: \n",
            "<class 'pandas.core.frame.DataFrame'>\n",
            "RangeIndex: 61 entries, 0 to 60\n",
            "Data columns (total 1 columns):\n",
            " #   Column  Non-Null Count  Dtype \n",
            "---  ------  --------------  ----- \n",
            " 0   0       61 non-null     object\n",
            "dtypes: object(1)\n",
            "memory usage: 616.0+ bytes\n",
            "None\n",
            "0    0\n",
            "dtype: int64\n",
            "['btc', 'eth', 'ltc', 'bch', 'bnb', 'eos', 'xrp', 'xlm', 'link', 'dot', 'yfi', 'usd', 'aed', 'ars', 'aud', 'bdt', 'bhd', 'bmd', 'brl', 'cad', 'chf', 'clp', 'cny', 'czk', 'dkk', 'eur', 'gbp', 'hkd', 'huf', 'idr', 'ils', 'inr', 'jpy', 'krw', 'kwd', 'lkr', 'mmk', 'mxn', 'myr', 'ngn', 'nok', 'nzd', 'php', 'pkr', 'pln', 'rub', 'sar', 'sek', 'sgd', 'thb', 'try', 'twd', 'uah', 'vef', 'vnd', 'zar', 'xdr', 'xag', 'xau', 'bits', 'sats']\n",
            "          0\n",
            "count    61\n",
            "unique   61\n",
            "top     btc\n",
            "freq      1\n"
          ]
        }
      ]
    },
    {
      "cell_type": "code",
      "source": [
        "#@title Available Coins { display-mode: \"code\" }\n",
        "import requests\n",
        "import datetime\n",
        "import time\n",
        "import json\n",
        "from google.colab import data_table\n",
        "import plotly.graph_objects as go\n",
        "import pandas as pd\n",
        "import matplotlib.pyplot as plt\n",
        "from pandas.io.json import json_normalize\n",
        "\n",
        "#General Information table\n",
        "\n",
        "def coins_stats(url):\n",
        "    \"\"\"\n",
        "    Generates a list of the coins on CoinGecko\n",
        "    Args: url of the CoinGecko website\n",
        "\n",
        "    \"\"\"\n",
        "    frames = []\n",
        "    response = requests.get(url)\n",
        "    data = response.json()\n",
        "\n",
        "    \n",
        "    df = pd.DataFrame (data)\n",
        "\n",
        "    print('Stats: ')\n",
        "    print(df.info(verbose=True))\n",
        "    print(df.isnull().sum())\n",
        "    print(df.describe())\n",
        "   \n",
        "\n",
        "\n",
        "\n",
        "def main():\n",
        "  url = \"https://api.coingecko.com/api/v3/coins/list\"\n",
        "\n",
        "  coins_stats(url)\n",
        "\n",
        "\n",
        "if __name__ == \"__main__\":\n",
        "    main()"
      ],
      "metadata": {
        "id": "CpfyE_IK70Aj",
        "colab": {
          "base_uri": "https://localhost:8080/",
          "height": 686
        },
        "outputId": "f684da8e-391d-4e82-e754-142391d2cc2f"
      },
      "execution_count": 9,
      "outputs": [
        {
          "output_type": "stream",
          "name": "stdout",
          "text": [
            "Stats: \n",
            "<class 'pandas.core.frame.DataFrame'>\n",
            "RangeIndex: 13397 entries, 0 to 13396\n",
            "Data columns (total 3 columns):\n",
            " #   Column  Non-Null Count  Dtype \n",
            "---  ------  --------------  ----- \n",
            " 0   id      13397 non-null  object\n",
            " 1   symbol  13397 non-null  object\n",
            " 2   name    13397 non-null  object\n",
            "dtypes: object(3)\n",
            "memory usage: 314.1+ KB\n",
            "None\n",
            "id        0\n",
            "symbol    0\n",
            "name      0\n",
            "dtype: int64\n",
            "            id symbol    name\n",
            "count    13397  13397   13397\n",
            "unique   13397  11150   13397\n",
            "top     01coin   gold  01coin\n",
            "freq         1     10       1\n"
          ]
        },
        {
          "output_type": "error",
          "ename": "NameError",
          "evalue": "ignored",
          "traceback": [
            "\u001b[0;31m---------------------------------------------------------------------------\u001b[0m",
            "\u001b[0;31mNameError\u001b[0m                                 Traceback (most recent call last)",
            "\u001b[0;32m<ipython-input-9-505d82e896e8>\u001b[0m in \u001b[0;36m<module>\u001b[0;34m()\u001b[0m\n\u001b[1;32m     40\u001b[0m \u001b[0;34m\u001b[0m\u001b[0m\n\u001b[1;32m     41\u001b[0m \u001b[0;32mif\u001b[0m \u001b[0m__name__\u001b[0m \u001b[0;34m==\u001b[0m \u001b[0;34m\"__main__\"\u001b[0m\u001b[0;34m:\u001b[0m\u001b[0;34m\u001b[0m\u001b[0;34m\u001b[0m\u001b[0m\n\u001b[0;32m---> 42\u001b[0;31m     \u001b[0mmain\u001b[0m\u001b[0;34m(\u001b[0m\u001b[0;34m)\u001b[0m\u001b[0;34m\u001b[0m\u001b[0;34m\u001b[0m\u001b[0m\n\u001b[0m",
            "\u001b[0;32m<ipython-input-9-505d82e896e8>\u001b[0m in \u001b[0;36mmain\u001b[0;34m()\u001b[0m\n\u001b[1;32m     37\u001b[0m \u001b[0;34m\u001b[0m\u001b[0m\n\u001b[1;32m     38\u001b[0m   \u001b[0mcoins_stats\u001b[0m\u001b[0;34m(\u001b[0m\u001b[0murl\u001b[0m\u001b[0;34m)\u001b[0m\u001b[0;34m\u001b[0m\u001b[0;34m\u001b[0m\u001b[0m\n\u001b[0;32m---> 39\u001b[0;31m   \u001b[0mdf\u001b[0m\u001b[0;34m\u001b[0m\u001b[0;34m\u001b[0m\u001b[0m\n\u001b[0m\u001b[1;32m     40\u001b[0m \u001b[0;34m\u001b[0m\u001b[0m\n\u001b[1;32m     41\u001b[0m \u001b[0;32mif\u001b[0m \u001b[0m__name__\u001b[0m \u001b[0;34m==\u001b[0m \u001b[0;34m\"__main__\"\u001b[0m\u001b[0;34m:\u001b[0m\u001b[0;34m\u001b[0m\u001b[0;34m\u001b[0m\u001b[0m\n",
            "\u001b[0;31mNameError\u001b[0m: name 'df' is not defined"
          ]
        }
      ]
    },
    {
      "cell_type": "markdown",
      "source": [
        "# CoinGecko API Extraction"
      ],
      "metadata": {
        "id": "XVcNrRwDAIvd"
      }
    },
    {
      "cell_type": "code",
      "source": [
        "#@title  Download Coins Data Reports { display-mode: \"code\" }\n",
        "import requests\n",
        "import datetime\n",
        "import time\n",
        "import json\n",
        "from google.colab import data_table\n",
        "import plotly.graph_objects as go\n",
        "import pandas as pd\n",
        "import matplotlib.pyplot as plt\n",
        "from pandas.io.json import json_normalize\n",
        "import logging\n",
        "import sys\n",
        "\n",
        "\n",
        "currency = 'usd'\n",
        "pages = range(1, 135)  #can find the number of pages by dividing the total number of coins by 100\n",
        "\n",
        "frames=[]\n",
        "\n",
        "for page_num in pages:\n",
        "\n",
        "    url = \"https://api.coingecko.com/api/v3/coins/markets?vs_currency={}&order=market_cap_desc&per_page=100&page={}&sparkline=false&price_change_percentage=1h%2C%2024h%2C%207d%2C14d%2C30d%2C200d%2C1y\".format(currency, page_num)\n",
        "    \n",
        "    #Obtain JSON formatted data\n",
        "    response = requests.get(url)\n",
        "    data = response.json()\n",
        "\n",
        "    #Convert data to list of dataframes\n",
        "    full_table = pd.json_normalize(data)       \n",
        "    results = [full_table]\n",
        "    frames.append(full_table)\n",
        "\n",
        "    #Slow down requests\n",
        "    time.sleep(1)\n",
        "\n",
        "    #Status report\n",
        "    print('INFO: Downloading Page ' + str(page_num) + '– Rows Count ' +str(len(full_table)) + ' – source: '+ str(url))\n",
        "\n",
        "\n",
        "single = pd.concat(frames) #Careful, this line must be outside of the for loop\n",
        "\n",
        "\n",
        "\n",
        "single.to_excel('HelloCoins_List_{}.xlsx'.format(currency))\n"
      ],
      "metadata": {
        "colab": {
          "base_uri": "https://localhost:8080/"
        },
        "id": "omzIJ-K6lijc",
        "outputId": "5cd51f14-b94a-4f78-c604-b9e76be6d1f4"
      },
      "execution_count": 1,
      "outputs": [
        {
          "output_type": "stream",
          "name": "stdout",
          "text": [
            "INFO: Downloading Page 1– Rows Count 100 – source: https://api.coingecko.com/api/v3/coins/markets?vs_currency=usd&order=market_cap_desc&per_page=100&page=1&sparkline=false&price_change_percentage=1h%2C%2024h%2C%207d%2C14d%2C30d%2C200d%2C1y\n",
            "INFO: Downloading Page 2– Rows Count 100 – source: https://api.coingecko.com/api/v3/coins/markets?vs_currency=usd&order=market_cap_desc&per_page=100&page=2&sparkline=false&price_change_percentage=1h%2C%2024h%2C%207d%2C14d%2C30d%2C200d%2C1y\n",
            "INFO: Downloading Page 3– Rows Count 100 – source: https://api.coingecko.com/api/v3/coins/markets?vs_currency=usd&order=market_cap_desc&per_page=100&page=3&sparkline=false&price_change_percentage=1h%2C%2024h%2C%207d%2C14d%2C30d%2C200d%2C1y\n",
            "INFO: Downloading Page 4– Rows Count 100 – source: https://api.coingecko.com/api/v3/coins/markets?vs_currency=usd&order=market_cap_desc&per_page=100&page=4&sparkline=false&price_change_percentage=1h%2C%2024h%2C%207d%2C14d%2C30d%2C200d%2C1y\n",
            "INFO: Downloading Page 5– Rows Count 100 – source: https://api.coingecko.com/api/v3/coins/markets?vs_currency=usd&order=market_cap_desc&per_page=100&page=5&sparkline=false&price_change_percentage=1h%2C%2024h%2C%207d%2C14d%2C30d%2C200d%2C1y\n",
            "INFO: Downloading Page 6– Rows Count 100 – source: https://api.coingecko.com/api/v3/coins/markets?vs_currency=usd&order=market_cap_desc&per_page=100&page=6&sparkline=false&price_change_percentage=1h%2C%2024h%2C%207d%2C14d%2C30d%2C200d%2C1y\n",
            "INFO: Downloading Page 7– Rows Count 100 – source: https://api.coingecko.com/api/v3/coins/markets?vs_currency=usd&order=market_cap_desc&per_page=100&page=7&sparkline=false&price_change_percentage=1h%2C%2024h%2C%207d%2C14d%2C30d%2C200d%2C1y\n",
            "INFO: Downloading Page 8– Rows Count 100 – source: https://api.coingecko.com/api/v3/coins/markets?vs_currency=usd&order=market_cap_desc&per_page=100&page=8&sparkline=false&price_change_percentage=1h%2C%2024h%2C%207d%2C14d%2C30d%2C200d%2C1y\n",
            "INFO: Downloading Page 9– Rows Count 100 – source: https://api.coingecko.com/api/v3/coins/markets?vs_currency=usd&order=market_cap_desc&per_page=100&page=9&sparkline=false&price_change_percentage=1h%2C%2024h%2C%207d%2C14d%2C30d%2C200d%2C1y\n",
            "INFO: Downloading Page 10– Rows Count 100 – source: https://api.coingecko.com/api/v3/coins/markets?vs_currency=usd&order=market_cap_desc&per_page=100&page=10&sparkline=false&price_change_percentage=1h%2C%2024h%2C%207d%2C14d%2C30d%2C200d%2C1y\n",
            "INFO: Downloading Page 11– Rows Count 100 – source: https://api.coingecko.com/api/v3/coins/markets?vs_currency=usd&order=market_cap_desc&per_page=100&page=11&sparkline=false&price_change_percentage=1h%2C%2024h%2C%207d%2C14d%2C30d%2C200d%2C1y\n",
            "INFO: Downloading Page 12– Rows Count 100 – source: https://api.coingecko.com/api/v3/coins/markets?vs_currency=usd&order=market_cap_desc&per_page=100&page=12&sparkline=false&price_change_percentage=1h%2C%2024h%2C%207d%2C14d%2C30d%2C200d%2C1y\n",
            "INFO: Downloading Page 13– Rows Count 100 – source: https://api.coingecko.com/api/v3/coins/markets?vs_currency=usd&order=market_cap_desc&per_page=100&page=13&sparkline=false&price_change_percentage=1h%2C%2024h%2C%207d%2C14d%2C30d%2C200d%2C1y\n",
            "INFO: Downloading Page 14– Rows Count 100 – source: https://api.coingecko.com/api/v3/coins/markets?vs_currency=usd&order=market_cap_desc&per_page=100&page=14&sparkline=false&price_change_percentage=1h%2C%2024h%2C%207d%2C14d%2C30d%2C200d%2C1y\n",
            "INFO: Downloading Page 15– Rows Count 100 – source: https://api.coingecko.com/api/v3/coins/markets?vs_currency=usd&order=market_cap_desc&per_page=100&page=15&sparkline=false&price_change_percentage=1h%2C%2024h%2C%207d%2C14d%2C30d%2C200d%2C1y\n",
            "INFO: Downloading Page 16– Rows Count 100 – source: https://api.coingecko.com/api/v3/coins/markets?vs_currency=usd&order=market_cap_desc&per_page=100&page=16&sparkline=false&price_change_percentage=1h%2C%2024h%2C%207d%2C14d%2C30d%2C200d%2C1y\n",
            "INFO: Downloading Page 17– Rows Count 100 – source: https://api.coingecko.com/api/v3/coins/markets?vs_currency=usd&order=market_cap_desc&per_page=100&page=17&sparkline=false&price_change_percentage=1h%2C%2024h%2C%207d%2C14d%2C30d%2C200d%2C1y\n",
            "INFO: Downloading Page 18– Rows Count 100 – source: https://api.coingecko.com/api/v3/coins/markets?vs_currency=usd&order=market_cap_desc&per_page=100&page=18&sparkline=false&price_change_percentage=1h%2C%2024h%2C%207d%2C14d%2C30d%2C200d%2C1y\n",
            "INFO: Downloading Page 19– Rows Count 100 – source: https://api.coingecko.com/api/v3/coins/markets?vs_currency=usd&order=market_cap_desc&per_page=100&page=19&sparkline=false&price_change_percentage=1h%2C%2024h%2C%207d%2C14d%2C30d%2C200d%2C1y\n",
            "INFO: Downloading Page 20– Rows Count 100 – source: https://api.coingecko.com/api/v3/coins/markets?vs_currency=usd&order=market_cap_desc&per_page=100&page=20&sparkline=false&price_change_percentage=1h%2C%2024h%2C%207d%2C14d%2C30d%2C200d%2C1y\n",
            "INFO: Downloading Page 21– Rows Count 100 – source: https://api.coingecko.com/api/v3/coins/markets?vs_currency=usd&order=market_cap_desc&per_page=100&page=21&sparkline=false&price_change_percentage=1h%2C%2024h%2C%207d%2C14d%2C30d%2C200d%2C1y\n",
            "INFO: Downloading Page 22– Rows Count 100 – source: https://api.coingecko.com/api/v3/coins/markets?vs_currency=usd&order=market_cap_desc&per_page=100&page=22&sparkline=false&price_change_percentage=1h%2C%2024h%2C%207d%2C14d%2C30d%2C200d%2C1y\n",
            "INFO: Downloading Page 23– Rows Count 100 – source: https://api.coingecko.com/api/v3/coins/markets?vs_currency=usd&order=market_cap_desc&per_page=100&page=23&sparkline=false&price_change_percentage=1h%2C%2024h%2C%207d%2C14d%2C30d%2C200d%2C1y\n",
            "INFO: Downloading Page 24– Rows Count 100 – source: https://api.coingecko.com/api/v3/coins/markets?vs_currency=usd&order=market_cap_desc&per_page=100&page=24&sparkline=false&price_change_percentage=1h%2C%2024h%2C%207d%2C14d%2C30d%2C200d%2C1y\n",
            "INFO: Downloading Page 25– Rows Count 100 – source: https://api.coingecko.com/api/v3/coins/markets?vs_currency=usd&order=market_cap_desc&per_page=100&page=25&sparkline=false&price_change_percentage=1h%2C%2024h%2C%207d%2C14d%2C30d%2C200d%2C1y\n",
            "INFO: Downloading Page 26– Rows Count 100 – source: https://api.coingecko.com/api/v3/coins/markets?vs_currency=usd&order=market_cap_desc&per_page=100&page=26&sparkline=false&price_change_percentage=1h%2C%2024h%2C%207d%2C14d%2C30d%2C200d%2C1y\n",
            "INFO: Downloading Page 27– Rows Count 100 – source: https://api.coingecko.com/api/v3/coins/markets?vs_currency=usd&order=market_cap_desc&per_page=100&page=27&sparkline=false&price_change_percentage=1h%2C%2024h%2C%207d%2C14d%2C30d%2C200d%2C1y\n",
            "INFO: Downloading Page 28– Rows Count 100 – source: https://api.coingecko.com/api/v3/coins/markets?vs_currency=usd&order=market_cap_desc&per_page=100&page=28&sparkline=false&price_change_percentage=1h%2C%2024h%2C%207d%2C14d%2C30d%2C200d%2C1y\n",
            "INFO: Downloading Page 29– Rows Count 100 – source: https://api.coingecko.com/api/v3/coins/markets?vs_currency=usd&order=market_cap_desc&per_page=100&page=29&sparkline=false&price_change_percentage=1h%2C%2024h%2C%207d%2C14d%2C30d%2C200d%2C1y\n",
            "INFO: Downloading Page 30– Rows Count 100 – source: https://api.coingecko.com/api/v3/coins/markets?vs_currency=usd&order=market_cap_desc&per_page=100&page=30&sparkline=false&price_change_percentage=1h%2C%2024h%2C%207d%2C14d%2C30d%2C200d%2C1y\n",
            "INFO: Downloading Page 31– Rows Count 100 – source: https://api.coingecko.com/api/v3/coins/markets?vs_currency=usd&order=market_cap_desc&per_page=100&page=31&sparkline=false&price_change_percentage=1h%2C%2024h%2C%207d%2C14d%2C30d%2C200d%2C1y\n",
            "INFO: Downloading Page 32– Rows Count 100 – source: https://api.coingecko.com/api/v3/coins/markets?vs_currency=usd&order=market_cap_desc&per_page=100&page=32&sparkline=false&price_change_percentage=1h%2C%2024h%2C%207d%2C14d%2C30d%2C200d%2C1y\n",
            "INFO: Downloading Page 33– Rows Count 100 – source: https://api.coingecko.com/api/v3/coins/markets?vs_currency=usd&order=market_cap_desc&per_page=100&page=33&sparkline=false&price_change_percentage=1h%2C%2024h%2C%207d%2C14d%2C30d%2C200d%2C1y\n",
            "INFO: Downloading Page 34– Rows Count 100 – source: https://api.coingecko.com/api/v3/coins/markets?vs_currency=usd&order=market_cap_desc&per_page=100&page=34&sparkline=false&price_change_percentage=1h%2C%2024h%2C%207d%2C14d%2C30d%2C200d%2C1y\n",
            "INFO: Downloading Page 35– Rows Count 100 – source: https://api.coingecko.com/api/v3/coins/markets?vs_currency=usd&order=market_cap_desc&per_page=100&page=35&sparkline=false&price_change_percentage=1h%2C%2024h%2C%207d%2C14d%2C30d%2C200d%2C1y\n",
            "INFO: Downloading Page 36– Rows Count 100 – source: https://api.coingecko.com/api/v3/coins/markets?vs_currency=usd&order=market_cap_desc&per_page=100&page=36&sparkline=false&price_change_percentage=1h%2C%2024h%2C%207d%2C14d%2C30d%2C200d%2C1y\n",
            "INFO: Downloading Page 37– Rows Count 100 – source: https://api.coingecko.com/api/v3/coins/markets?vs_currency=usd&order=market_cap_desc&per_page=100&page=37&sparkline=false&price_change_percentage=1h%2C%2024h%2C%207d%2C14d%2C30d%2C200d%2C1y\n",
            "INFO: Downloading Page 38– Rows Count 100 – source: https://api.coingecko.com/api/v3/coins/markets?vs_currency=usd&order=market_cap_desc&per_page=100&page=38&sparkline=false&price_change_percentage=1h%2C%2024h%2C%207d%2C14d%2C30d%2C200d%2C1y\n",
            "INFO: Downloading Page 39– Rows Count 100 – source: https://api.coingecko.com/api/v3/coins/markets?vs_currency=usd&order=market_cap_desc&per_page=100&page=39&sparkline=false&price_change_percentage=1h%2C%2024h%2C%207d%2C14d%2C30d%2C200d%2C1y\n",
            "INFO: Downloading Page 40– Rows Count 100 – source: https://api.coingecko.com/api/v3/coins/markets?vs_currency=usd&order=market_cap_desc&per_page=100&page=40&sparkline=false&price_change_percentage=1h%2C%2024h%2C%207d%2C14d%2C30d%2C200d%2C1y\n",
            "INFO: Downloading Page 41– Rows Count 100 – source: https://api.coingecko.com/api/v3/coins/markets?vs_currency=usd&order=market_cap_desc&per_page=100&page=41&sparkline=false&price_change_percentage=1h%2C%2024h%2C%207d%2C14d%2C30d%2C200d%2C1y\n",
            "INFO: Downloading Page 42– Rows Count 100 – source: https://api.coingecko.com/api/v3/coins/markets?vs_currency=usd&order=market_cap_desc&per_page=100&page=42&sparkline=false&price_change_percentage=1h%2C%2024h%2C%207d%2C14d%2C30d%2C200d%2C1y\n",
            "INFO: Downloading Page 43– Rows Count 100 – source: https://api.coingecko.com/api/v3/coins/markets?vs_currency=usd&order=market_cap_desc&per_page=100&page=43&sparkline=false&price_change_percentage=1h%2C%2024h%2C%207d%2C14d%2C30d%2C200d%2C1y\n",
            "INFO: Downloading Page 44– Rows Count 100 – source: https://api.coingecko.com/api/v3/coins/markets?vs_currency=usd&order=market_cap_desc&per_page=100&page=44&sparkline=false&price_change_percentage=1h%2C%2024h%2C%207d%2C14d%2C30d%2C200d%2C1y\n",
            "INFO: Downloading Page 45– Rows Count 100 – source: https://api.coingecko.com/api/v3/coins/markets?vs_currency=usd&order=market_cap_desc&per_page=100&page=45&sparkline=false&price_change_percentage=1h%2C%2024h%2C%207d%2C14d%2C30d%2C200d%2C1y\n",
            "INFO: Downloading Page 46– Rows Count 100 – source: https://api.coingecko.com/api/v3/coins/markets?vs_currency=usd&order=market_cap_desc&per_page=100&page=46&sparkline=false&price_change_percentage=1h%2C%2024h%2C%207d%2C14d%2C30d%2C200d%2C1y\n",
            "INFO: Downloading Page 47– Rows Count 100 – source: https://api.coingecko.com/api/v3/coins/markets?vs_currency=usd&order=market_cap_desc&per_page=100&page=47&sparkline=false&price_change_percentage=1h%2C%2024h%2C%207d%2C14d%2C30d%2C200d%2C1y\n",
            "INFO: Downloading Page 48– Rows Count 100 – source: https://api.coingecko.com/api/v3/coins/markets?vs_currency=usd&order=market_cap_desc&per_page=100&page=48&sparkline=false&price_change_percentage=1h%2C%2024h%2C%207d%2C14d%2C30d%2C200d%2C1y\n",
            "INFO: Downloading Page 49– Rows Count 100 – source: https://api.coingecko.com/api/v3/coins/markets?vs_currency=usd&order=market_cap_desc&per_page=100&page=49&sparkline=false&price_change_percentage=1h%2C%2024h%2C%207d%2C14d%2C30d%2C200d%2C1y\n",
            "INFO: Downloading Page 50– Rows Count 100 – source: https://api.coingecko.com/api/v3/coins/markets?vs_currency=usd&order=market_cap_desc&per_page=100&page=50&sparkline=false&price_change_percentage=1h%2C%2024h%2C%207d%2C14d%2C30d%2C200d%2C1y\n",
            "INFO: Downloading Page 51– Rows Count 100 – source: https://api.coingecko.com/api/v3/coins/markets?vs_currency=usd&order=market_cap_desc&per_page=100&page=51&sparkline=false&price_change_percentage=1h%2C%2024h%2C%207d%2C14d%2C30d%2C200d%2C1y\n",
            "INFO: Downloading Page 52– Rows Count 100 – source: https://api.coingecko.com/api/v3/coins/markets?vs_currency=usd&order=market_cap_desc&per_page=100&page=52&sparkline=false&price_change_percentage=1h%2C%2024h%2C%207d%2C14d%2C30d%2C200d%2C1y\n",
            "INFO: Downloading Page 53– Rows Count 100 – source: https://api.coingecko.com/api/v3/coins/markets?vs_currency=usd&order=market_cap_desc&per_page=100&page=53&sparkline=false&price_change_percentage=1h%2C%2024h%2C%207d%2C14d%2C30d%2C200d%2C1y\n",
            "INFO: Downloading Page 54– Rows Count 100 – source: https://api.coingecko.com/api/v3/coins/markets?vs_currency=usd&order=market_cap_desc&per_page=100&page=54&sparkline=false&price_change_percentage=1h%2C%2024h%2C%207d%2C14d%2C30d%2C200d%2C1y\n",
            "INFO: Downloading Page 55– Rows Count 100 – source: https://api.coingecko.com/api/v3/coins/markets?vs_currency=usd&order=market_cap_desc&per_page=100&page=55&sparkline=false&price_change_percentage=1h%2C%2024h%2C%207d%2C14d%2C30d%2C200d%2C1y\n",
            "INFO: Downloading Page 56– Rows Count 100 – source: https://api.coingecko.com/api/v3/coins/markets?vs_currency=usd&order=market_cap_desc&per_page=100&page=56&sparkline=false&price_change_percentage=1h%2C%2024h%2C%207d%2C14d%2C30d%2C200d%2C1y\n",
            "INFO: Downloading Page 57– Rows Count 100 – source: https://api.coingecko.com/api/v3/coins/markets?vs_currency=usd&order=market_cap_desc&per_page=100&page=57&sparkline=false&price_change_percentage=1h%2C%2024h%2C%207d%2C14d%2C30d%2C200d%2C1y\n",
            "INFO: Downloading Page 58– Rows Count 100 – source: https://api.coingecko.com/api/v3/coins/markets?vs_currency=usd&order=market_cap_desc&per_page=100&page=58&sparkline=false&price_change_percentage=1h%2C%2024h%2C%207d%2C14d%2C30d%2C200d%2C1y\n",
            "INFO: Downloading Page 59– Rows Count 100 – source: https://api.coingecko.com/api/v3/coins/markets?vs_currency=usd&order=market_cap_desc&per_page=100&page=59&sparkline=false&price_change_percentage=1h%2C%2024h%2C%207d%2C14d%2C30d%2C200d%2C1y\n",
            "INFO: Downloading Page 60– Rows Count 100 – source: https://api.coingecko.com/api/v3/coins/markets?vs_currency=usd&order=market_cap_desc&per_page=100&page=60&sparkline=false&price_change_percentage=1h%2C%2024h%2C%207d%2C14d%2C30d%2C200d%2C1y\n",
            "INFO: Downloading Page 61– Rows Count 100 – source: https://api.coingecko.com/api/v3/coins/markets?vs_currency=usd&order=market_cap_desc&per_page=100&page=61&sparkline=false&price_change_percentage=1h%2C%2024h%2C%207d%2C14d%2C30d%2C200d%2C1y\n",
            "INFO: Downloading Page 62– Rows Count 100 – source: https://api.coingecko.com/api/v3/coins/markets?vs_currency=usd&order=market_cap_desc&per_page=100&page=62&sparkline=false&price_change_percentage=1h%2C%2024h%2C%207d%2C14d%2C30d%2C200d%2C1y\n",
            "INFO: Downloading Page 63– Rows Count 100 – source: https://api.coingecko.com/api/v3/coins/markets?vs_currency=usd&order=market_cap_desc&per_page=100&page=63&sparkline=false&price_change_percentage=1h%2C%2024h%2C%207d%2C14d%2C30d%2C200d%2C1y\n",
            "INFO: Downloading Page 64– Rows Count 100 – source: https://api.coingecko.com/api/v3/coins/markets?vs_currency=usd&order=market_cap_desc&per_page=100&page=64&sparkline=false&price_change_percentage=1h%2C%2024h%2C%207d%2C14d%2C30d%2C200d%2C1y\n",
            "INFO: Downloading Page 65– Rows Count 100 – source: https://api.coingecko.com/api/v3/coins/markets?vs_currency=usd&order=market_cap_desc&per_page=100&page=65&sparkline=false&price_change_percentage=1h%2C%2024h%2C%207d%2C14d%2C30d%2C200d%2C1y\n",
            "INFO: Downloading Page 66– Rows Count 100 – source: https://api.coingecko.com/api/v3/coins/markets?vs_currency=usd&order=market_cap_desc&per_page=100&page=66&sparkline=false&price_change_percentage=1h%2C%2024h%2C%207d%2C14d%2C30d%2C200d%2C1y\n",
            "INFO: Downloading Page 67– Rows Count 100 – source: https://api.coingecko.com/api/v3/coins/markets?vs_currency=usd&order=market_cap_desc&per_page=100&page=67&sparkline=false&price_change_percentage=1h%2C%2024h%2C%207d%2C14d%2C30d%2C200d%2C1y\n",
            "INFO: Downloading Page 68– Rows Count 100 – source: https://api.coingecko.com/api/v3/coins/markets?vs_currency=usd&order=market_cap_desc&per_page=100&page=68&sparkline=false&price_change_percentage=1h%2C%2024h%2C%207d%2C14d%2C30d%2C200d%2C1y\n",
            "INFO: Downloading Page 69– Rows Count 100 – source: https://api.coingecko.com/api/v3/coins/markets?vs_currency=usd&order=market_cap_desc&per_page=100&page=69&sparkline=false&price_change_percentage=1h%2C%2024h%2C%207d%2C14d%2C30d%2C200d%2C1y\n",
            "INFO: Downloading Page 70– Rows Count 100 – source: https://api.coingecko.com/api/v3/coins/markets?vs_currency=usd&order=market_cap_desc&per_page=100&page=70&sparkline=false&price_change_percentage=1h%2C%2024h%2C%207d%2C14d%2C30d%2C200d%2C1y\n",
            "INFO: Downloading Page 71– Rows Count 100 – source: https://api.coingecko.com/api/v3/coins/markets?vs_currency=usd&order=market_cap_desc&per_page=100&page=71&sparkline=false&price_change_percentage=1h%2C%2024h%2C%207d%2C14d%2C30d%2C200d%2C1y\n",
            "INFO: Downloading Page 72– Rows Count 100 – source: https://api.coingecko.com/api/v3/coins/markets?vs_currency=usd&order=market_cap_desc&per_page=100&page=72&sparkline=false&price_change_percentage=1h%2C%2024h%2C%207d%2C14d%2C30d%2C200d%2C1y\n",
            "INFO: Downloading Page 73– Rows Count 100 – source: https://api.coingecko.com/api/v3/coins/markets?vs_currency=usd&order=market_cap_desc&per_page=100&page=73&sparkline=false&price_change_percentage=1h%2C%2024h%2C%207d%2C14d%2C30d%2C200d%2C1y\n",
            "INFO: Downloading Page 74– Rows Count 100 – source: https://api.coingecko.com/api/v3/coins/markets?vs_currency=usd&order=market_cap_desc&per_page=100&page=74&sparkline=false&price_change_percentage=1h%2C%2024h%2C%207d%2C14d%2C30d%2C200d%2C1y\n",
            "INFO: Downloading Page 75– Rows Count 100 – source: https://api.coingecko.com/api/v3/coins/markets?vs_currency=usd&order=market_cap_desc&per_page=100&page=75&sparkline=false&price_change_percentage=1h%2C%2024h%2C%207d%2C14d%2C30d%2C200d%2C1y\n",
            "INFO: Downloading Page 76– Rows Count 100 – source: https://api.coingecko.com/api/v3/coins/markets?vs_currency=usd&order=market_cap_desc&per_page=100&page=76&sparkline=false&price_change_percentage=1h%2C%2024h%2C%207d%2C14d%2C30d%2C200d%2C1y\n",
            "INFO: Downloading Page 77– Rows Count 100 – source: https://api.coingecko.com/api/v3/coins/markets?vs_currency=usd&order=market_cap_desc&per_page=100&page=77&sparkline=false&price_change_percentage=1h%2C%2024h%2C%207d%2C14d%2C30d%2C200d%2C1y\n",
            "INFO: Downloading Page 78– Rows Count 100 – source: https://api.coingecko.com/api/v3/coins/markets?vs_currency=usd&order=market_cap_desc&per_page=100&page=78&sparkline=false&price_change_percentage=1h%2C%2024h%2C%207d%2C14d%2C30d%2C200d%2C1y\n",
            "INFO: Downloading Page 79– Rows Count 100 – source: https://api.coingecko.com/api/v3/coins/markets?vs_currency=usd&order=market_cap_desc&per_page=100&page=79&sparkline=false&price_change_percentage=1h%2C%2024h%2C%207d%2C14d%2C30d%2C200d%2C1y\n",
            "INFO: Downloading Page 80– Rows Count 100 – source: https://api.coingecko.com/api/v3/coins/markets?vs_currency=usd&order=market_cap_desc&per_page=100&page=80&sparkline=false&price_change_percentage=1h%2C%2024h%2C%207d%2C14d%2C30d%2C200d%2C1y\n",
            "INFO: Downloading Page 81– Rows Count 100 – source: https://api.coingecko.com/api/v3/coins/markets?vs_currency=usd&order=market_cap_desc&per_page=100&page=81&sparkline=false&price_change_percentage=1h%2C%2024h%2C%207d%2C14d%2C30d%2C200d%2C1y\n",
            "INFO: Downloading Page 82– Rows Count 100 – source: https://api.coingecko.com/api/v3/coins/markets?vs_currency=usd&order=market_cap_desc&per_page=100&page=82&sparkline=false&price_change_percentage=1h%2C%2024h%2C%207d%2C14d%2C30d%2C200d%2C1y\n",
            "INFO: Downloading Page 83– Rows Count 100 – source: https://api.coingecko.com/api/v3/coins/markets?vs_currency=usd&order=market_cap_desc&per_page=100&page=83&sparkline=false&price_change_percentage=1h%2C%2024h%2C%207d%2C14d%2C30d%2C200d%2C1y\n",
            "INFO: Downloading Page 84– Rows Count 100 – source: https://api.coingecko.com/api/v3/coins/markets?vs_currency=usd&order=market_cap_desc&per_page=100&page=84&sparkline=false&price_change_percentage=1h%2C%2024h%2C%207d%2C14d%2C30d%2C200d%2C1y\n",
            "INFO: Downloading Page 85– Rows Count 100 – source: https://api.coingecko.com/api/v3/coins/markets?vs_currency=usd&order=market_cap_desc&per_page=100&page=85&sparkline=false&price_change_percentage=1h%2C%2024h%2C%207d%2C14d%2C30d%2C200d%2C1y\n",
            "INFO: Downloading Page 86– Rows Count 100 – source: https://api.coingecko.com/api/v3/coins/markets?vs_currency=usd&order=market_cap_desc&per_page=100&page=86&sparkline=false&price_change_percentage=1h%2C%2024h%2C%207d%2C14d%2C30d%2C200d%2C1y\n",
            "INFO: Downloading Page 87– Rows Count 100 – source: https://api.coingecko.com/api/v3/coins/markets?vs_currency=usd&order=market_cap_desc&per_page=100&page=87&sparkline=false&price_change_percentage=1h%2C%2024h%2C%207d%2C14d%2C30d%2C200d%2C1y\n",
            "INFO: Downloading Page 88– Rows Count 100 – source: https://api.coingecko.com/api/v3/coins/markets?vs_currency=usd&order=market_cap_desc&per_page=100&page=88&sparkline=false&price_change_percentage=1h%2C%2024h%2C%207d%2C14d%2C30d%2C200d%2C1y\n",
            "INFO: Downloading Page 89– Rows Count 100 – source: https://api.coingecko.com/api/v3/coins/markets?vs_currency=usd&order=market_cap_desc&per_page=100&page=89&sparkline=false&price_change_percentage=1h%2C%2024h%2C%207d%2C14d%2C30d%2C200d%2C1y\n",
            "INFO: Downloading Page 90– Rows Count 100 – source: https://api.coingecko.com/api/v3/coins/markets?vs_currency=usd&order=market_cap_desc&per_page=100&page=90&sparkline=false&price_change_percentage=1h%2C%2024h%2C%207d%2C14d%2C30d%2C200d%2C1y\n",
            "INFO: Downloading Page 91– Rows Count 100 – source: https://api.coingecko.com/api/v3/coins/markets?vs_currency=usd&order=market_cap_desc&per_page=100&page=91&sparkline=false&price_change_percentage=1h%2C%2024h%2C%207d%2C14d%2C30d%2C200d%2C1y\n",
            "INFO: Downloading Page 92– Rows Count 100 – source: https://api.coingecko.com/api/v3/coins/markets?vs_currency=usd&order=market_cap_desc&per_page=100&page=92&sparkline=false&price_change_percentage=1h%2C%2024h%2C%207d%2C14d%2C30d%2C200d%2C1y\n",
            "INFO: Downloading Page 93– Rows Count 100 – source: https://api.coingecko.com/api/v3/coins/markets?vs_currency=usd&order=market_cap_desc&per_page=100&page=93&sparkline=false&price_change_percentage=1h%2C%2024h%2C%207d%2C14d%2C30d%2C200d%2C1y\n",
            "INFO: Downloading Page 94– Rows Count 100 – source: https://api.coingecko.com/api/v3/coins/markets?vs_currency=usd&order=market_cap_desc&per_page=100&page=94&sparkline=false&price_change_percentage=1h%2C%2024h%2C%207d%2C14d%2C30d%2C200d%2C1y\n",
            "INFO: Downloading Page 95– Rows Count 100 – source: https://api.coingecko.com/api/v3/coins/markets?vs_currency=usd&order=market_cap_desc&per_page=100&page=95&sparkline=false&price_change_percentage=1h%2C%2024h%2C%207d%2C14d%2C30d%2C200d%2C1y\n",
            "INFO: Downloading Page 96– Rows Count 100 – source: https://api.coingecko.com/api/v3/coins/markets?vs_currency=usd&order=market_cap_desc&per_page=100&page=96&sparkline=false&price_change_percentage=1h%2C%2024h%2C%207d%2C14d%2C30d%2C200d%2C1y\n",
            "INFO: Downloading Page 97– Rows Count 100 – source: https://api.coingecko.com/api/v3/coins/markets?vs_currency=usd&order=market_cap_desc&per_page=100&page=97&sparkline=false&price_change_percentage=1h%2C%2024h%2C%207d%2C14d%2C30d%2C200d%2C1y\n",
            "INFO: Downloading Page 98– Rows Count 100 – source: https://api.coingecko.com/api/v3/coins/markets?vs_currency=usd&order=market_cap_desc&per_page=100&page=98&sparkline=false&price_change_percentage=1h%2C%2024h%2C%207d%2C14d%2C30d%2C200d%2C1y\n",
            "INFO: Downloading Page 99– Rows Count 100 – source: https://api.coingecko.com/api/v3/coins/markets?vs_currency=usd&order=market_cap_desc&per_page=100&page=99&sparkline=false&price_change_percentage=1h%2C%2024h%2C%207d%2C14d%2C30d%2C200d%2C1y\n",
            "INFO: Downloading Page 100– Rows Count 100 – source: https://api.coingecko.com/api/v3/coins/markets?vs_currency=usd&order=market_cap_desc&per_page=100&page=100&sparkline=false&price_change_percentage=1h%2C%2024h%2C%207d%2C14d%2C30d%2C200d%2C1y\n",
            "INFO: Downloading Page 101– Rows Count 100 – source: https://api.coingecko.com/api/v3/coins/markets?vs_currency=usd&order=market_cap_desc&per_page=100&page=101&sparkline=false&price_change_percentage=1h%2C%2024h%2C%207d%2C14d%2C30d%2C200d%2C1y\n",
            "INFO: Downloading Page 102– Rows Count 100 – source: https://api.coingecko.com/api/v3/coins/markets?vs_currency=usd&order=market_cap_desc&per_page=100&page=102&sparkline=false&price_change_percentage=1h%2C%2024h%2C%207d%2C14d%2C30d%2C200d%2C1y\n",
            "INFO: Downloading Page 103– Rows Count 100 – source: https://api.coingecko.com/api/v3/coins/markets?vs_currency=usd&order=market_cap_desc&per_page=100&page=103&sparkline=false&price_change_percentage=1h%2C%2024h%2C%207d%2C14d%2C30d%2C200d%2C1y\n",
            "INFO: Downloading Page 104– Rows Count 100 – source: https://api.coingecko.com/api/v3/coins/markets?vs_currency=usd&order=market_cap_desc&per_page=100&page=104&sparkline=false&price_change_percentage=1h%2C%2024h%2C%207d%2C14d%2C30d%2C200d%2C1y\n",
            "INFO: Downloading Page 105– Rows Count 100 – source: https://api.coingecko.com/api/v3/coins/markets?vs_currency=usd&order=market_cap_desc&per_page=100&page=105&sparkline=false&price_change_percentage=1h%2C%2024h%2C%207d%2C14d%2C30d%2C200d%2C1y\n",
            "INFO: Downloading Page 106– Rows Count 100 – source: https://api.coingecko.com/api/v3/coins/markets?vs_currency=usd&order=market_cap_desc&per_page=100&page=106&sparkline=false&price_change_percentage=1h%2C%2024h%2C%207d%2C14d%2C30d%2C200d%2C1y\n",
            "INFO: Downloading Page 107– Rows Count 100 – source: https://api.coingecko.com/api/v3/coins/markets?vs_currency=usd&order=market_cap_desc&per_page=100&page=107&sparkline=false&price_change_percentage=1h%2C%2024h%2C%207d%2C14d%2C30d%2C200d%2C1y\n",
            "INFO: Downloading Page 108– Rows Count 100 – source: https://api.coingecko.com/api/v3/coins/markets?vs_currency=usd&order=market_cap_desc&per_page=100&page=108&sparkline=false&price_change_percentage=1h%2C%2024h%2C%207d%2C14d%2C30d%2C200d%2C1y\n",
            "INFO: Downloading Page 109– Rows Count 100 – source: https://api.coingecko.com/api/v3/coins/markets?vs_currency=usd&order=market_cap_desc&per_page=100&page=109&sparkline=false&price_change_percentage=1h%2C%2024h%2C%207d%2C14d%2C30d%2C200d%2C1y\n",
            "INFO: Downloading Page 110– Rows Count 100 – source: https://api.coingecko.com/api/v3/coins/markets?vs_currency=usd&order=market_cap_desc&per_page=100&page=110&sparkline=false&price_change_percentage=1h%2C%2024h%2C%207d%2C14d%2C30d%2C200d%2C1y\n",
            "INFO: Downloading Page 111– Rows Count 100 – source: https://api.coingecko.com/api/v3/coins/markets?vs_currency=usd&order=market_cap_desc&per_page=100&page=111&sparkline=false&price_change_percentage=1h%2C%2024h%2C%207d%2C14d%2C30d%2C200d%2C1y\n",
            "INFO: Downloading Page 112– Rows Count 100 – source: https://api.coingecko.com/api/v3/coins/markets?vs_currency=usd&order=market_cap_desc&per_page=100&page=112&sparkline=false&price_change_percentage=1h%2C%2024h%2C%207d%2C14d%2C30d%2C200d%2C1y\n",
            "INFO: Downloading Page 113– Rows Count 100 – source: https://api.coingecko.com/api/v3/coins/markets?vs_currency=usd&order=market_cap_desc&per_page=100&page=113&sparkline=false&price_change_percentage=1h%2C%2024h%2C%207d%2C14d%2C30d%2C200d%2C1y\n",
            "INFO: Downloading Page 114– Rows Count 100 – source: https://api.coingecko.com/api/v3/coins/markets?vs_currency=usd&order=market_cap_desc&per_page=100&page=114&sparkline=false&price_change_percentage=1h%2C%2024h%2C%207d%2C14d%2C30d%2C200d%2C1y\n",
            "INFO: Downloading Page 115– Rows Count 100 – source: https://api.coingecko.com/api/v3/coins/markets?vs_currency=usd&order=market_cap_desc&per_page=100&page=115&sparkline=false&price_change_percentage=1h%2C%2024h%2C%207d%2C14d%2C30d%2C200d%2C1y\n",
            "INFO: Downloading Page 116– Rows Count 100 – source: https://api.coingecko.com/api/v3/coins/markets?vs_currency=usd&order=market_cap_desc&per_page=100&page=116&sparkline=false&price_change_percentage=1h%2C%2024h%2C%207d%2C14d%2C30d%2C200d%2C1y\n",
            "INFO: Downloading Page 117– Rows Count 100 – source: https://api.coingecko.com/api/v3/coins/markets?vs_currency=usd&order=market_cap_desc&per_page=100&page=117&sparkline=false&price_change_percentage=1h%2C%2024h%2C%207d%2C14d%2C30d%2C200d%2C1y\n",
            "INFO: Downloading Page 118– Rows Count 100 – source: https://api.coingecko.com/api/v3/coins/markets?vs_currency=usd&order=market_cap_desc&per_page=100&page=118&sparkline=false&price_change_percentage=1h%2C%2024h%2C%207d%2C14d%2C30d%2C200d%2C1y\n",
            "INFO: Downloading Page 119– Rows Count 100 – source: https://api.coingecko.com/api/v3/coins/markets?vs_currency=usd&order=market_cap_desc&per_page=100&page=119&sparkline=false&price_change_percentage=1h%2C%2024h%2C%207d%2C14d%2C30d%2C200d%2C1y\n",
            "INFO: Downloading Page 120– Rows Count 100 – source: https://api.coingecko.com/api/v3/coins/markets?vs_currency=usd&order=market_cap_desc&per_page=100&page=120&sparkline=false&price_change_percentage=1h%2C%2024h%2C%207d%2C14d%2C30d%2C200d%2C1y\n",
            "INFO: Downloading Page 121– Rows Count 100 – source: https://api.coingecko.com/api/v3/coins/markets?vs_currency=usd&order=market_cap_desc&per_page=100&page=121&sparkline=false&price_change_percentage=1h%2C%2024h%2C%207d%2C14d%2C30d%2C200d%2C1y\n",
            "INFO: Downloading Page 122– Rows Count 100 – source: https://api.coingecko.com/api/v3/coins/markets?vs_currency=usd&order=market_cap_desc&per_page=100&page=122&sparkline=false&price_change_percentage=1h%2C%2024h%2C%207d%2C14d%2C30d%2C200d%2C1y\n",
            "INFO: Downloading Page 123– Rows Count 100 – source: https://api.coingecko.com/api/v3/coins/markets?vs_currency=usd&order=market_cap_desc&per_page=100&page=123&sparkline=false&price_change_percentage=1h%2C%2024h%2C%207d%2C14d%2C30d%2C200d%2C1y\n",
            "INFO: Downloading Page 124– Rows Count 100 – source: https://api.coingecko.com/api/v3/coins/markets?vs_currency=usd&order=market_cap_desc&per_page=100&page=124&sparkline=false&price_change_percentage=1h%2C%2024h%2C%207d%2C14d%2C30d%2C200d%2C1y\n",
            "INFO: Downloading Page 125– Rows Count 100 – source: https://api.coingecko.com/api/v3/coins/markets?vs_currency=usd&order=market_cap_desc&per_page=100&page=125&sparkline=false&price_change_percentage=1h%2C%2024h%2C%207d%2C14d%2C30d%2C200d%2C1y\n",
            "INFO: Downloading Page 126– Rows Count 100 – source: https://api.coingecko.com/api/v3/coins/markets?vs_currency=usd&order=market_cap_desc&per_page=100&page=126&sparkline=false&price_change_percentage=1h%2C%2024h%2C%207d%2C14d%2C30d%2C200d%2C1y\n",
            "INFO: Downloading Page 127– Rows Count 100 – source: https://api.coingecko.com/api/v3/coins/markets?vs_currency=usd&order=market_cap_desc&per_page=100&page=127&sparkline=false&price_change_percentage=1h%2C%2024h%2C%207d%2C14d%2C30d%2C200d%2C1y\n",
            "INFO: Downloading Page 128– Rows Count 100 – source: https://api.coingecko.com/api/v3/coins/markets?vs_currency=usd&order=market_cap_desc&per_page=100&page=128&sparkline=false&price_change_percentage=1h%2C%2024h%2C%207d%2C14d%2C30d%2C200d%2C1y\n",
            "INFO: Downloading Page 129– Rows Count 100 – source: https://api.coingecko.com/api/v3/coins/markets?vs_currency=usd&order=market_cap_desc&per_page=100&page=129&sparkline=false&price_change_percentage=1h%2C%2024h%2C%207d%2C14d%2C30d%2C200d%2C1y\n",
            "INFO: Downloading Page 130– Rows Count 100 – source: https://api.coingecko.com/api/v3/coins/markets?vs_currency=usd&order=market_cap_desc&per_page=100&page=130&sparkline=false&price_change_percentage=1h%2C%2024h%2C%207d%2C14d%2C30d%2C200d%2C1y\n",
            "INFO: Downloading Page 131– Rows Count 100 – source: https://api.coingecko.com/api/v3/coins/markets?vs_currency=usd&order=market_cap_desc&per_page=100&page=131&sparkline=false&price_change_percentage=1h%2C%2024h%2C%207d%2C14d%2C30d%2C200d%2C1y\n",
            "INFO: Downloading Page 132– Rows Count 100 – source: https://api.coingecko.com/api/v3/coins/markets?vs_currency=usd&order=market_cap_desc&per_page=100&page=132&sparkline=false&price_change_percentage=1h%2C%2024h%2C%207d%2C14d%2C30d%2C200d%2C1y\n",
            "INFO: Downloading Page 133– Rows Count 100 – source: https://api.coingecko.com/api/v3/coins/markets?vs_currency=usd&order=market_cap_desc&per_page=100&page=133&sparkline=false&price_change_percentage=1h%2C%2024h%2C%207d%2C14d%2C30d%2C200d%2C1y\n",
            "INFO: Downloading Page 134– Rows Count 97 – source: https://api.coingecko.com/api/v3/coins/markets?vs_currency=usd&order=market_cap_desc&per_page=100&page=134&sparkline=false&price_change_percentage=1h%2C%2024h%2C%207d%2C14d%2C30d%2C200d%2C1y\n"
          ]
        }
      ]
    },
    {
      "cell_type": "code",
      "source": [
        "#General Information table\n",
        "response = requests.get(\"https://api.coingecko.com/api/v3/coins/{}\".format('solana'))\n",
        "output = response.text\n",
        "json_parsed = json.loads(output)\n",
        "\n",
        "\n",
        "print('')  \n",
        "print('MARKET DATA')  \n",
        "print('')  \n",
        "\n",
        "\n",
        "#Indicators\n",
        "\n",
        "market_cap = json_parsed['market_data']['market_cap']['usd']\n",
        "fdv_to_tvl_rati = json_parsed['market_data']['fdv_to_tvl_ratio']\n",
        "mcap_to_tvl_ratio = json_parsed['market_data']['mcap_to_tvl_ratio']\n",
        "total_supply = json_parsed['market_data']['total_supply']\n",
        "total_value_locked = json_parsed['market_data']['total_value_locked']\n",
        "total_volume = json_parsed['market_data']['total_volume']['usd']\n",
        "price_change_percentage_7d = json_parsed['market_data']['price_change_percentage_7d']\n",
        "price_change_percentage_14d = json_parsed['market_data']['price_change_percentage_14d']\n",
        "price_change_percentage_30d = json_parsed['market_data']['price_change_percentage_30d']\n",
        "price_change_percentage_60d = json_parsed['market_data']['price_change_percentage_60d']\n",
        "price_change_percentage_200d = json_parsed['market_data']['price_change_percentage_200d']\n",
        "price_change_percentage_1y = json_parsed['market_data']['price_change_percentage_1y']\n",
        "community_data = json_parsed['community_data']\n",
        "developer_data = json_parsed['developer_data']\n",
        "links = json_parsed['links']\n",
        "\n",
        "df_community_data = pd.DataFrame(data=community_data, index=[0])\n"
      ],
      "metadata": {
        "colab": {
          "base_uri": "https://localhost:8080/"
        },
        "id": "zDbHILx-MnfE",
        "outputId": "6ddc2951-3606-4bcc-e67c-2ecd37cf7094"
      },
      "execution_count": 33,
      "outputs": [
        {
          "output_type": "stream",
          "name": "stdout",
          "text": [
            "\n",
            "MARKET DATA\n",
            "\n"
          ]
        }
      ]
    },
    {
      "cell_type": "code",
      "source": [
        "links"
      ],
      "metadata": {
        "colab": {
          "base_uri": "https://localhost:8080/"
        },
        "id": "6sFo92TQOwJP",
        "outputId": "dd9f1c60-c8a5-45b2-927f-90354d7c40d3"
      },
      "execution_count": 34,
      "outputs": [
        {
          "output_type": "execute_result",
          "data": {
            "text/plain": [
              "{'announcement_url': ['https://medium.com/solana-labs',\n",
              "  'https://forums.solana.com/'],\n",
              " 'bitcointalk_thread_identifier': None,\n",
              " 'blockchain_site': ['https://explorer.solana.com/',\n",
              "  'https://solscan.io/',\n",
              "  'https://solanabeach.io/',\n",
              "  '',\n",
              "  '',\n",
              "  '',\n",
              "  '',\n",
              "  '',\n",
              "  '',\n",
              "  ''],\n",
              " 'chat_url': ['https://discordapp.com/invite/pquxPsq', '', ''],\n",
              " 'facebook_username': '',\n",
              " 'homepage': ['https://solana.com/', '', ''],\n",
              " 'official_forum_url': ['https://docs.solana.com/', '', ''],\n",
              " 'repos_url': {'bitbucket': [],\n",
              "  'github': ['https://github.com/solana-labs/solana']},\n",
              " 'subreddit_url': 'https://www.reddit.com/r/solana',\n",
              " 'telegram_channel_identifier': 'solana',\n",
              " 'twitter_screen_name': 'solana'}"
            ]
          },
          "metadata": {},
          "execution_count": 34
        }
      ]
    },
    {
      "cell_type": "code",
      "source": [
        "df_community_data\n"
      ],
      "metadata": {
        "colab": {
          "base_uri": "https://localhost:8080/",
          "height": 81
        },
        "id": "QROQCR-UNs83",
        "outputId": "fde679b8-67cf-4547-db3a-7b04f2b5715a"
      },
      "execution_count": 17,
      "outputs": [
        {
          "output_type": "execute_result",
          "data": {
            "text/plain": [
              "  facebook_likes  twitter_followers  reddit_average_posts_48h  \\\n",
              "0           None            2294561                       4.5   \n",
              "\n",
              "   reddit_average_comments_48h  reddit_subscribers  \\\n",
              "0                        194.3             1251422   \n",
              "\n",
              "   reddit_accounts_active_48h telegram_channel_user_count  \n",
              "0                         385                        None  "
            ],
            "text/html": [
              "\n",
              "  <div id=\"df-b608a790-5a59-41e1-bb30-0d4e4539c9ca\">\n",
              "    <div class=\"colab-df-container\">\n",
              "      <div>\n",
              "<style scoped>\n",
              "    .dataframe tbody tr th:only-of-type {\n",
              "        vertical-align: middle;\n",
              "    }\n",
              "\n",
              "    .dataframe tbody tr th {\n",
              "        vertical-align: top;\n",
              "    }\n",
              "\n",
              "    .dataframe thead th {\n",
              "        text-align: right;\n",
              "    }\n",
              "</style>\n",
              "<table border=\"1\" class=\"dataframe\">\n",
              "  <thead>\n",
              "    <tr style=\"text-align: right;\">\n",
              "      <th></th>\n",
              "      <th>facebook_likes</th>\n",
              "      <th>twitter_followers</th>\n",
              "      <th>reddit_average_posts_48h</th>\n",
              "      <th>reddit_average_comments_48h</th>\n",
              "      <th>reddit_subscribers</th>\n",
              "      <th>reddit_accounts_active_48h</th>\n",
              "      <th>telegram_channel_user_count</th>\n",
              "    </tr>\n",
              "  </thead>\n",
              "  <tbody>\n",
              "    <tr>\n",
              "      <th>0</th>\n",
              "      <td>None</td>\n",
              "      <td>2294561</td>\n",
              "      <td>4.5</td>\n",
              "      <td>194.3</td>\n",
              "      <td>1251422</td>\n",
              "      <td>385</td>\n",
              "      <td>None</td>\n",
              "    </tr>\n",
              "  </tbody>\n",
              "</table>\n",
              "</div>\n",
              "      <button class=\"colab-df-convert\" onclick=\"convertToInteractive('df-b608a790-5a59-41e1-bb30-0d4e4539c9ca')\"\n",
              "              title=\"Convert this dataframe to an interactive table.\"\n",
              "              style=\"display:none;\">\n",
              "        \n",
              "  <svg xmlns=\"http://www.w3.org/2000/svg\" height=\"24px\"viewBox=\"0 0 24 24\"\n",
              "       width=\"24px\">\n",
              "    <path d=\"M0 0h24v24H0V0z\" fill=\"none\"/>\n",
              "    <path d=\"M18.56 5.44l.94 2.06.94-2.06 2.06-.94-2.06-.94-.94-2.06-.94 2.06-2.06.94zm-11 1L8.5 8.5l.94-2.06 2.06-.94-2.06-.94L8.5 2.5l-.94 2.06-2.06.94zm10 10l.94 2.06.94-2.06 2.06-.94-2.06-.94-.94-2.06-.94 2.06-2.06.94z\"/><path d=\"M17.41 7.96l-1.37-1.37c-.4-.4-.92-.59-1.43-.59-.52 0-1.04.2-1.43.59L10.3 9.45l-7.72 7.72c-.78.78-.78 2.05 0 2.83L4 21.41c.39.39.9.59 1.41.59.51 0 1.02-.2 1.41-.59l7.78-7.78 2.81-2.81c.8-.78.8-2.07 0-2.86zM5.41 20L4 18.59l7.72-7.72 1.47 1.35L5.41 20z\"/>\n",
              "  </svg>\n",
              "      </button>\n",
              "      \n",
              "  <style>\n",
              "    .colab-df-container {\n",
              "      display:flex;\n",
              "      flex-wrap:wrap;\n",
              "      gap: 12px;\n",
              "    }\n",
              "\n",
              "    .colab-df-convert {\n",
              "      background-color: #E8F0FE;\n",
              "      border: none;\n",
              "      border-radius: 50%;\n",
              "      cursor: pointer;\n",
              "      display: none;\n",
              "      fill: #1967D2;\n",
              "      height: 32px;\n",
              "      padding: 0 0 0 0;\n",
              "      width: 32px;\n",
              "    }\n",
              "\n",
              "    .colab-df-convert:hover {\n",
              "      background-color: #E2EBFA;\n",
              "      box-shadow: 0px 1px 2px rgba(60, 64, 67, 0.3), 0px 1px 3px 1px rgba(60, 64, 67, 0.15);\n",
              "      fill: #174EA6;\n",
              "    }\n",
              "\n",
              "    [theme=dark] .colab-df-convert {\n",
              "      background-color: #3B4455;\n",
              "      fill: #D2E3FC;\n",
              "    }\n",
              "\n",
              "    [theme=dark] .colab-df-convert:hover {\n",
              "      background-color: #434B5C;\n",
              "      box-shadow: 0px 1px 3px 1px rgba(0, 0, 0, 0.15);\n",
              "      filter: drop-shadow(0px 1px 2px rgba(0, 0, 0, 0.3));\n",
              "      fill: #FFFFFF;\n",
              "    }\n",
              "  </style>\n",
              "\n",
              "      <script>\n",
              "        const buttonEl =\n",
              "          document.querySelector('#df-b608a790-5a59-41e1-bb30-0d4e4539c9ca button.colab-df-convert');\n",
              "        buttonEl.style.display =\n",
              "          google.colab.kernel.accessAllowed ? 'block' : 'none';\n",
              "\n",
              "        async function convertToInteractive(key) {\n",
              "          const element = document.querySelector('#df-b608a790-5a59-41e1-bb30-0d4e4539c9ca');\n",
              "          const dataTable =\n",
              "            await google.colab.kernel.invokeFunction('convertToInteractive',\n",
              "                                                     [key], {});\n",
              "          if (!dataTable) return;\n",
              "\n",
              "          const docLinkHtml = 'Like what you see? Visit the ' +\n",
              "            '<a target=\"_blank\" href=https://colab.research.google.com/notebooks/data_table.ipynb>data table notebook</a>'\n",
              "            + ' to learn more about interactive tables.';\n",
              "          element.innerHTML = '';\n",
              "          dataTable['output_type'] = 'display_data';\n",
              "          await google.colab.output.renderOutput(dataTable, element);\n",
              "          const docLink = document.createElement('div');\n",
              "          docLink.innerHTML = docLinkHtml;\n",
              "          element.appendChild(docLink);\n",
              "        }\n",
              "      </script>\n",
              "    </div>\n",
              "  </div>\n",
              "  "
            ]
          },
          "metadata": {},
          "execution_count": 17
        }
      ]
    },
    {
      "cell_type": "code",
      "source": [
        "df_developer_data"
      ],
      "metadata": {
        "colab": {
          "base_uri": "https://localhost:8080/",
          "height": 165
        },
        "id": "g1ev1MPwOAXY",
        "outputId": "85f6fc65-0860-4330-ba03-99a3aa32d821"
      },
      "execution_count": 21,
      "outputs": [
        {
          "output_type": "error",
          "ename": "NameError",
          "evalue": "ignored",
          "traceback": [
            "\u001b[0;31m---------------------------------------------------------------------------\u001b[0m",
            "\u001b[0;31mNameError\u001b[0m                                 Traceback (most recent call last)",
            "\u001b[0;32m<ipython-input-21-76595f33e46f>\u001b[0m in \u001b[0;36m<module>\u001b[0;34m()\u001b[0m\n\u001b[0;32m----> 1\u001b[0;31m \u001b[0mdf_developer_data\u001b[0m\u001b[0;34m\u001b[0m\u001b[0;34m\u001b[0m\u001b[0m\n\u001b[0m",
            "\u001b[0;31mNameError\u001b[0m: name 'df_developer_data' is not defined"
          ]
        }
      ]
    },
    {
      "cell_type": "code",
      "source": [
        "\n",
        "  #Charlescustom\n",
        "  print('')  \n",
        "  try:\n",
        "    dollar_volume_rotation  = total_volume / market_cap\n",
        "   # supply_expansion_multiple = total_supply/circulating_supply\n",
        "   # circulating_versus_max = circulating_supply/total_supply\n",
        "    ##market_cap_dilution_ratio =  fully_diluted_valuation / market_cap\n",
        "    \n",
        "    dict_custom = {}\n",
        "    dict_custom ['dollar_volume_rotation'] = dollar_volume_rotation\n",
        " #   dict_custom ['supply_expansion_multiple'] = supply_expansion_multiple\n",
        " #   dict_custom ['circulating_versus_max'] = circulating_versus_max\n",
        "   # dict_custom ['market_cap_dilution_ratio'] = market_cap_dilution_ratio - 1\n",
        "  except ZeroDivisionError:\n",
        "    print('null')\n",
        "    \n",
        "  print(dict_custom )\n",
        "\n",
        "  print('          ') "
      ],
      "metadata": {
        "id": "U9WV-S5qNWwW"
      },
      "execution_count": null,
      "outputs": []
    },
    {
      "cell_type": "markdown",
      "source": [
        " #    Data Wrangling"
      ],
      "metadata": {
        "id": "T3crwZswAEnZ"
      }
    }
  ]
}