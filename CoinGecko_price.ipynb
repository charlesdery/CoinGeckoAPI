{
  "cells": [
    {
      "cell_type": "markdown",
      "metadata": {
        "id": "view-in-github",
        "colab_type": "text"
      },
      "source": [
        "<a href=\"https://colab.research.google.com/github/custom-hyper/CoinGeckoAPI/blob/main/CoinGecko_price.ipynb\" target=\"_parent\"><img src=\"https://colab.research.google.com/assets/colab-badge.svg\" alt=\"Open In Colab\"/></a>"
      ]
    },
    {
      "cell_type": "code",
      "execution_count": 1,
      "metadata": {
        "colab": {
          "base_uri": "https://localhost:8080/"
        },
        "id": "xl6g0mIGYfKi",
        "outputId": "47535d66-0629-489b-ae66-b70ea96d9cf4"
      },
      "outputs": [
        {
          "output_type": "stream",
          "name": "stdout",
          "text": [
            "Mounted at /content/drive\n"
          ]
        }
      ],
      "source": [
        "from google.colab import drive\n",
        "drive.mount('/content/drive')"
      ]
    },
    {
      "cell_type": "code",
      "execution_count": 2,
      "metadata": {
        "colab": {
          "base_uri": "https://localhost:8080/"
        },
        "id": "XrIT6AsmYag5",
        "outputId": "c406e1c6-1e55-400b-e54a-cc14c227234f"
      },
      "outputs": [
        {
          "output_type": "stream",
          "name": "stdout",
          "text": [
            "Requirement already satisfied: plotly in /usr/local/lib/python3.7/dist-packages (5.5.0)\n",
            "Requirement already satisfied: tenacity>=6.2.0 in /usr/local/lib/python3.7/dist-packages (from plotly) (8.0.1)\n",
            "Requirement already satisfied: six in /usr/local/lib/python3.7/dist-packages (from plotly) (1.15.0)\n",
            "Collecting pytrends\n",
            "  Downloading pytrends-4.8.0.tar.gz (19 kB)\n",
            "Requirement already satisfied: requests>=2.0 in /usr/local/lib/python3.7/dist-packages (from pytrends) (2.23.0)\n",
            "Requirement already satisfied: pandas>=0.25 in /usr/local/lib/python3.7/dist-packages (from pytrends) (1.3.5)\n",
            "Requirement already satisfied: lxml in /usr/local/lib/python3.7/dist-packages (from pytrends) (4.2.6)\n",
            "Requirement already satisfied: python-dateutil>=2.7.3 in /usr/local/lib/python3.7/dist-packages (from pandas>=0.25->pytrends) (2.8.2)\n",
            "Requirement already satisfied: numpy>=1.17.3 in /usr/local/lib/python3.7/dist-packages (from pandas>=0.25->pytrends) (1.21.5)\n",
            "Requirement already satisfied: pytz>=2017.3 in /usr/local/lib/python3.7/dist-packages (from pandas>=0.25->pytrends) (2018.9)\n",
            "Requirement already satisfied: six>=1.5 in /usr/local/lib/python3.7/dist-packages (from python-dateutil>=2.7.3->pandas>=0.25->pytrends) (1.15.0)\n",
            "Requirement already satisfied: chardet<4,>=3.0.2 in /usr/local/lib/python3.7/dist-packages (from requests>=2.0->pytrends) (3.0.4)\n",
            "Requirement already satisfied: urllib3!=1.25.0,!=1.25.1,<1.26,>=1.21.1 in /usr/local/lib/python3.7/dist-packages (from requests>=2.0->pytrends) (1.24.3)\n",
            "Requirement already satisfied: certifi>=2017.4.17 in /usr/local/lib/python3.7/dist-packages (from requests>=2.0->pytrends) (2021.10.8)\n",
            "Requirement already satisfied: idna<3,>=2.5 in /usr/local/lib/python3.7/dist-packages (from requests>=2.0->pytrends) (2.10)\n",
            "Building wheels for collected packages: pytrends\n",
            "  Building wheel for pytrends (setup.py) ... \u001b[?25l\u001b[?25hdone\n",
            "  Created wheel for pytrends: filename=pytrends-4.8.0-py3-none-any.whl size=16126 sha256=af2eb714b035c5b60d58ca6ebafcb57afbd725327970ad71af5eb838a211cea4\n",
            "  Stored in directory: /root/.cache/pip/wheels/07/6f/5c/8174f98dec1bfbc7d5da4092854afcbcff4b26c3d9b66b5183\n",
            "Successfully built pytrends\n",
            "Installing collected packages: pytrends\n",
            "Successfully installed pytrends-4.8.0\n",
            "Collecting pycoingecko\n",
            "  Downloading pycoingecko-2.2.0-py3-none-any.whl (8.3 kB)\n",
            "Requirement already satisfied: requests in /usr/local/lib/python3.7/dist-packages (from pycoingecko) (2.23.0)\n",
            "Requirement already satisfied: urllib3!=1.25.0,!=1.25.1,<1.26,>=1.21.1 in /usr/local/lib/python3.7/dist-packages (from requests->pycoingecko) (1.24.3)\n",
            "Requirement already satisfied: certifi>=2017.4.17 in /usr/local/lib/python3.7/dist-packages (from requests->pycoingecko) (2021.10.8)\n",
            "Requirement already satisfied: chardet<4,>=3.0.2 in /usr/local/lib/python3.7/dist-packages (from requests->pycoingecko) (3.0.4)\n",
            "Requirement already satisfied: idna<3,>=2.5 in /usr/local/lib/python3.7/dist-packages (from requests->pycoingecko) (2.10)\n",
            "Installing collected packages: pycoingecko\n",
            "Successfully installed pycoingecko-2.2.0\n",
            "Requirement already satisfied: pandas in /usr/local/lib/python3.7/dist-packages (1.3.5)\n",
            "Requirement already satisfied: numpy>=1.17.3 in /usr/local/lib/python3.7/dist-packages (from pandas) (1.21.5)\n",
            "Requirement already satisfied: python-dateutil>=2.7.3 in /usr/local/lib/python3.7/dist-packages (from pandas) (2.8.2)\n",
            "Requirement already satisfied: pytz>=2017.3 in /usr/local/lib/python3.7/dist-packages (from pandas) (2018.9)\n",
            "Requirement already satisfied: six>=1.5 in /usr/local/lib/python3.7/dist-packages (from python-dateutil>=2.7.3->pandas) (1.15.0)\n",
            "Requirement already satisfied: tweepy in /usr/local/lib/python3.7/dist-packages (3.10.0)\n",
            "Requirement already satisfied: requests[socks]>=2.11.1 in /usr/local/lib/python3.7/dist-packages (from tweepy) (2.23.0)\n",
            "Requirement already satisfied: requests-oauthlib>=0.7.0 in /usr/local/lib/python3.7/dist-packages (from tweepy) (1.3.1)\n",
            "Requirement already satisfied: six>=1.10.0 in /usr/local/lib/python3.7/dist-packages (from tweepy) (1.15.0)\n",
            "Requirement already satisfied: oauthlib>=3.0.0 in /usr/local/lib/python3.7/dist-packages (from requests-oauthlib>=0.7.0->tweepy) (3.2.0)\n",
            "Requirement already satisfied: certifi>=2017.4.17 in /usr/local/lib/python3.7/dist-packages (from requests[socks]>=2.11.1->tweepy) (2021.10.8)\n",
            "Requirement already satisfied: idna<3,>=2.5 in /usr/local/lib/python3.7/dist-packages (from requests[socks]>=2.11.1->tweepy) (2.10)\n",
            "Requirement already satisfied: chardet<4,>=3.0.2 in /usr/local/lib/python3.7/dist-packages (from requests[socks]>=2.11.1->tweepy) (3.0.4)\n",
            "Requirement already satisfied: urllib3!=1.25.0,!=1.25.1,<1.26,>=1.21.1 in /usr/local/lib/python3.7/dist-packages (from requests[socks]>=2.11.1->tweepy) (1.24.3)\n",
            "Requirement already satisfied: PySocks!=1.5.7,>=1.5.6 in /usr/local/lib/python3.7/dist-packages (from requests[socks]>=2.11.1->tweepy) (1.7.1)\n",
            "Requirement already satisfied: requests in /usr/local/lib/python3.7/dist-packages (2.23.0)\n",
            "Requirement already satisfied: chardet<4,>=3.0.2 in /usr/local/lib/python3.7/dist-packages (from requests) (3.0.4)\n",
            "Requirement already satisfied: urllib3!=1.25.0,!=1.25.1,<1.26,>=1.21.1 in /usr/local/lib/python3.7/dist-packages (from requests) (1.24.3)\n",
            "Requirement already satisfied: certifi>=2017.4.17 in /usr/local/lib/python3.7/dist-packages (from requests) (2021.10.8)\n",
            "Requirement already satisfied: idna<3,>=2.5 in /usr/local/lib/python3.7/dist-packages (from requests) (2.10)\n",
            "Requirement already satisfied: pycoingecko in /usr/local/lib/python3.7/dist-packages (2.2.0)\n",
            "Requirement already satisfied: requests in /usr/local/lib/python3.7/dist-packages (from pycoingecko) (2.23.0)\n",
            "Requirement already satisfied: chardet<4,>=3.0.2 in /usr/local/lib/python3.7/dist-packages (from requests->pycoingecko) (3.0.4)\n",
            "Requirement already satisfied: idna<3,>=2.5 in /usr/local/lib/python3.7/dist-packages (from requests->pycoingecko) (2.10)\n",
            "Requirement already satisfied: certifi>=2017.4.17 in /usr/local/lib/python3.7/dist-packages (from requests->pycoingecko) (2021.10.8)\n",
            "Requirement already satisfied: urllib3!=1.25.0,!=1.25.1,<1.26,>=1.21.1 in /usr/local/lib/python3.7/dist-packages (from requests->pycoingecko) (1.24.3)\n"
          ]
        }
      ],
      "source": [
        "#@title Install Libraries { display-mode: \"code\" }\n",
        "!pip install plotly\n",
        "!pip install pytrends\n",
        "!pip install pycoingecko\n",
        "!pip install pandas\n",
        "!pip install tweepy\n",
        "!pip install requests\n",
        "!pip install pycoingecko"
      ]
    },
    {
      "cell_type": "code",
      "execution_count": 3,
      "metadata": {
        "colab": {
          "base_uri": "https://localhost:8080/"
        },
        "id": "1FQQUlZrXyqN",
        "outputId": "99f39e3f-059e-4315-a8f6-3556f8206689"
      },
      "outputs": [
        {
          "output_type": "stream",
          "name": "stdout",
          "text": [
            "Stats: \n",
            "<class 'pandas.core.frame.DataFrame'>\n",
            "RangeIndex: 13503 entries, 0 to 13502\n",
            "Data columns (total 3 columns):\n",
            " #   Column  Non-Null Count  Dtype \n",
            "---  ------  --------------  ----- \n",
            " 0   id      13503 non-null  object\n",
            " 1   symbol  13503 non-null  object\n",
            " 2   name    13503 non-null  object\n",
            "dtypes: object(3)\n",
            "memory usage: 316.6+ KB\n",
            "None\n",
            "id        0\n",
            "symbol    0\n",
            "name      0\n",
            "dtype: int64\n",
            "            id symbol    name\n",
            "count    13503  13503   13503\n",
            "unique   13503  11224   13503\n",
            "top     01coin   meta  01coin\n",
            "freq         1     11       1\n"
          ]
        }
      ],
      "source": [
        "#@title Available Coins { display-mode: \"code\" }\n",
        "import requests\n",
        "import datetime\n",
        "import time\n",
        "import json\n",
        "from google.colab import data_table\n",
        "import plotly.graph_objects as go\n",
        "import pandas as pd\n",
        "import matplotlib.pyplot as plt\n",
        "from pandas.io.json import json_normalize\n",
        "\n",
        "#General Information table\n",
        "\n",
        "def coins_stats(url):\n",
        "    \"\"\"\n",
        "    Generates a list of the coins on CoinGecko\n",
        "    Args: url of the CoinGecko website\n",
        "\n",
        "    \"\"\"\n",
        "    frames = []\n",
        "    response = requests.get(url)\n",
        "    data = response.json()\n",
        "\n",
        "    \n",
        "    token_list = pd.DataFrame(data)\n",
        "\n",
        "    print('Stats: ')\n",
        "    print(token_list.info(verbose=True))\n",
        "    print(token_list.isnull().sum())\n",
        "    print(token_list.describe())\n",
        "   \n",
        "    return token_list \n",
        "\n",
        "\n",
        "def main():\n",
        "  url = \"https://api.coingecko.com/api/v3/coins/list\"\n",
        "\n",
        "  coins_stats(url)\n",
        "  \n",
        "\n",
        "if __name__ == \"__main__\":\n",
        "    main()"
      ]
    },
    {
      "cell_type": "markdown",
      "source": [
        ""
      ],
      "metadata": {
        "id": "rdMwdldF6fIF"
      }
    },
    {
      "cell_type": "markdown",
      "source": [
        "#  Price & Markets Data\n",
        "\n",
        "CoinGecko website seems not to work for this query, check later"
      ],
      "metadata": {
        "id": "p0ETtcB02Mlv"
      }
    },
    {
      "cell_type": "code",
      "source": [
        "#@title  Bulk Download { display-mode: \"code\" }\n",
        "import requests\n",
        "import datetime\n",
        "import time\n",
        "import json\n",
        "from google.colab import data_table\n",
        "import plotly.graph_objects as go\n",
        "import pandas as pd\n",
        "import matplotlib.pyplot as plt\n",
        "from pandas.io.json import json_normalize\n",
        "import logging\n",
        "import sys\n",
        "from tqdm.notebook import tqdm\n",
        "\n",
        "#Extract token list\n",
        "url = \"https://api.coingecko.com/api/v3/coins/list\"\n",
        "frames = []\n",
        "response = requests.get(url)\n",
        "data = response.json()\n",
        "token_list = pd.DataFrame(data)\n",
        "\n",
        " #suppressing carriers\n",
        "id = token_list.id\n",
        "currency = 'usd'\n",
        "Horizon = 'max'\n",
        "\n",
        "\n",
        "#loop  prices extraction to token list\n",
        "try:\n",
        "\n",
        "  start = 0\n",
        "  ends =   100\n",
        "\n",
        "  for i in id[start : ends]:\n",
        "\n",
        "    response = requests.get(\"https://api.coingecko.com/api/v3/coins/%20{}/market_chart?vs_currency={}&days={}\".format(i,currency,Horizon))\n",
        "    output = response.text\n",
        "    json_parsed = json.loads(output)\n",
        "    \n",
        "    \n",
        "    #Convert data to list of dataframes\n",
        "    full_table = pd.json_normalize(json_parsed)       \n",
        "    full_table['id'] = i\n",
        "    #full_table.loc(i)\n",
        "    frames.append(full_table)\n",
        "\n",
        "    print('downloading data for token: ' + str(i))\n",
        "\n",
        "    time.sleep(60/50)\n",
        "    #Status report\n",
        "    \n",
        "except ConnectionError:\n",
        "    time.sleep(60)\n",
        " \n",
        "single = pd.concat(frames) #Careful, this line must be outside of the for loop\n",
        "df = single\n",
        "\n",
        "print(single)\n",
        "\n",
        "path = \"/content/drive/MyDrive/workspace/pipelines/datasets/coingecko/coingecko-coin-list/output\"\n",
        "\n",
        "single.to_csv( path + 'CoinGecko_price_markets.csv')\n",
        "\n",
        "\n"
      ],
      "metadata": {
        "colab": {
          "base_uri": "https://localhost:8080/",
          "height": 321
        },
        "id": "MPJ9fPq23xIA",
        "outputId": "20b958c5-0445-4038-eb91-490ddb23b220"
      },
      "execution_count": 11,
      "outputs": [
        {
          "output_type": "stream",
          "name": "stdout",
          "text": [
            "downloading data for token: 01coin\n",
            "downloading data for token: 0-5x-long-algorand-token\n",
            "downloading data for token: 0-5x-long-altcoin-index-token\n",
            "downloading data for token: 0-5x-long-ascendex-token-token\n",
            "downloading data for token: 0-5x-long-bitcoin-cash-token\n"
          ]
        },
        {
          "output_type": "error",
          "ename": "KeyboardInterrupt",
          "evalue": "ignored",
          "traceback": [
            "\u001b[0;31m---------------------------------------------------------------------------\u001b[0m",
            "\u001b[0;31mKeyboardInterrupt\u001b[0m                         Traceback (most recent call last)",
            "\u001b[0;32m<ipython-input-11-d1b2035e84aa>\u001b[0m in \u001b[0;36m<module>\u001b[0;34m()\u001b[0m\n\u001b[1;32m     47\u001b[0m     \u001b[0mprint\u001b[0m\u001b[0;34m(\u001b[0m\u001b[0;34m'downloading data for token: '\u001b[0m \u001b[0;34m+\u001b[0m \u001b[0mstr\u001b[0m\u001b[0;34m(\u001b[0m\u001b[0mi\u001b[0m\u001b[0;34m)\u001b[0m\u001b[0;34m)\u001b[0m\u001b[0;34m\u001b[0m\u001b[0;34m\u001b[0m\u001b[0m\n\u001b[1;32m     48\u001b[0m \u001b[0;34m\u001b[0m\u001b[0m\n\u001b[0;32m---> 49\u001b[0;31m     \u001b[0mtime\u001b[0m\u001b[0;34m.\u001b[0m\u001b[0msleep\u001b[0m\u001b[0;34m(\u001b[0m\u001b[0;36m60\u001b[0m\u001b[0;34m/\u001b[0m\u001b[0;36m50\u001b[0m\u001b[0;34m)\u001b[0m\u001b[0;34m\u001b[0m\u001b[0;34m\u001b[0m\u001b[0m\n\u001b[0m\u001b[1;32m     50\u001b[0m     \u001b[0;31m#Status report\u001b[0m\u001b[0;34m\u001b[0m\u001b[0;34m\u001b[0m\u001b[0;34m\u001b[0m\u001b[0m\n\u001b[1;32m     51\u001b[0m \u001b[0;34m\u001b[0m\u001b[0m\n",
            "\u001b[0;31mKeyboardInterrupt\u001b[0m: "
          ]
        }
      ]
    },
    {
      "cell_type": "markdown",
      "source": [
        "# Close Prices"
      ],
      "metadata": {
        "id": "PQ-TSlj1ycyD"
      }
    },
    {
      "cell_type": "code",
      "execution_count": null,
      "metadata": {
        "id": "tGLfFtemYNAY"
      },
      "outputs": [],
      "source": [
        "PS:#@title  Bulk Download { display-mode: \"code\" }\n",
        "import requests\n",
        "import datetime\n",
        "import time\n",
        "import json\n",
        "from google.colab import data_table\n",
        "import plotly.graph_objects as go\n",
        "import pandas as pd\n",
        "import matplotlib.pyplot as plt\n",
        "from pandas.io.json import json_normalize\n",
        "import logging\n",
        "import sys\n",
        "from tqdm.notebook import tqdm\n",
        "\n",
        "#Extract token list\n",
        "url = \"https://api.coingecko.com/api/v3/coins/list\"\n",
        "frames = []\n",
        "response = requests.get(url)\n",
        "data = response.json()\n",
        "token_list = pd.DataFrame(data)\n",
        "\n",
        " #suppressing carriers\n",
        "id = token_list.id\n",
        "currency = 'usd'\n",
        "Horizon = 'max'\n",
        "\n",
        "#loop  prices extraction to token list\n",
        "try:\n",
        "\n",
        "  start = 0\n",
        "  ends =   100\n",
        "\n",
        "  for i in id[start : ends]:\n",
        "\n",
        "    response = requests.get(\"https://api.coingecko.com/api/v3/coins/{}/market_chart?vs_currency={}&days={}\".format(i,currency,Horizon))\n",
        "    output = response.text\n",
        "    json_parsed = json.loads(output)\n",
        "    \n",
        "\n",
        "    #Convert data to list of dataframes\n",
        "    full_table = pd.json_normalize(json_parsed)       \n",
        "    full_table['id'] = i\n",
        "    #full_table.loc(i)\n",
        "    frames.append(full_table)\n",
        "    print(full_table.head(1))\n",
        "    #Slow down requestslo\n",
        "\n",
        "    time.sleep(60/50)\n",
        "    #Status report\n",
        "    logging.info('Page '+ str(i) + ' – Rows ' + ' – source: '+ str(url))\n",
        "except ConnectionError:\n",
        "    time.sleep(60)\n",
        " \n",
        "single = pd.concat(frames) #Careful, this line must be outside of the for loop\n",
        "df = single\n",
        "\n",
        "print(single)\n",
        "path = \"/content/drive/MyDrive/workspace/pipelines/datasets/coingecko/coingecko-coin-list/output\"\n",
        "\n",
        "single.to_csv( path + 'CoinGecko_price_list.csv')\n",
        "\n",
        "\n"
      ]
    },
    {
      "cell_type": "markdown",
      "source": [
        " # OHLC Prices \n",
        "\n",
        "\n",
        "Candlestick  body:\n",
        "\n",
        "1 - 2 days: 30 minutes\n",
        "3 - 30 days: 4 hours\n",
        "31 and before: 4 days"
      ],
      "metadata": {
        "id": "ju94nz1GtHOd"
      }
    },
    {
      "cell_type": "code",
      "source": [
        "#@title Bulk Download { display-mode: \"code\" }\n",
        "\n",
        "from google.colab import data_table\n",
        "from pycoingecko import CoinGeckoAPI\n",
        "import plotly.graph_objects as go\n",
        "import pandas as pd\n",
        "import matplotlib.pyplot as plt\n",
        "from pytrends.request import TrendReq\n",
        "from __future__ import division\n",
        "import requests\n",
        "import datetime\n",
        "import time\n",
        "import json\n",
        "\n",
        "#Extract token list\n",
        "url = \"https://api.coingecko.com/api/v3/coins/list\"\n",
        "frames = []\n",
        "response = requests.get(url)\n",
        "data = response.json()\n",
        "token_list = pd.DataFrame(data)\n",
        "\n",
        "cg = CoinGeckoAPI()\n",
        " #suppressing carriers\n",
        "id = token_list.id\n",
        "currency = 'usd'\n",
        "Horizon = 'max'\n",
        "\n",
        "#loop  prices extraction to token list\n",
        "\n",
        "\n",
        "start = 0\n",
        "ends =   100\n",
        "frames = []\n",
        "try:\n",
        "  for i in id[start : ends]:\n",
        "  #Chart\n",
        "    a = cg.get_coin_ohlc_by_id(id=i, vs_currency=currency, days = Horizon)\n",
        "\n",
        "    df = pd.DataFrame(data=a, columns = ['Date','Open','High', 'Low', 'Close'])\n",
        "\n",
        "    \n",
        "    df['id'] = i\n",
        "      #full_table.loc(i)\n",
        "    frames.append(df)\n",
        "    print(df.head( 1))\n",
        "      #Slow down requestsloc\n",
        "\n",
        "    time.sleep(60/50)\n",
        "      #Status report\n",
        "\n",
        "except ConnectionError:\n",
        "    time.sleep(60)\n",
        " \n",
        "single = pd.concat(frames) #Careful, this line must be outside of the for loop\n",
        "\n",
        "    \n",
        "path = \"/content/drive/MyDrive/workspace/pipelines/datasets/coingecko/coingecko-coin-list/output\"\n",
        "\n",
        "single.to_csv( path + 'CoinGecko_ohlc_timeseries.csv')\n"
      ],
      "metadata": {
        "id": "pj8E8ESDp8Sg"
      },
      "execution_count": null,
      "outputs": []
    },
    {
      "cell_type": "code",
      "source": [
        "#@title Generate  Charts { display-mode: \"code\" }\n",
        "\n",
        "from google.colab import data_table\n",
        "from pycoingecko import CoinGeckoAPI\n",
        "import plotly.graph_objects as go\n",
        "import pandas as pd\n",
        "import matplotlib.pyplot as plt\n",
        "from pytrends.request import TrendReq\n",
        "from __future__ import division\n",
        "\n",
        "\n",
        "import requests\n",
        "import datetime\n",
        "import time\n",
        "import json\n",
        "\n",
        "#Extract token list\n",
        "url = \"https://api.coingecko.com/api/v3/coins/list\"\n",
        "frames = []\n",
        "response = requests.get(url)\n",
        "data = response.json()\n",
        "token_list = pd.DataFrame(data)\n",
        "\n",
        "cg = CoinGeckoAPI()\n",
        " #suppressing carriers\n",
        "id = token_list.id\n",
        "currency = 'usd'\n",
        "Horizon = 'max'\n",
        "\n",
        "#loop  prices extraction to token list\n",
        "\n",
        "\n",
        "start = 0\n",
        "ends =   100\n",
        "\n",
        "for i in id[start : ends]:\n",
        "#Chart\n",
        "    a = cg.get_coin_ohlc_by_id(id=i, vs_currency=currency, days = Horizon)\n",
        "\n",
        "    df = pd.DataFrame(data=a, columns = ['Date','Open','High', 'Low', 'Close'])\n",
        "\n",
        "    fig2 = go.Figure(data=[go.Candlestick(x=df['Date'],open=df['Open'], high=df['High'],low=df['Low'], close=df['Close'])])\n",
        "                          \n",
        "    fig2.show()\n",
        "    \n"
      ],
      "metadata": {
        "id": "_QVbyvNsu1_f"
      },
      "execution_count": null,
      "outputs": []
    },
    {
      "cell_type": "markdown",
      "source": [
        ""
      ],
      "metadata": {
        "id": "JOdTgHk2uwYP"
      }
    },
    {
      "cell_type": "code",
      "execution_count": null,
      "metadata": {
        "id": "fdbY0UjyrH4K"
      },
      "outputs": [],
      "source": [
        "import numpy as np\n",
        "import pandas as pd\n",
        "\n",
        "frames=[]\n",
        "\n",
        "for rows in single['id']:\n",
        "  for i in single['prices']:\n",
        "      \n",
        "    df = pd.DataFrame(i,columns = ['date','price'], index = None)\n",
        "    df['id'] = rows\n",
        "\n",
        "  frames.append(df)\n",
        "\n",
        "combined = pd.concat(frames)\n",
        "\n",
        "tokens = len(combined['id'].unique())\n",
        "\n",
        "\n",
        "path = \"/content/drive/MyDrive/workspace/pipelines/datasets/coingecko/coingecko-coin-list/output\"\n",
        "\n",
        "combined.to_csv(path+'/CoinGecko_prices.csv')\n",
        "\n",
        "combined.info()\n",
        "\n",
        "print('REPORT ')\n",
        "print('Tokens total: '+ str(tokens))"
      ]
    },
    {
      "cell_type": "code",
      "execution_count": null,
      "metadata": {
        "id": "3VSCSeqc7FKJ"
      },
      "outputs": [],
      "source": [
        "combined.head()"
      ]
    },
    {
      "cell_type": "code",
      "execution_count": null,
      "metadata": {
        "id": "J3k6pLMm7wJa"
      },
      "outputs": [],
      "source": [
        "combined.describe()"
      ]
    }
  ],
  "metadata": {
    "colab": {
      "collapsed_sections": [],
      "name": "CoinGecko_price.ipynb",
      "provenance": [],
      "toc_visible": true,
      "authorship_tag": "ABX9TyOtcFYRcpfr3yzkh/rAur1y",
      "include_colab_link": true
    },
    "kernelspec": {
      "display_name": "Python 3",
      "name": "python3"
    },
    "language_info": {
      "name": "python"
    }
  },
  "nbformat": 4,
  "nbformat_minor": 0
}