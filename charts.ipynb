{
  "nbformat": 4,
  "nbformat_minor": 0,
  "metadata": {
    "colab": {
      "name": "charts.ipynb",
      "provenance": [],
      "collapsed_sections": [],
      "toc_visible": true,
      "authorship_tag": "ABX9TyO/Pc4ZCKpTqSifPlVIrZHH",
      "include_colab_link": true
    },
    "kernelspec": {
      "name": "python3",
      "display_name": "Python 3"
    },
    "language_info": {
      "name": "python"
    }
  },
  "cells": [
    {
      "cell_type": "markdown",
      "metadata": {
        "id": "view-in-github",
        "colab_type": "text"
      },
      "source": [
        "<a href=\"https://colab.research.google.com/github/charlesdery/CoinGeckoAPI/blob/main/charts.ipynb\" target=\"_parent\"><img src=\"https://colab.research.google.com/assets/colab-badge.svg\" alt=\"Open In Colab\"/></a>"
      ]
    },
    {
      "cell_type": "markdown",
      "metadata": {
        "id": "3_rFSz85Oj3u"
      },
      "source": [
        "#Install Environment & Dependencies"
      ]
    },
    {
      "cell_type": "code",
      "metadata": {
        "colab": {
          "base_uri": "https://localhost:8080/"
        },
        "id": "5m4_0fgAPIA4",
        "cellView": "form",
        "outputId": "646502b6-182b-425a-a1fa-aa1591513e0c"
      },
      "source": [
        "#@title\n",
        "!pip install datetime\n",
        "!pip install pytrends\n",
        "!pip install pycoingecko\n",
        "!pip install requests\n",
        "#!pip install json\n",
        "%load_ext google.colab.data_table"
      ],
      "execution_count": 15,
      "outputs": [
        {
          "output_type": "stream",
          "name": "stdout",
          "text": [
            "Requirement already satisfied: datetime in /usr/local/lib/python3.7/dist-packages (4.3)\n",
            "Requirement already satisfied: zope.interface in /usr/local/lib/python3.7/dist-packages (from datetime) (5.4.0)\n",
            "Requirement already satisfied: pytz in /usr/local/lib/python3.7/dist-packages (from datetime) (2018.9)\n",
            "Requirement already satisfied: setuptools in /usr/local/lib/python3.7/dist-packages (from zope.interface->datetime) (57.4.0)\n",
            "Requirement already satisfied: pytrends in /usr/local/lib/python3.7/dist-packages (4.7.3)\n",
            "Requirement already satisfied: requests in /usr/local/lib/python3.7/dist-packages (from pytrends) (2.23.0)\n",
            "Requirement already satisfied: pandas>=0.25 in /usr/local/lib/python3.7/dist-packages (from pytrends) (1.1.5)\n",
            "Requirement already satisfied: lxml in /usr/local/lib/python3.7/dist-packages (from pytrends) (4.2.6)\n",
            "Requirement already satisfied: pytz>=2017.2 in /usr/local/lib/python3.7/dist-packages (from pandas>=0.25->pytrends) (2018.9)\n",
            "Requirement already satisfied: python-dateutil>=2.7.3 in /usr/local/lib/python3.7/dist-packages (from pandas>=0.25->pytrends) (2.8.2)\n",
            "Requirement already satisfied: numpy>=1.15.4 in /usr/local/lib/python3.7/dist-packages (from pandas>=0.25->pytrends) (1.19.5)\n",
            "Requirement already satisfied: six>=1.5 in /usr/local/lib/python3.7/dist-packages (from python-dateutil>=2.7.3->pandas>=0.25->pytrends) (1.15.0)\n",
            "Requirement already satisfied: chardet<4,>=3.0.2 in /usr/local/lib/python3.7/dist-packages (from requests->pytrends) (3.0.4)\n",
            "Requirement already satisfied: certifi>=2017.4.17 in /usr/local/lib/python3.7/dist-packages (from requests->pytrends) (2021.5.30)\n",
            "Requirement already satisfied: idna<3,>=2.5 in /usr/local/lib/python3.7/dist-packages (from requests->pytrends) (2.10)\n",
            "Requirement already satisfied: urllib3!=1.25.0,!=1.25.1,<1.26,>=1.21.1 in /usr/local/lib/python3.7/dist-packages (from requests->pytrends) (1.24.3)\n",
            "Requirement already satisfied: pycoingecko in /usr/local/lib/python3.7/dist-packages (2.2.0)\n",
            "Requirement already satisfied: requests in /usr/local/lib/python3.7/dist-packages (from pycoingecko) (2.23.0)\n",
            "Requirement already satisfied: idna<3,>=2.5 in /usr/local/lib/python3.7/dist-packages (from requests->pycoingecko) (2.10)\n",
            "Requirement already satisfied: urllib3!=1.25.0,!=1.25.1,<1.26,>=1.21.1 in /usr/local/lib/python3.7/dist-packages (from requests->pycoingecko) (1.24.3)\n",
            "Requirement already satisfied: chardet<4,>=3.0.2 in /usr/local/lib/python3.7/dist-packages (from requests->pycoingecko) (3.0.4)\n",
            "Requirement already satisfied: certifi>=2017.4.17 in /usr/local/lib/python3.7/dist-packages (from requests->pycoingecko) (2021.5.30)\n",
            "Requirement already satisfied: requests in /usr/local/lib/python3.7/dist-packages (2.23.0)\n",
            "Requirement already satisfied: chardet<4,>=3.0.2 in /usr/local/lib/python3.7/dist-packages (from requests) (3.0.4)\n",
            "Requirement already satisfied: idna<3,>=2.5 in /usr/local/lib/python3.7/dist-packages (from requests) (2.10)\n",
            "Requirement already satisfied: urllib3!=1.25.0,!=1.25.1,<1.26,>=1.21.1 in /usr/local/lib/python3.7/dist-packages (from requests) (1.24.3)\n",
            "Requirement already satisfied: certifi>=2017.4.17 in /usr/local/lib/python3.7/dist-packages (from requests) (2021.5.30)\n",
            "The google.colab.data_table extension is already loaded. To reload it, use:\n",
            "  %reload_ext google.colab.data_table\n"
          ]
        }
      ]
    },
    {
      "cell_type": "markdown",
      "metadata": {
        "id": "_osLrU5Dxtro"
      },
      "source": [
        "#Import Portfolio Data\n"
      ]
    },
    {
      "cell_type": "code",
      "metadata": {
        "id": "s6wlCPcgxzZq"
      },
      "source": [
        "#@title\n"
      ],
      "execution_count": 16,
      "outputs": []
    },
    {
      "cell_type": "markdown",
      "metadata": {
        "id": "sDymunfdxzyI"
      },
      "source": [
        "#Generate Charts"
      ]
    },
    {
      "cell_type": "code",
      "metadata": {
        "colab": {
          "base_uri": "https://localhost:8080/",
          "height": 1000
        },
        "id": "RXXmxRkFjWn_",
        "outputId": "56fcea26-dbe8-42c7-89fb-ed9090791902"
      },
      "source": [
        "#@title ok { display-mode: \"code\" }\n",
        "import requests\n",
        "import datetime\n",
        "import time\n",
        "import json\n",
        "from google.colab import data_table\n",
        "from pycoingecko import CoinGeckoAPI\n",
        "import plotly.graph_objects as go\n",
        "import pandas as pd\n",
        "import matplotlib.pyplot as plt\n",
        "from pytrends.request import TrendReq\n",
        "\n",
        "\n",
        "cg = CoinGeckoAPI()\n",
        "lost = ['bitcoin','sushi']\n",
        "##lost = ['bitcoin','ethereum','sushi','aave','index-cooperative','uniswap','lido-dao','bankless-dao']\n",
        "df = {}\n",
        "\n",
        "for i in lost:\n",
        "  print('')   \n",
        "  print('')  \n",
        "\n",
        "  print(i)\n",
        "  print('___________________________________________________________________________')   \n",
        "  print('') \n",
        "\n",
        "  time.sleep(1)\n",
        "\n",
        "  #General Information table\n",
        "  response = requests.get(\"https://api.coingecko.com/api/v3/coins/{}\".format(i))\n",
        "  output = response.text\n",
        "  json_parsed = json.loads(output)\n",
        "\n",
        "\n",
        "  \n",
        "\n",
        "  print('')  \n",
        "  print('MARKET DATA')  \n",
        "\n",
        "  market_cap = json_parsed['market_data']['market_cap']['usd']\n",
        "  circulating_supply = json_parsed['market_data']['circulating_supply']\n",
        "  current_price = json_parsed['market_data']['current_price']['usd']\n",
        "  fdv_to_tvl_ratio = json_parsed['market_data']['fdv_to_tvl_ratio'] \n",
        "  fully_diluted_valuation = json_parsed['market_data']['fully_diluted_valuation']['usd']\n",
        "  max_supply = json_parsed['market_data']['max_supply'] \n",
        "  mcap_to_tvl_ratio = json_parsed['market_data']['mcap_to_tvl_ratio']\n",
        "  total_supply = json_parsed['market_data']['total_supply']\n",
        "  total_value_locked = json_parsed['market_data']['total_value_locked']\n",
        "  total_volume = json_parsed['market_data']['total_volume']['usd']\n",
        "\n",
        "  #Charlescustom\n",
        "  \n",
        "  dollar_volume_rotation  = total_volume / market_cap\n",
        "  supply_expansion_multiple = max_supply/circulating_supply\n",
        "  circulating_versus_max = circulating_supply/max_supply\n",
        "  market_cap_dilution_ratio =  fully_diluted_valuation / market_cap\n",
        "  \n",
        "  dict_custom = {}\n",
        "  dict_custom ['dollar_volume_rotation'] = dollar_volume_rotation\n",
        "  dict_custom ['supply_expansion_multiple'] = supply_expansion_multiple\n",
        "  dict_custom ['circulating_versus_max'] = circulating_versus_max\n",
        "  dict_custom ['market_cap_dilution_ratio'] = market_cap_dilution_ratio\n",
        "  print(dict_custom )\n",
        "\n",
        "\n",
        "  print(volume_rotation)\n",
        "\n",
        "  dict = {}\n",
        "  dict['market_cap'] = market_cap\n",
        "  dict['circulating_supply'] = circulating_supply\n",
        "  dict['current_price'] = current_price\n",
        "  dict['fdv_to_tvl_ratio'] = fdv_to_tvl_ratio\n",
        "  dict['fully_diluted_valuation'] = fully_diluted_valuation\n",
        "  dict['max_supply'] = max_supply\n",
        "  dict['mcap_to_tvl_ratio'] = mcap_to_tvl_ratio\n",
        "  dict['total_supply'] = total_supply\n",
        "  dict['total_value_locked'] = total_value_locked\n",
        "  dict['mcap_to_tvl_ratio'] = mcap_to_tvl_ratio\n",
        "  dict['total_volume'] = total_volume\n",
        "\n",
        "\n",
        "  print(dict)\n",
        "\n",
        "\n",
        "\n",
        "\n",
        "  print('          ')  \n",
        "  print('PRICE ACTION')  \n",
        "  price_change_percentage_7d = json_parsed['market_data']['price_change_percentage_7d']\n",
        "  price_change_percentage_14d = json_parsed['market_data']['price_change_percentage_14d']\n",
        "  price_change_percentage_30d = json_parsed['market_data']['price_change_percentage_30d']\n",
        "  price_change_percentage_60d = json_parsed['market_data']['price_change_percentage_60d']\n",
        "  price_change_percentage_200d = json_parsed['market_data']['price_change_percentage_200d']\n",
        "  price_change_percentage_1y = json_parsed['market_data']['price_change_percentage_1y']\n",
        "\n",
        "\n",
        "\n",
        "  dict_return = {}\n",
        "  dict_return['price_change_percentage_7d'] = price_change_percentage_7d\n",
        "  dict_return['price_change_percentage_14d'] = price_change_percentage_14d\n",
        "  dict_return['price_change_percentage_30d'] = price_change_percentage_30d\n",
        "  dict_return['price_change_percentage_60d'] = price_change_percentage_60d\n",
        "  dict_return['price_change_percentage_200d'] = price_change_percentage_200d\n",
        "  dict_return['price_change_percentage_1y'] = price_change_percentage_1y\n",
        "  \n",
        "  print(dict_return)\n",
        "\n",
        "\n",
        "\n",
        "  category = json_parsed['categories']\n",
        "\n",
        "  print('')  \n",
        "  print('CATEGORIES')  \n",
        "  print(category)\n",
        "  \n",
        "  \n",
        "  \n",
        "  \n",
        "  community_data = json_parsed['community_data']\n",
        "\n",
        "  df_community_data = pd.DataFrame(data=community_data, index=[0])\n",
        "  #pd.set_option(\"display.max_rows\", None, \"display.max_columns\", None)\n",
        "  print('')  \n",
        "  print('COMMUNITY DATA')\n",
        "  print(df_community_data)\n",
        "\n",
        "  from google.colab import data_table\n",
        "  data_table.DataTable(df_community_data)\n",
        "  \n",
        "  community_score = json_parsed['community_score']\n",
        "  \n",
        "  description  = [] \n",
        "  pd.set_option('display.width', 10)\n",
        "  pd.set_option(\"display.max_rows\", None, \"display.max_columns\", None)\n",
        "  description = json_parsed['description']['en']\n",
        "  \n",
        "  print('')  \n",
        "  print('DESCRIPTION: ')\n",
        "  print(description)\n",
        "\n",
        "  print('')  \n",
        "  print('DEVELOPER ACTIVITY')\n",
        "  developer_data = json_parsed['developer_data']\n",
        "  print(developer_data)\n",
        "  \n",
        "  genesis_date = json_parsed['genesis_date']\n",
        "  print('')\n",
        "  print('GENESIS DATE')\n",
        "  print(genesis_date)\n",
        "  \n",
        "  links = json_parsed['links']\n",
        "  \n",
        "  pd.set_option('display.width', 10)\n",
        "\n",
        "  print('')\n",
        "  print('WEB Links')\n",
        "  print(links)\n",
        "\n",
        "  #Status update\n",
        "\n",
        "  response = requests.get(\"https://api.coingecko.com/api/v3/coins/{}/status_updates\".format(i))\n",
        "  output = response.text\n",
        "  json_parsed = json.loads(output)\n",
        "  print('')\n",
        "  print('Recent updates: ')\n",
        "  print(json_parsed)\n",
        " # category = json_parsed['categories']\n",
        "\n",
        "  #Chart\n",
        "  a = cg.get_coin_ohlc_by_id(id=i, vs_currency='usd', days = 'max')\n",
        "  df = pd.DataFrame(data=a, columns = ['Date','Open','High', 'Low', 'Close'])\n",
        "  fig2 = go.Figure(data=[go.Candlestick(x=df['Date'],\n",
        "                  open=df['Open'], high=df['High'],\n",
        "                  low=df['Low'], close=df['Close'])\n",
        "                        ])\n",
        "  fig2.update_layout(\n",
        "      title=i,\n",
        "      yaxis_title='Spot Price',\n",
        "      shapes = [dict(\n",
        "        x0='2016-07-09', x1='2016-07-09', y0=0, y1=1, xref='x', yref='paper',\n",
        "        line_width=2)],\n",
        "      annotations=[dict(\n",
        "          x='2016-07-09', y=0.05, xref='x', yref='paper',\n",
        "          showarrow=False, xanchor='right', text='Event Description 1')]\n",
        "  )\n",
        "\n",
        "  fig2.show()\n",
        "\n",
        " # Only need to run this once, the rest of requests will use the same session.\n",
        "  pytrend = TrendReq()\n",
        "\n",
        "  # Create payload and capture API tokens. Only needed for interest_over_time(), interest_by_region() & related_queries()\n",
        "  pytrend.build_payload(kw_list=[i])\n",
        "\n",
        "  # Interest Over Time\n",
        "  interest_over_time_df = pytrend.interest_over_time()\n",
        "  df=interest_over_time_df\n",
        "\n",
        " #print(interest_over_time_df.tail(10))\n",
        "  # multiple line plot\n",
        "  # multiple line plot\n",
        "  plt.plot( i, 'y1', data=df, marker='x', color='blue',linestyle='-', linewidth=1,ms=1.5 )\n",
        "  \n",
        "  plt.legend()\n",
        "\n",
        "  # title\n",
        "  plt.title('Google Trends: '+i, loc='center',pad=10)\n",
        "  plt.show()\n",
        "  \n"
      ],
      "execution_count": 50,
      "outputs": [
        {
          "output_type": "stream",
          "name": "stdout",
          "text": [
            "\n",
            "\n",
            "bitcoin\n",
            "___________________________________________________________________________\n",
            "\n",
            "\n",
            "MARKET DATA\n",
            "{'dollar_volume_rotation': 0.03387559122501605, 'supply_expansion_multiple': 1.114408285551309, 'circulating_versus_max': 0.8973371904761904, 'market_cap_dilution_ratio': 1.1144082855516504}\n",
            "0.033365482881333716\n",
            "{'market_cap': 1122609505865, 'circulating_supply': 18844081.0, 'current_price': 59574, 'fdv_to_tvl_ratio': None, 'fully_diluted_valuation': 1251045334775, 'max_supply': 21000000.0, 'mcap_to_tvl_ratio': None, 'total_supply': 21000000.0, 'total_value_locked': None, 'total_volume': 38029060726}\n",
            "          \n",
            "PRICE ACTION\n",
            "{'price_change_percentage_7d': 10.53722, 'price_change_percentage_14d': 35.82878, 'price_change_percentage_30d': 26.38812, 'price_change_percentage_60d': 26.68492, 'price_change_percentage_200d': 6.90044, 'price_change_percentage_1y': 420.94976}\n",
            "\n",
            "CATEGORIES\n",
            "['Cryptocurrency']\n",
            "\n",
            "COMMUNITY DATA\n",
            "  facebook_likes  \\\n",
            "0           None   \n",
            "\n",
            "   twitter_followers  \\\n",
            "0            3400808   \n",
            "\n",
            "   reddit_average_posts_48h  \\\n",
            "0                     6.636   \n",
            "\n",
            "   reddit_average_comments_48h  \\\n",
            "0                     1195.091   \n",
            "\n",
            "   reddit_subscribers  \\\n",
            "0             3432713   \n",
            "\n",
            "   reddit_accounts_active_48h  \\\n",
            "0                        4764   \n",
            "\n",
            "  telegram_channel_user_count  \n",
            "0                        None  \n",
            "\n",
            "DESCRIPTION: \n",
            "Bitcoin is the first successful internet money based on peer-to-peer technology; whereby no central bank or authority is involved in the transaction and production of the Bitcoin currency. It was created by an anonymous individual/group under the name, Satoshi Nakamoto. The source code is available publicly as an open source project, anybody can look at it and be part of the developmental process.\n",
            "\n",
            "Bitcoin is changing the way we see money as we speak. The idea was to produce a means of exchange, independent of any central authority, that could be transferred electronically in a secure, verifiable and immutable way. It is a decentralized peer-to-peer internet currency making mobile payment easy, very low transaction fees, protects your identity, and it works anywhere all the time with no central authority and banks.\n",
            "\n",
            "Bitcoin is designed to have only 21 million BTC ever created, thus making it a deflationary currency. Bitcoin uses the <a href=\"https://www.coingecko.com/en?hashing_algorithm=SHA-256\">SHA-256</a> hashing algorithm with an average transaction confirmation time of 10 minutes. Miners today are mining Bitcoin using ASIC chip dedicated to only mining Bitcoin, and the hash rate has shot up to peta hashes.\n",
            "\n",
            "Being the first successful online cryptography currency, Bitcoin has inspired other alternative currencies such as <a href=\"https://www.coingecko.com/en/coins/litecoin\">Litecoin</a>, <a href=\"https://www.coingecko.com/en/coins/peercoin\">Peercoin</a>, <a href=\"https://www.coingecko.com/en/coins/primecoin\">Primecoin</a>, and so on.\n",
            "\n",
            "The cryptocurrency then took off with the innovation of the turing-complete smart contract by <a href=\"https://www.coingecko.com/en/coins/ethereum\">Ethereum</a> which led to the development of other amazing projects such as <a href=\"https://www.coingecko.com/en/coins/eos\">EOS</a>, <a href=\"https://www.coingecko.com/en/coins/tron\">Tron</a>, and even crypto-collectibles such as <a href=\"https://www.coingecko.com/buzz/ethereum-still-king-dapps-cryptokitties-need-1-billion-on-eos\">CryptoKitties</a>.\n",
            "\n",
            "DEVELOPER ACTIVITY\n",
            "{'forks': 30174, 'stars': 57805, 'subscribers': 3850, 'total_issues': 6519, 'closed_issues': 5905, 'pull_requests_merged': 9047, 'pull_request_contributors': 750, 'code_additions_deletions_4_weeks': {'additions': 3166, 'deletions': -1280}, 'commit_count_4_weeks': 358, 'last_4_weeks_commit_activity_series': [2, 11, 11, 3, 9, 12, 2, 2, 8, 16, 10, 6, 5, 0, 0, 7, 12, 7, 2, 3, 0, 0, 4, 3, 1, 0, 0, 0]}\n",
            "\n",
            "GENESIS DATE\n",
            "2009-01-03\n",
            "\n",
            "WEB Links\n",
            "{'homepage': ['http://www.bitcoin.org', '', ''], 'blockchain_site': ['https://blockchair.com/bitcoin/', 'https://btc.com/', 'https://btc.tokenview.com/', '', ''], 'official_forum_url': ['https://bitcointalk.org/', '', ''], 'chat_url': ['', '', ''], 'announcement_url': ['', ''], 'twitter_screen_name': 'bitcoin', 'facebook_username': 'bitcoins', 'bitcointalk_thread_identifier': None, 'telegram_channel_identifier': '', 'subreddit_url': 'https://www.reddit.com/r/Bitcoin/', 'repos_url': {'github': ['https://github.com/bitcoin/bitcoin', 'https://github.com/bitcoin/bips'], 'bitbucket': []}}\n",
            "\n",
            "Recent updates: \n",
            "{'status_updates': []}\n"
          ]
        },
        {
          "output_type": "error",
          "ename": "TypeError",
          "evalue": "ignored",
          "traceback": [
            "\u001b[0;31m---------------------------------------------------------------------------\u001b[0m",
            "\u001b[0;31mTypeError\u001b[0m                                 Traceback (most recent call last)",
            "\u001b[0;32m<ipython-input-50-986702a930f0>\u001b[0m in \u001b[0;36m<module>\u001b[0;34m()\u001b[0m\n\u001b[1;32m    179\u001b[0m       shapes = [dict(\n\u001b[1;32m    180\u001b[0m         \u001b[0mx0\u001b[0m\u001b[0;34m=\u001b[0m\u001b[0;34m'2016-07-09'\u001b[0m\u001b[0;34m,\u001b[0m \u001b[0mx1\u001b[0m\u001b[0;34m=\u001b[0m\u001b[0;34m'2016-07-09'\u001b[0m\u001b[0;34m,\u001b[0m \u001b[0my0\u001b[0m\u001b[0;34m=\u001b[0m\u001b[0;36m0\u001b[0m\u001b[0;34m,\u001b[0m \u001b[0my1\u001b[0m\u001b[0;34m=\u001b[0m\u001b[0;36m1\u001b[0m\u001b[0;34m,\u001b[0m \u001b[0mxref\u001b[0m\u001b[0;34m=\u001b[0m\u001b[0;34m'x'\u001b[0m\u001b[0;34m,\u001b[0m \u001b[0myref\u001b[0m\u001b[0;34m=\u001b[0m\u001b[0;34m'paper'\u001b[0m\u001b[0;34m,\u001b[0m\u001b[0;34m\u001b[0m\u001b[0;34m\u001b[0m\u001b[0m\n\u001b[0;32m--> 181\u001b[0;31m         line_width=2)],\n\u001b[0m\u001b[1;32m    182\u001b[0m       annotations=[dict(\n\u001b[1;32m    183\u001b[0m           \u001b[0mx\u001b[0m\u001b[0;34m=\u001b[0m\u001b[0;34m'2016-07-09'\u001b[0m\u001b[0;34m,\u001b[0m \u001b[0my\u001b[0m\u001b[0;34m=\u001b[0m\u001b[0;36m0.05\u001b[0m\u001b[0;34m,\u001b[0m \u001b[0mxref\u001b[0m\u001b[0;34m=\u001b[0m\u001b[0;34m'x'\u001b[0m\u001b[0;34m,\u001b[0m \u001b[0myref\u001b[0m\u001b[0;34m=\u001b[0m\u001b[0;34m'paper'\u001b[0m\u001b[0;34m,\u001b[0m\u001b[0;34m\u001b[0m\u001b[0;34m\u001b[0m\u001b[0m\n",
            "\u001b[0;31mTypeError\u001b[0m: 'dict' object is not callable"
          ]
        }
      ]
    },
    {
      "cell_type": "code",
      "metadata": {
        "id": "mIHRIouL2HMj"
      },
      "source": [
        "4.  4.  4.  tio"
      ],
      "execution_count": null,
      "outputs": []
    },
    {
      "cell_type": "markdown",
      "metadata": {
        "id": "Rahe1znJl6jT"
      },
      "source": [
        "#Bloomberg News"
      ]
    },
    {
      "cell_type": "code",
      "metadata": {
        "colab": {
          "base_uri": "https://localhost:8080/"
        },
        "id": "3m7qQNSKl4Ps",
        "outputId": "5f3d59e5-744b-49e0-ee51-89af75be0621"
      },
      "source": [
        "import requests\n",
        "\n",
        "url = \"https://bloomberg-market-and-financial-news.p.rapidapi.com/stories/detail\"\n",
        "\n",
        "querystring = {\"internalID\":\"QFY0Y6T0AFB501\"}\n",
        "\n",
        "headers = {\n",
        "    'x-rapidapi-host': \"bloomberg-market-and-financial-news.p.rapidapi.com\",\n",
        "    'x-rapidapi-key': \"b1b4bd118bmshefd135f483eb3cdp1118d5jsn053ee5adc4fe\"\n",
        "    }\n",
        "\n",
        "response = requests.request(\"GET\", url, headers=headers, params=querystring)\n",
        "\n",
        "print(response.text)"
      ],
      "execution_count": null,
      "outputs": [
        {
          "output_type": "stream",
          "name": "stdout",
          "text": [
            "{\"id\":\"2020-08-31/ford-to-cut-north-american-salaried-jobs-in-latest-overhaul-move\",\"title\":\"Ford to Cut 1,000 North America Salaried Jobs Amid Overhaul\",\"summary\":\"\",\"secondaryBrands\":[\"business\"],\"internalID\":\"QFY0Y6T0AFB501\",\"byline\":\"Keith Naughton\",\"archived\":true,\"longURL\":\"https://www.bloomberg.com/news/articles/2020-08-31/ford-to-cut-north-american-salaried-jobs-in-latest-overhaul-move\",\"shortURL\":\"https://www.bloomberg.com/news/articles/2020-08-31/ford-to-cut-north-american-salaried-jobs-in-latest-overhaul-move\",\"authoredRegion\":\"AMER\",\"primarySite\":\"bbiz\",\"brand\":\"business\",\"primaryCategory\":\"World\",\"attributor\":\"bn\",\"published\":1598909245,\"updatedAt\":1598912183,\"resourceType\":\"Story\",\"resourceId\":\"QFY0Y6T0AFB501\",\"wordCount\":466,\"premium\":false,\"readings\":[{\"url\":\"https://assets.bwbx.io/s3/readings/QFY6VRT1UM1D1598973111062.mp3\",\"voice\":\"Matthew\",\"durationMs\":162090}],\"type\":\"article\",\"card\":\"article\",\"abstract\":[\"Automaker forecasting loss in third year of restructuring\",\"BMW also plans to eliminate white-collar positions in U.S.\"],\"adParams\":{\"dfpTarget\":{\"ni\":\"AUT,AUTOMOTIVE,BUSINESS,EQUITYKEY,ESGRES,NRGKEY,TRN\",\"kwl\":\"biz_barclays,biz_cartier,biz_ishares,biz_Samsung,biz_wellsfargosept,biz_googlelist,biz_googlelisttwo,biz_atrocity,biz_schwab,biz_fidelity,biz_ibm3,biz_microsoft,biz_fti,biz_BMW,biz_mobkoimandslist,biz_tdameritrade,biz_att2,biz_att6,biz_facebook1,biz_facebook2,biz_mulberry,biz_msft,biz_BMWRecall,biz_Fidelity_investopedia,biz_hsbcpb,biz_jpmorgan,biz_ishares2,biz_morg,biz_morgan1,biz_obor_scb2018,biz_mobkoivca,biz_citi2019,biz_optum,biz_mobkoirichemont19,biz_kpmg,biz_mobkoidyson,biz_ke_apac,biz_scb_apac,biz_socgenoctnov19,biz_wellspop,biz_porsche,biz_mobkoipublisher,biz_msft2020,biz_JH_APAC_2020,biz_burberryhk,biz_mobkoicartier,biz_ukdit,biz_coronavirus,biz_porsche2020,biz_kpmgpg,biz_mobkoifacebookpolicyaffairs,biz_comcast,biz_ptarmiganapac2020,biz_mstouts2020,biz_barc1,biz_jpmpg,biz_westpac,biz_signet,biz_gsmarcus,biz_cartier3,biz_diageo,biz_mobkoiaudermars,biz_signet2,biz_mobkoiintel,biz_xaxiscartierhk,biz_sabic2020,biz_socgen2020,biz_mobkoiveuve,biz_vbcbreezethmobkoi,biz_vancleef,biz_vancleef1,biz_microsoftnov,biz_mobkoibulgari,biz_microsoftjan2021,biz_vca,biz_mobkoiintel2,biz_mobkoicastrol,biz_ibm2,biz_ford,biz_amazon,biz_atandt,biz_stb2021,biz_facebookpgemea21,biz_mobkoiloropiana,biz_vacheron_2021,biz_iwc_2021\",\"sites\":\"bbiz\",\"url\":\"/2020-08-31/ford-to-cut-north-american-salaried-jobs-in-latest-overhaul-move\"}},\"ledeImage\":{\"imageURLs\":{\"default\":\"https://assets.bwbx.io/images/users/iqjWHBFdfxIU/ikeuVtot2Z_w/v0/600x-1.jpg\",\"large\":\"https://assets.bwbx.io/images/users/iqjWHBFdfxIU/ikeuVtot2Z_w/v0/-1x-1.jpg\"},\"caption\":\"\",\"credit\":\"Photographer: Anthony Lanzilote/Bloomberg\"},\"securityIDs\":[\"F:US\"],\"topics\":[{\"id\":\"jobs\",\"name\":\"Jobs\",\"referringId\":\"mobile://topics/jobs\"}],\"components\":[{\"role\":\"p\",\"parts\":[{\"role\":\"anchor\",\"parts\":[{\"role\":\"text\",\"text\":\"Ford Motor Co.\",\"security\":{\"text\":\"Ford Motor Co. (F)\",\"ticker\":\"F:US\",\"template\":\"Stock\",\"name\":\"Ford Motor Co\",\"tickerName\":\"F:US\",\"watchlist\":true,\"symbol\":\"F\",\"eqtIndex\":false}}]},{\"role\":\"text\",\"text\":\" is preparing to trim about 1,000 salaried jobs in North America, looking to its home market for savings as part of an $11 billion \"},{\"role\":\"anchor\",\"parts\":[{\"role\":\"text\",\"text\":\"global restructuring\"}]},{\"role\":\"text\",\"text\":\" begun two years ago as it projects an operating loss this year.\"}]},{\"role\":\"p\",\"parts\":[{\"role\":\"text\",\"text\":\"The job cuts are aimed at improving the automaker’s efficiency and are not related to rising costs from the coronavirus pandemic, said people familiar with the action on Monday who asked not to be identified revealing internal plans. An announcement could come as early as this week, the people said.\"}]},{\"role\":\"p\",\"parts\":[{\"role\":\"text\",\"text\":\"Ford is in the midst of a \"},{\"role\":\"anchor\",\"parts\":[{\"role\":\"text\",\"text\":\"sweeping reorganization\"}]},{\"role\":\"text\",\"text\":\" as it seeks to reverse declining fortunes and achieve what Chief Executive Officer \"},{\"role\":\"text\",\"text\":\"Jim Hackett\"},{\"role\":\"text\",\"text\":\" calls financial “fitness.” The company expects to report a \"},{\"role\":\"anchor\",\"parts\":[{\"role\":\"text\",\"text\":\"full-year operating loss\"}]},{\"role\":\"text\",\"text\":\" for the first time in a decade.\"}]},{\"role\":\"p\",\"parts\":[{\"role\":\"text\",\"text\":\"Last year, Ford closed plants and eliminated \"},{\"role\":\"anchor\",\"parts\":[{\"role\":\"text\",\"text\":\"thousands of jobs\"}]},{\"role\":\"text\",\"text\":\" in Europe, where it has been \"},{\"role\":\"anchor\",\"parts\":[{\"role\":\"text\",\"text\":\"losing money\"}]},{\"role\":\"text\",\"text\":\". In North America -- the automaker’s \"},{\"role\":\"anchor\",\"parts\":[{\"role\":\"text\",\"text\":\"most profitable region\"}]},{\"role\":\"text\",\"text\":\" thanks to \"},{\"role\":\"anchor\",\"parts\":[{\"role\":\"text\",\"text\":\"F-Series pickups\"}]},{\"role\":\"text\",\"text\":\" -- the cutbacks are smaller and are expected to come in the form of voluntary buyouts. They are in addition to 2,300 previously announced salaried job reductions in the U.S. during Hackett’s tenure.\"}]},{\"role\":\"p\",\"parts\":[{\"role\":\"text\",\"text\":\"Ford \"},{\"role\":\"anchor\",\"parts\":[{\"role\":\"text\",\"text\":\"cut 7,000 salaried positions\"}]},{\"role\":\"text\",\"text\":\" worldwide last year in the first round of the global overhaul. Those reductions were expected to save the company $600 million a year. The carmaker had a worldwide workforce of 190,000 people at the end of 2019.\"}]},{\"role\":\"p\",\"parts\":[{\"role\":\"text\",\"text\":\"A Ford spokesman declined to comment on the latest cuts.\"}]},{\"role\":\"h3\",\"parts\":[{\"role\":\"text\",\"text\":\"BMW Cuts\"}]},{\"role\":\"p\",\"parts\":[{\"role\":\"text\",\"text\":\"The pain of the pandemic also is being \"},{\"role\":\"text\",\"parts\":[{\"role\":\"text\",\"text\":\"felt\"}]},{\"role\":\"text\",\"text\":\" keenly elsewhere in the auto industry, with \"},{\"role\":\"anchor\",\"parts\":[{\"role\":\"text\",\"text\":\"BMW AG\",\"security\":{\"text\":\"BMW AG (BMW)\",\"ticker\":\"BMW:GR\",\"template\":\"Stock\",\"name\":\"Bayerische Motoren Werke AG\",\"tickerName\":\"BMW:GR\",\"watchlist\":true,\"symbol\":\"BMW\",\"eqtIndex\":false}}]},{\"role\":\"text\",\"text\":\" planning \"},{\"role\":\"anchor\",\"parts\":[{\"role\":\"text\",\"text\":\"unspecified cuts\"}],\"text\":\"unspecified cuts\"},{\"role\":\"text\",\"text\":\" to its U.S. salaried workforce to cope. The German automaker is reducing headcount “to align with current market conditions,” a spokesman said Monday. BMW’s sales in North America slid almost 40% in the second quarter.\"}]},{\"role\":\"p\",\"parts\":[{\"role\":\"text\",\"text\":\"Ford’s latest retrenchment comes as Hackett prepares to retire and make way for \"},{\"role\":\"text\",\"text\":\"Jim Farley\"},{\"role\":\"text\",\"text\":\", who \"},{\"role\":\"anchor\",\"parts\":[{\"role\":\"text\",\"text\":\"becomes CEO Oct. 1\"}]},{\"role\":\"text\",\"text\":\". Farley has promised to “\"},{\"role\":\"anchor\",\"parts\":[{\"role\":\"text\",\"text\":\"swing for the fences\"}]},{\"role\":\"text\",\"text\":\"” and return Ford’s North American region to a 10% profit margin. His first big test will be the \"},{\"role\":\"anchor\",\"parts\":[{\"role\":\"text\",\"text\":\"complicated launch\"}]},{\"role\":\"text\",\"text\":\" of a redesigned version of the cash-cow F-150 pickup at two U.S. factories.\"}]},{\"role\":\"p\",\"parts\":[{\"role\":\"text\",\"text\":\"Farley, who helped guide the company through a \"},{\"role\":\"anchor\",\"parts\":[{\"role\":\"text\",\"text\":\"two-month shutdown\"}]},{\"role\":\"text\",\"text\":\" at the outset of the pandemic, has said he sees a resolve in the workforce reminscent of the \"},{\"role\":\"anchor\",\"parts\":[{\"role\":\"text\",\"text\":\"company’s existential crisis\"}]},{\"role\":\"text\",\"text\":\" during the Great Recession of 2009.\"}]},{\"role\":\"p\",\"parts\":[{\"role\":\"text\",\"text\":\"“Everyone at Ford knows the situation we’re in,” Farley said just before becoming chief operating officer March 1. “I can see it on the faces of my colleagues and it takes me back to about 10 years ago. I’ve seen the look before.”\"}]},{\"role\":\"p\",\"parts\":[{\"role\":\"text\",\"text\":\"The new round of white-collar job eliminations was first reported by StreetInsider.com.\"}]},{\"role\":\"correction\",\"parts\":[{\"role\":\"text\",\"text\":\"(\"},{\"role\":\"text\",\"parts\":[{\"role\":\"text\",\"text\":\"Upates with BMW job cuts in U.S. from seventh paragraph\"}]},{\"role\":\"text\",\"text\":\")\"}]}],\"themedImages\":[],\"newsletterToutLabel\":\"null\",\"isMetered\":false,\"disableAds\":false,\"contentTags\":[{\"id\":\"auto-industry\",\"type\":\"Topic\",\"derivedScore\":0.42597402597402595,\"directScore\":0.42597402597402595},{\"id\":\"coronavirus\",\"type\":\"Topic\",\"derivedScore\":0.87569573283859,\"directScore\":0.87569573283859},{\"id\":\"jobs\",\"type\":\"Topic\",\"derivedScore\":7.176569309667624,\"directScore\":7.176569309667624},{\"id\":\"north-america\",\"type\":\"Location\",\"derivedScore\":8.370094033282694,\"directScore\":8.370094033282694},{\"id\":\"Europe\",\"type\":\"Region\",\"derivedScore\":1.4165950161838854,\"directScore\":0.6853432282003711},{\"id\":\"5304530\",\"type\":\"Person\",\"derivedScore\":0.8797773654916512,\"directScore\":0.8797773654916512},{\"id\":\"1440080\",\"type\":\"Person\",\"derivedScore\":1.6415584415584417,\"directScore\":1.6415584415584417},{\"id\":\"BMW:GR\",\"type\":\"Company\",\"derivedScore\":1.224860853432282,\"directScore\":1.224860853432282},{\"id\":\"F:US\",\"type\":\"Company\",\"derivedScore\":4,\"directScore\":4},{\"id\":\"healthcare\",\"type\":\"Classification\",\"derivedScore\":0.87569573283859,\"directScore\":0},{\"id\":\"US\",\"type\":\"Region\",\"derivedScore\":4,\"directScore\":0},{\"id\":\"consumer-discretionary\",\"type\":\"Topic\",\"derivedScore\":4.187535513783858,\"directScore\":0},{\"id\":\"US\",\"type\":\"Country\",\"derivedScore\":4,\"directScore\":0},{\"id\":\"DE\",\"type\":\"Country\",\"derivedScore\":1.224860853432282,\"directScore\":0}]}\n"
          ]
        }
      ]
    },
    {
      "cell_type": "code",
      "metadata": {
        "cellView": "form",
        "id": "5s6AsvseE6vY"
      },
      "source": [
        "#@title\n",
        "!mkdir cg\n",
        "!cd cg"
      ],
      "execution_count": null,
      "outputs": []
    }
  ]
}